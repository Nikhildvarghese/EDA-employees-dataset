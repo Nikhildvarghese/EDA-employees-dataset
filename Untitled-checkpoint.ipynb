{
 "cells": [
  {
   "cell_type": "code",
   "execution_count": 5,
   "id": "e584fb9a-6f87-408c-bea0-0c09dfab778a",
   "metadata": {},
   "outputs": [],
   "source": [
    "variable=0\n"
   ]
  },
  {
   "cell_type": "code",
   "execution_count": 6,
   "id": "2a43463f-b80e-4087-bf50-2e941bdf3de7",
   "metadata": {
    "scrolled": true
   },
   "outputs": [
    {
     "name": "stdout",
     "output_type": "stream",
     "text": [
      "0\n"
     ]
    }
   ],
   "source": [
    "print(variable)"
   ]
  },
  {
   "cell_type": "code",
   "execution_count": 7,
   "id": "5567c6f0-c8aa-4d0a-943b-b87859468462",
   "metadata": {},
   "outputs": [
    {
     "data": {
      "text/plain": [
       "int"
      ]
     },
     "execution_count": 7,
     "metadata": {},
     "output_type": "execute_result"
    }
   ],
   "source": [
    "type(variable)"
   ]
  },
  {
   "cell_type": "code",
   "execution_count": 1,
   "id": "2a2ea7f5-2649-41b7-86d9-eb472bd5b824",
   "metadata": {},
   "outputs": [
    {
     "name": "stdout",
     "output_type": "stream",
     "text": [
      "Hello world\n"
     ]
    }
   ],
   "source": [
    "print(\"Hello world\")"
   ]
  },
  {
   "cell_type": "code",
   "execution_count": 2,
   "id": "80f5cffe-d271-43f4-8e8a-adc6298d6ace",
   "metadata": {},
   "outputs": [],
   "source": [
    "age=20\n",
    "weight=50\n",
    "weight1=50"
   ]
  },
  {
   "cell_type": "code",
   "execution_count": null,
   "id": "b15f1459-43f9-4af0-9ae8-c4bc461ffcbc",
   "metadata": {},
   "outputs": [],
   "source": []
  },
  {
   "cell_type": "code",
   "execution_count": null,
   "id": "41c68c2e-6fa8-401e-b19d-dd8b2eade1ba",
   "metadata": {},
   "outputs": [],
   "source": [
    "#membership operators is,is not, not in"
   ]
  },
  {
   "cell_type": "code",
   "execution_count": null,
   "id": "ef1cedd2-b0ea-4e19-8d58-558756e1816c",
   "metadata": {},
   "outputs": [],
   "source": [
    "# string manupalation"
   ]
  },
  {
   "cell_type": "code",
   "execution_count": null,
   "id": "2e6e1448-25c1-461f-b7de-a2a115d95ad7",
   "metadata": {},
   "outputs": [],
   "source": []
  },
  {
   "cell_type": "code",
   "execution_count": 52,
   "id": "c8de0fae-d17f-470f-91a7-275bb3d18194",
   "metadata": {},
   "outputs": [],
   "source": [
    " data_science='''Executive pg programme in data science from IIITB, India's leading institute.learners from our iiitb data science program have received an average salary hike of 58%.\n",
    "NASSCOM certificate · IIIT-B Alumni Status · Exploratory Data Analysis'''"
   ]
  },
  {
   "cell_type": "code",
   "execution_count": 5,
   "id": "ef1d0b67-4153-4506-96ef-139931b9702a",
   "metadata": {},
   "outputs": [
    {
     "data": {
      "text/plain": [
       "str"
      ]
     },
     "execution_count": 5,
     "metadata": {},
     "output_type": "execute_result"
    }
   ],
   "source": [
    "type(data_science)"
   ]
  },
  {
   "cell_type": "code",
   "execution_count": 57,
   "id": "4f6437b9-4df5-428d-bca0-4679add23d60",
   "metadata": {},
   "outputs": [
    {
     "data": {
      "text/plain": [
       "\"Executive pg programme in data science from iiitb, india's leading institute.learners from our iiitb data science program have received an average salary hike of 58%.\\nnasscom certificate · iiit-b alumni status · exploratory data analysis\""
      ]
     },
     "execution_count": 57,
     "metadata": {},
     "output_type": "execute_result"
    }
   ],
   "source": [
    "data_science.capitalize()"
   ]
  },
  {
   "cell_type": "code",
   "execution_count": 25,
   "id": "6478f49d-f130-40b7-8441-ecbb700a28d6",
   "metadata": {},
   "outputs": [
    {
     "data": {
      "text/plain": [
       "238"
      ]
     },
     "execution_count": 25,
     "metadata": {},
     "output_type": "execute_result"
    }
   ],
   "source": [
    "len(data_science)"
   ]
  },
  {
   "cell_type": "code",
   "execution_count": 58,
   "id": "665cfcb1-29a1-4e41-931f-ffc4d4847b70",
   "metadata": {},
   "outputs": [
    {
     "data": {
      "text/plain": [
       "\"executive pg programme in data science from iiitb, india's leading institute.learners from our iiitb data science program have received an average salary hike of 58%.\\nnasscom certificate · iiit-b alumni status · exploratory data analysis\""
      ]
     },
     "execution_count": 58,
     "metadata": {},
     "output_type": "execute_result"
    }
   ],
   "source": [
    "data_science.casefold()"
   ]
  },
  {
   "cell_type": "code",
   "execution_count": null,
   "id": "19d37483-9efb-4842-ade8-2b4ad7a0dd3f",
   "metadata": {},
   "outputs": [],
   "source": []
  },
  {
   "cell_type": "code",
   "execution_count": 1,
   "id": "048cb08b-05d5-4993-874e-eda094444538",
   "metadata": {},
   "outputs": [
    {
     "name": "stdout",
     "output_type": "stream",
     "text": [
      "0 <class 'int'>\n"
     ]
    }
   ],
   "source": [
    "# int(input(\"enter the age\")\n",
    "w=0.9\n",
    "w1=int(w)\n",
    "print(w1,type(w1))"
   ]
  },
  {
   "cell_type": "code",
   "execution_count": 2,
   "id": "3ae657a4-f3cd-442e-b9a9-c1cb72315def",
   "metadata": {},
   "outputs": [
    {
     "name": "stdin",
     "output_type": "stream",
     "text": [
      "enter the second mark 4\n"
     ]
    },
    {
     "data": {
      "text/plain": [
       "4"
      ]
     },
     "execution_count": 2,
     "metadata": {},
     "output_type": "execute_result"
    }
   ],
   "source": [
    "mark1=0\n",
    "mark2=int(input(\"enter the second mark\"))\n",
    "mark1+mark2"
   ]
  },
  {
   "cell_type": "code",
   "execution_count": null,
   "id": "d8a635be-f94b-4c56-be92-47922bf0ac6c",
   "metadata": {},
   "outputs": [],
   "source": [
    "r=int(input(\"enter the radius\"))\n",
    "b=int(input(\"enter the base\"))\n",
    "h=int(input(\"enter the height\")) \n",
    "circle=3.14*r**2\n",
    "triangle=.5*b*h\n",
    "print(f'the rea of the circe is {circle} and the area of the trianle is {int(triangle)}')"
   ]
  },
  {
   "cell_type": "code",
   "execution_count": null,
   "id": "01b5cf77-967f-44f9-bf6b-35233fcda4fc",
   "metadata": {},
   "outputs": [],
   "source": []
  },
  {
   "cell_type": "code",
   "execution_count": null,
   "id": "addc8dbb-50ba-4083-af3a-c7bc506cafc9",
   "metadata": {},
   "outputs": [],
   "source": []
  },
  {
   "cell_type": "code",
   "execution_count": null,
   "id": "04f67e77-2217-41e8-8e27-c853dad10860",
   "metadata": {},
   "outputs": [],
   "source": [
    "ages= "
   ]
  },
  {
   "cell_type": "code",
   "execution_count": null,
   "id": "96574809-9463-4456-8a1e-ea163466b962",
   "metadata": {},
   "outputs": [],
   "source": []
  },
  {
   "cell_type": "code",
   "execution_count": null,
   "id": "0849a30b-34dd-4b2b-8d6a-626a4a52c2c9",
   "metadata": {},
   "outputs": [],
   "source": []
  },
  {
   "cell_type": "code",
   "execution_count": 5,
   "id": "b4b294f8-0f1c-4b0c-bdc0-e32b5c1a80c5",
   "metadata": {},
   "outputs": [],
   "source": [
    "student_info={\n",
    "            'st_id':[1,2,3,4,5,6,7,8,9,10],\n",
    "            'name':['Aishwara','Akhila','Aparna','Chandru','Milind','pavitra',\n",
    "                    'jayananth','Thillai','kavita',\n",
    "                   'Khushi'],\n",
    "            'marks':[50,40,80,70,60,90,70,80,60,70]\n",
    "    \n",
    "}"
   ]
  },
  {
   "cell_type": "code",
   "execution_count": 3,
   "id": "67803a8c-c94b-450a-82cf-850d9b10f8bf",
   "metadata": {},
   "outputs": [
    {
     "data": {
      "text/plain": [
       "dict"
      ]
     },
     "execution_count": 3,
     "metadata": {},
     "output_type": "execute_result"
    }
   ],
   "source": [
    "type(student_info)"
   ]
  },
  {
   "cell_type": "code",
   "execution_count": 12,
   "id": "87c46e69-81d6-4dcd-8da5-d79890fe2429",
   "metadata": {},
   "outputs": [],
   "source": [
    "student_info['name'][4]=student_info['name'][4].capitalize()"
   ]
  },
  {
   "cell_type": "code",
   "execution_count": 13,
   "id": "83993eb6-07ee-4a2c-a99d-67c5551552bd",
   "metadata": {},
   "outputs": [
    {
     "data": {
      "text/plain": [
       "True"
      ]
     },
     "execution_count": 13,
     "metadata": {},
     "output_type": "execute_result"
    }
   ],
   "source": [
    "'Milind' in student_info['name']"
   ]
  },
  {
   "cell_type": "code",
   "execution_count": 15,
   "id": "988e3e25-51ab-4baf-944c-fb926fe64a7d",
   "metadata": {},
   "outputs": [
    {
     "data": {
      "text/plain": [
       "[50, 40, 80, 70, 60, 90, 70, 80, 60, 70]"
      ]
     },
     "execution_count": 15,
     "metadata": {},
     "output_type": "execute_result"
    }
   ],
   "source": [
    "student_info['marks']"
   ]
  },
  {
   "cell_type": "code",
   "execution_count": 18,
   "id": "e1c787d3-958c-4481-b6ec-b9d7cec2d166",
   "metadata": {},
   "outputs": [
    {
     "data": {
      "text/plain": [
       "67.0"
      ]
     },
     "execution_count": 18,
     "metadata": {},
     "output_type": "execute_result"
    }
   ],
   "source": [
    "sum(student_info['marks'])/len(student_info['marks'])"
   ]
  },
  {
   "cell_type": "code",
   "execution_count": 26,
   "id": "65bac8a9-6213-4cfc-9f4e-210ecd388ccb",
   "metadata": {},
   "outputs": [
    {
     "data": {
      "text/plain": [
       "10"
      ]
     },
     "execution_count": 26,
     "metadata": {},
     "output_type": "execute_result"
    }
   ],
   "source": [
    "A,B=10,20\n",
    "price1=10 if A<B else 20\n",
    "price1"
   ]
  },
  {
   "cell_type": "code",
   "execution_count": 6,
   "id": "31d3038d-d83b-4038-964a-518ce7773031",
   "metadata": {},
   "outputs": [
    {
     "name": "stdout",
     "output_type": "stream",
     "text": [
      "[6, 12, 8, 12, 5]\n"
     ]
    }
   ],
   "source": [
    "marks=[3,6,4,6,5]\n",
    "for i in range(0,len(marks)-1) :\n",
    "    marks[i]=marks[i]*2\n",
    "print(marks)"
   ]
  },
  {
   "cell_type": "code",
   "execution_count": 9,
   "id": "033e2c9c-2c82-4c40-9f96-eb702bc8a4b6",
   "metadata": {},
   "outputs": [
    {
     "name": "stdout",
     "output_type": "stream",
     "text": [
      "1\n",
      "2\n",
      "3\n",
      "4\n",
      "5\n"
     ]
    }
   ],
   "source": [
    "for i in range(1,11):\n",
    "    if i==6:\n",
    "        break\n",
    "    print(i)\n"
   ]
  },
  {
   "cell_type": "code",
   "execution_count": 11,
   "id": "f4fbadba-9f81-44cb-807e-43014040b1cc",
   "metadata": {},
   "outputs": [
    {
     "name": "stdout",
     "output_type": "stream",
     "text": [
      "1\n",
      "2\n",
      "3\n",
      "4\n",
      "5\n",
      "now i is 6\n",
      "7\n",
      "8\n",
      "9\n",
      "10\n"
     ]
    }
   ],
   "source": [
    "for i in range(1,11):\n",
    "    if i==6:\n",
    "        print('now i is 6')\n",
    "        continue\n",
    "    print(i)\n"
   ]
  },
  {
   "cell_type": "code",
   "execution_count": 13,
   "id": "84fbc1ce-5743-4bf0-9bd8-4b8a2762b4f1",
   "metadata": {},
   "outputs": [
    {
     "name": "stdout",
     "output_type": "stream",
     "text": [
      "0\n",
      "1\n",
      "2\n",
      "3\n",
      "4\n",
      "5\n",
      "6\n",
      "7\n",
      "8\n",
      "9\n",
      "10\n"
     ]
    }
   ],
   "source": [
    "for i in range(0,11):\n",
    "    if i==1:\n",
    "        pass\n",
    "    print(i)   "
   ]
  },
  {
   "cell_type": "code",
   "execution_count": 2,
   "id": "4117161a-c9af-4e99-8fd3-ae99aa4ebc7f",
   "metadata": {},
   "outputs": [],
   "source": [
    "student_marks=[\n",
    "        {'name':'mrunal',\n",
    "        'age':34,\n",
    "        'marks':[2,3,4,5,6,7],\n",
    "        'subject':['eng','math','science','chem','phy','bio']\n",
    "},\n",
    "        {'name':'sundar',\n",
    "        'age':34,\n",
    "        'marks':[2,3,4,2,6,7],\n",
    "        'subject':['eng','math','science','chem','phy','bio']\n",
    "},\n",
    "        {'name':'mrinda',\n",
    "        'age':34,\n",
    "        'marks':[2,3,4,5,9,7],\n",
    "        'subject':['eng','math','science','chem','phy','bio']\n",
    "}\n",
    "\n",
    "\n",
    "    \n",
    "]"
   ]
  },
  {
   "cell_type": "code",
   "execution_count": 64,
   "id": "b3d9903b-3973-497b-9366-e3a2aca6ec75",
   "metadata": {},
   "outputs": [
    {
     "name": "stdout",
     "output_type": "stream",
     "text": [
      "bio\n",
      "bio\n",
      "phy\n"
     ]
    }
   ],
   "source": [
    "for i in range(len(student_marks)):\n",
    "    ind=student_marks[i]['marks'].index(max(student_marks[i]['marks']))\n",
    "    sub=student_marks[i]['subject'][ind]\n",
    "    print(sub)"
   ]
  },
  {
   "cell_type": "code",
   "execution_count": 78,
   "id": "ba53a9b1-5067-4456-a18f-bb09ea8ba6d8",
   "metadata": {},
   "outputs": [
    {
     "name": "stdout",
     "output_type": "stream",
     "text": [
      "mrunal:7:bio\n",
      "sundar:7:bio\n",
      "mrinda:9:phy\n"
     ]
    }
   ],
   "source": [
    "\n",
    "for i in range(len(student_marks)):\n",
    "    ind=student_marks[i]['marks'].index(max(student_marks[i]['marks']))\n",
    "    print('{}:{}:{}'.format(student_marks[i]['name'],max(student_marks[i]['marks'])\n",
    "                            ,student_marks[i]['subject'][ind] ))\n"
   ]
  },
  {
   "cell_type": "code",
   "execution_count": null,
   "id": "181e0ebf-5306-4de0-b928-3af9ec32e5e4",
   "metadata": {},
   "outputs": [],
   "source": [
    "sum1=input()\n",
    "sum=1\n",
    "for k in sum1:\n",
    "    sum*=int(k)\n",
    "print(sum)\n",
    "    "
   ]
  },
  {
   "cell_type": "code",
   "execution_count": 5,
   "id": "e68f8fea-4a19-46b1-8a56-c0ce24816ed2",
   "metadata": {},
   "outputs": [
    {
     "name": "stdout",
     "output_type": "stream",
     "text": [
      "[2, 3, 4, 5, 6, 7]\n",
      "[2, 3, 4, 2, 6, 7]\n",
      "[2, 3, 4, 5, 9, 7]\n"
     ]
    }
   ],
   "source": [
    "for i in student_marks:\n",
    "    if i['name']=='mrunal':\n",
    "        for j in student_marks:\n",
    "            print(j['marks'])"
   ]
  },
  {
   "cell_type": "code",
   "execution_count": 11,
   "id": "117feb6b-12ef-4c29-b96f-1dfe986afb8c",
   "metadata": {},
   "outputs": [
    {
     "name": "stdout",
     "output_type": "stream",
     "text": [
      "0 # # \n",
      "1 # # \n",
      "2 # # \n",
      "3 # # \n",
      "4 # # \n"
     ]
    }
   ],
   "source": [
    "i=5\n",
    "j=2\n",
    "for k in range(i):\n",
    "    print(k,end=' ')\n",
    "    for l in range(j):\n",
    "        print('#',end=' ')\n",
    "    print()    "
   ]
  },
  {
   "cell_type": "code",
   "execution_count": 12,
   "id": "5e303172-f9a3-4fc5-8f77-700348184699",
   "metadata": {},
   "outputs": [
    {
     "name": "stdout",
     "output_type": "stream",
     "text": [
      "s1 is present in k list\n",
      "s2 is present in k list\n",
      "s3 is present in k list\n",
      "s4 is present in k list\n",
      "s5 is present in k list\n",
      "s1 is present in k list\n",
      "s2 is present in k list\n",
      "s3 is present in k list\n",
      "s4 is present in k list\n",
      "s5 is present in k list\n",
      "s1 is present in k list\n",
      "s2 is present in k list\n",
      "s3 is present in k list\n",
      "s4 is present in k list\n",
      "s5 is present in k list\n",
      "s1 is present in k list\n",
      "s2 is present in k list\n",
      "s3 is present in k list\n",
      "s4 is present in k list\n",
      "s5 is present in k list\n",
      "s1 is present in k list\n",
      "s2 is present in k list\n",
      "s3 is present in k list\n",
      "s4 is present in k list\n",
      "s5 is present in k list\n",
      "0\n"
     ]
    }
   ],
   "source": [
    "k=[0,1,2,3,4]\n",
    "i=['s1','s2','s3','s4','s5']\n",
    "m=0\n",
    "for j in k:\n",
    "    if 's2' in i:\n",
    "        for d in i:\n",
    "            print(d,'is present in k list')\n",
    "    else:\n",
    "        for l in k:\n",
    "            m+=1\n",
    "print(m)\n",
    "    "
   ]
  },
  {
   "cell_type": "code",
   "execution_count": 31,
   "id": "3ed2c0d9-c1a4-4884-ae77-b6589603fc3b",
   "metadata": {},
   "outputs": [
    {
     "name": "stdout",
     "output_type": "stream",
     "text": [
      "\n",
      "1 \n",
      "1 2 \n",
      "1 2 3 \n",
      "1 2 3 4 \n",
      "1 2 3 4 5 \n",
      "1 2 3 4 5 6 \n"
     ]
    }
   ],
   "source": [
    "n=6\n",
    "for i in range(1,n+2):\n",
    "    for k in range(1,i):\n",
    "        print(k,end=' ')\n",
    "    print()"
   ]
  },
  {
   "cell_type": "code",
   "execution_count": 29,
   "id": "63d44735-5748-452c-8558-a570690abdf4",
   "metadata": {},
   "outputs": [
    {
     "name": "stdout",
     "output_type": "stream",
     "text": [
      "1 2 3 4 5 \n",
      "1 2 3 4 \n",
      "1 2 3 \n",
      "1 2 \n",
      "1 \n"
     ]
    }
   ],
   "source": [
    "\n",
    "for i in range(1,6):\n",
    "    for k in range(6-i):\n",
    "        print(k+1,end=' ')\n",
    "    print()"
   ]
  },
  {
   "cell_type": "code",
   "execution_count": 32,
   "id": "612c876f-b5d8-4e57-b18b-9f0e34561d55",
   "metadata": {},
   "outputs": [
    {
     "name": "stdout",
     "output_type": "stream",
     "text": [
      "\n",
      "1 \n",
      "1 2 \n",
      "1 2 3 \n",
      "1 2 3 4 \n",
      "1 2 3 4 5 \n",
      "1 2 3 4 5 6 \n",
      "1 2 3 4 5 \n",
      "1 2 3 4 \n",
      "1 2 3 \n",
      "1 2 \n",
      "1 \n"
     ]
    }
   ],
   "source": [
    "n=6\n",
    "for i in range(1,n+2):\n",
    "    for k in range(1,i):\n",
    "        print(k,end=' ')\n",
    "    print()\n",
    "\n",
    "for i in range(1,6):\n",
    "    for k in range(6-i):\n",
    "        print(k+1,end=' ')\n",
    "    print()"
   ]
  },
  {
   "cell_type": "code",
   "execution_count": 61,
   "id": "9857d291-2936-4d5b-877e-2d9e2172e7db",
   "metadata": {},
   "outputs": [
    {
     "name": "stdout",
     "output_type": "stream",
     "text": [
      "    \n",
      "   * \n",
      "  * * \n",
      " * * * \n",
      "* * * * \n"
     ]
    }
   ],
   "source": [
    "for i in range(5):\n",
    "    for b in range(1,5-i):\n",
    "        print(' ',end='')\n",
    "    for j in range(1,i+1):\n",
    "        print('*',end=' ')\n",
    "    print()\n",
    "    "
   ]
  },
  {
   "cell_type": "code",
   "execution_count": 86,
   "id": "3446e8ab-73d9-442c-8eba-5b81a3230b5e",
   "metadata": {},
   "outputs": [
    {
     "name": "stdout",
     "output_type": "stream",
     "text": [
      "    \n",
      "   * \n",
      "  * * \n",
      " * * * \n",
      "* * * * \n",
      " * * * \n",
      "  * * \n",
      "   * \n",
      "    \n"
     ]
    }
   ],
   "source": [
    "for i in range(4):\n",
    "    for b in range(1,5-i):\n",
    "        print(' ',end='')\n",
    "    for j in range(1,i+1):\n",
    "        print('*',end=' ')\n",
    "    print()\n",
    "for i in range(5):\n",
    "    for b in range(0,i):\n",
    "        print(' ',end='')\n",
    "    for j in range(1,5-i):\n",
    "        print('*',end=' ')\n",
    "    print()\n"
   ]
  },
  {
   "cell_type": "code",
   "execution_count": 87,
   "id": "ad48448b-2a6b-47ee-93db-acd225b9626d",
   "metadata": {},
   "outputs": [
    {
     "name": "stdout",
     "output_type": "stream",
     "text": [
      "1\n",
      "2\n",
      "3\n",
      "4\n",
      "5\n",
      "6\n",
      "7\n",
      "8\n",
      "9\n",
      "10\n",
      "11\n"
     ]
    }
   ],
   "source": [
    "i=1\n",
    "while(i<=11):\n",
    "    print(i)\n",
    "    i=i+1"
   ]
  },
  {
   "cell_type": "code",
   "execution_count": null,
   "id": "61a31fc4-a3e6-4abc-a6b0-705cd3e16d5b",
   "metadata": {},
   "outputs": [],
   "source": [
    "i=1"
   ]
  },
  {
   "cell_type": "code",
   "execution_count": null,
   "id": "0f531eae-08fb-4955-983e-e315f39e1dd1",
   "metadata": {},
   "outputs": [],
   "source": [
    "i=1\n",
    "while i<=2:\n",
    "    j=1\n",
    "    \n",
    "    while j<5:\n",
    "        print(j)\n",
    "        j=j+1\n",
    "    print(j)"
   ]
  },
  {
   "cell_type": "code",
   "execution_count": 1,
   "id": "52d4a43a-d9d2-45b6-b6b4-2fff3ac7f67c",
   "metadata": {},
   "outputs": [
    {
     "name": "stdout",
     "output_type": "stream",
     "text": [
      "* \n",
      "* * \n",
      "* * * \n",
      "* * * * \n",
      "* * * * * \n",
      "* * * * * * \n",
      "* * * * * * * \n",
      "* * * * * * * * \n",
      "* * * * * * * * * \n",
      "* * * * * * * * * * \n"
     ]
    }
   ],
   "source": [
    "i=1\n",
    "while i<=10:\n",
    "    j=1\n",
    "    while j<=i:\n",
    "        print('*',end=' ')\n",
    "        j=j+1\n",
    "    print()\n",
    "    i=i+1"
   ]
  },
  {
   "cell_type": "code",
   "execution_count": 4,
   "id": "c66ffb4b-a202-4f3f-838f-d34a9433cff9",
   "metadata": {},
   "outputs": [
    {
     "name": "stdout",
     "output_type": "stream",
     "text": [
      "    * \n",
      "   * * \n",
      "  * * * \n",
      " * * * * \n",
      "* * * * * \n"
     ]
    }
   ],
   "source": [
    "i=1\n",
    "while i<=5:\n",
    "    j=1\n",
    "    while j<=5-i:\n",
    "        print(' ',end='')\n",
    "        j=j+1\n",
    "    k=1\n",
    "    while k<=i:\n",
    "        print('*',end=' ')\n",
    "        k=k+1\n",
    "    print()\n",
    "    i=i+1\n"
   ]
  },
  {
   "cell_type": "code",
   "execution_count": 6,
   "id": "317e10e7-d49e-4459-b6a2-b3763cf61803",
   "metadata": {},
   "outputs": [
    {
     "name": "stdout",
     "output_type": "stream",
     "text": [
      "    * \n",
      "   * * \n",
      "  * * * \n",
      " * * * * \n",
      "* * * * * \n",
      " * * * * \n",
      "  * * * \n",
      "   * * \n",
      "    * \n",
      "     \n"
     ]
    }
   ],
   "source": [
    "i=1\n",
    "while i<=5:\n",
    "    j=1\n",
    "    while j<=5-i:\n",
    "        print(' ',end='')\n",
    "        j=j+1\n",
    "    k=1\n",
    "    while k<=i:\n",
    "        print('*',end=' ')\n",
    "        k=k+1\n",
    "    print()\n",
    "    i=i+1\n",
    "i=1\n",
    "while i<=5:\n",
    "    j=1\n",
    "    while j<=i:\n",
    "        print(' ',end='')\n",
    "        j=j+1\n",
    "    k=1\n",
    "    while k<=5-i:\n",
    "        print('*',end=' ')\n",
    "        k=k+1\n",
    "    print()\n",
    "    i=i+1"
   ]
  },
  {
   "cell_type": "code",
   "execution_count": 8,
   "id": "360895e1-996f-476c-8bc2-d94f0f0344a3",
   "metadata": {},
   "outputs": [
    {
     "name": "stdout",
     "output_type": "stream",
     "text": [
      "hai hello\n"
     ]
    }
   ],
   "source": [
    "def greet(name):\n",
    "    print('hai',name)\n",
    "greet('hello')"
   ]
  },
  {
   "cell_type": "code",
   "execution_count": 9,
   "id": "73088076-fa3f-4f99-8281-19cfbfd53d14",
   "metadata": {},
   "outputs": [
    {
     "name": "stdout",
     "output_type": "stream",
     "text": [
      "hai hello\n"
     ]
    }
   ],
   "source": [
    "def greet(name='hello'):\n",
    "    print('hai',name)\n",
    "greet()"
   ]
  },
  {
   "cell_type": "code",
   "execution_count": 10,
   "id": "ea26ac79-0d7f-45c7-9b17-a54d6b43eced",
   "metadata": {},
   "outputs": [
    {
     "name": "stdout",
     "output_type": "stream",
     "text": [
      "hai mjdj\n"
     ]
    }
   ],
   "source": [
    "def greet(name='hello'):\n",
    "    print('hai',name)\n",
    "greet('mjdj')"
   ]
  },
  {
   "cell_type": "code",
   "execution_count": 15,
   "id": "a22d806a-8778-40a3-83c4-b691bc34d9fc",
   "metadata": {},
   "outputs": [],
   "source": [
    "def add(a,b):\n",
    "    c=a+b\n",
    "    return c\n",
    "    "
   ]
  },
  {
   "cell_type": "code",
   "execution_count": 16,
   "id": "001531b1-5806-442b-bc03-3204dc12b4d9",
   "metadata": {},
   "outputs": [
    {
     "data": {
      "text/plain": [
       "3"
      ]
     },
     "execution_count": 16,
     "metadata": {},
     "output_type": "execute_result"
    }
   ],
   "source": [
    "add(1,2)"
   ]
  },
  {
   "cell_type": "code",
   "execution_count": null,
   "id": "a9cf0a7b-a3e9-4030-80d6-4d0a9eda9c6b",
   "metadata": {},
   "outputs": [],
   "source": [
    "calculator()"
   ]
  },
  {
   "cell_type": "code",
   "execution_count": null,
   "id": "488510eb-95ec-4b16-9685-5b04396663df",
   "metadata": {},
   "outputs": [],
   "source": []
  },
  {
   "cell_type": "code",
   "execution_count": null,
   "id": "d494bf69-47ab-4121-82b5-545aa01791d1",
   "metadata": {},
   "outputs": [],
   "source": []
  },
  {
   "cell_type": "code",
   "execution_count": 20,
   "id": "481e5298-86e0-4dcc-9f08-70057fa736d0",
   "metadata": {},
   "outputs": [],
   "source": [
    "def calculator(a,b):\n",
    "    '''this works as a calculator'''\n",
    "    c=a+b\n",
    "    d=a-b\n",
    "    e=a*b\n",
    "    f=a/b\n",
    "    l=[c,d,e,f]\n",
    "    print('the sum is',c)\n",
    "    print('the dif is',d)\n",
    "    print('the mul is',e)\n",
    "    print('the div is',f)\n"
   ]
  },
  {
   "cell_type": "code",
   "execution_count": 19,
   "id": "460e66a4-6e2b-42f1-baec-84ff3ceedc46",
   "metadata": {},
   "outputs": [
    {
     "name": "stdout",
     "output_type": "stream",
     "text": [
      "the sum is 3\n",
      "the dif is -1\n",
      "the mul is 2\n",
      "the div is 0.5\n"
     ]
    }
   ],
   "source": [
    "calculator(1,2)"
   ]
  },
  {
   "cell_type": "code",
   "execution_count": null,
   "id": "df6d1801-e820-456f-9d0d-b3ac3dd09bb1",
   "metadata": {},
   "outputs": [],
   "source": []
  },
  {
   "cell_type": "code",
   "execution_count": 22,
   "id": "5f5b4662-2985-4843-8af8-7227c7bc8964",
   "metadata": {},
   "outputs": [
    {
     "data": {
      "text/plain": [
       "'this works as a calculator'"
      ]
     },
     "execution_count": 22,
     "metadata": {},
     "output_type": "execute_result"
    }
   ],
   "source": [
    "calculator.__doc__"
   ]
  },
  {
   "cell_type": "code",
   "execution_count": 25,
   "id": "e35b1042-658f-421a-814e-95d4d080084d",
   "metadata": {},
   "outputs": [],
   "source": [
    "def even(a):\n",
    "    if a%2==0:\n",
    "        return a"
   ]
  },
  {
   "cell_type": "code",
   "execution_count": 26,
   "id": "5b35e0fd-e1e4-487f-9d91-e6d106c8ee6a",
   "metadata": {},
   "outputs": [
    {
     "data": {
      "text/plain": [
       "4"
      ]
     },
     "execution_count": 26,
     "metadata": {},
     "output_type": "execute_result"
    }
   ],
   "source": [
    "even(4)"
   ]
  },
  {
   "cell_type": "code",
   "execution_count": 28,
   "id": "783761f4-3a53-45f5-8fed-ca4e84b49f0c",
   "metadata": {},
   "outputs": [],
   "source": [
    "even(3)"
   ]
  },
  {
   "cell_type": "code",
   "execution_count": null,
   "id": "89917493-504c-4bde-a8b3-ff0e13d843a8",
   "metadata": {},
   "outputs": [],
   "source": []
  },
  {
   "cell_type": "code",
   "execution_count": 73,
   "id": "62c8a336-a1ca-4073-82d1-d69d71391a14",
   "metadata": {},
   "outputs": [],
   "source": [
    "def string(a):\n",
    "    if type(a)=='str':\n",
    "        print('it is a string')\n",
    "    else:\n",
    "        print('it is not a string')"
   ]
  },
  {
   "cell_type": "code",
   "execution_count": 79,
   "id": "b3a614c7-2016-4328-97bd-90196bb38934",
   "metadata": {},
   "outputs": [
    {
     "name": "stdout",
     "output_type": "stream",
     "text": [
      "it is not a string\n"
     ]
    }
   ],
   "source": [
    "string('whatt')"
   ]
  },
  {
   "cell_type": "code",
   "execution_count": 77,
   "id": "9264cefc-e10a-4314-9353-37795638b47f",
   "metadata": {},
   "outputs": [],
   "source": [
    "def triangle(a,b,c):\n",
    "    \n",
    "    area=.5*a*b\n",
    "    print(area)\n",
    "    hyp=(a*a+b*b)**(.5)\n",
    "  "
   ]
  },
  {
   "cell_type": "code",
   "execution_count": 76,
   "id": "7b776090-6830-413b-9410-f16da0f4f004",
   "metadata": {},
   "outputs": [
    {
     "name": "stdout",
     "output_type": "stream",
     "text": [
      "10.0\n"
     ]
    },
    {
     "data": {
      "text/plain": [
       "10.0"
      ]
     },
     "execution_count": 76,
     "metadata": {},
     "output_type": "execute_result"
    }
   ],
   "source": [
    "triangle(4,5)"
   ]
  },
  {
   "cell_type": "code",
   "execution_count": null,
   "id": "967302fa-dc95-49e4-b650-44023d6e74b5",
   "metadata": {},
   "outputs": [],
   "source": []
  },
  {
   "cell_type": "code",
   "execution_count": null,
   "id": "f0ce9077-7847-4e00-b841-cfdea5546aee",
   "metadata": {},
   "outputs": [],
   "source": []
  },
  {
   "cell_type": "code",
   "execution_count": 80,
   "id": "149742be-51b7-4855-aaa7-b1f134b23d05",
   "metadata": {},
   "outputs": [],
   "source": [
    "# def anonymous\n",
    "x=lambda k: k**2"
   ]
  },
  {
   "cell_type": "code",
   "execution_count": 82,
   "id": "828b56a5-c0c3-4be5-be09-2a0161026cf6",
   "metadata": {},
   "outputs": [
    {
     "data": {
      "text/plain": [
       "0"
      ]
     },
     "execution_count": 82,
     "metadata": {},
     "output_type": "execute_result"
    }
   ],
   "source": [
    "x(0)"
   ]
  },
  {
   "cell_type": "code",
   "execution_count": 85,
   "id": "fcab7558-b841-44f6-82fc-a7adbfff7556",
   "metadata": {},
   "outputs": [
    {
     "data": {
      "text/plain": [
       "0.5"
      ]
     },
     "execution_count": 85,
     "metadata": {},
     "output_type": "execute_result"
    }
   ],
   "source": [
    "area=lambda b,h: 1/2*b*h\n",
    "area(1,1)"
   ]
  },
  {
   "cell_type": "code",
   "execution_count": null,
   "id": "d824b502-eb8d-43ed-9d20-370c3bdeb90e",
   "metadata": {},
   "outputs": [],
   "source": []
  },
  {
   "cell_type": "code",
   "execution_count": 86,
   "id": "5427459b-3817-4a0d-87d8-ce868abc37ae",
   "metadata": {},
   "outputs": [],
   "source": [
    "# *args\n",
    "# unpacking of the tuple data\n",
    "i,j,*k=(1,2,3,4,5,6,7)"
   ]
  },
  {
   "cell_type": "code",
   "execution_count": 87,
   "id": "929ffeed-2c43-4f34-a6e0-272681034c83",
   "metadata": {},
   "outputs": [
    {
     "name": "stdout",
     "output_type": "stream",
     "text": [
      "1\n",
      "2\n",
      "[3, 4, 5, 6, 7]\n"
     ]
    }
   ],
   "source": [
    "print(i)\n",
    "print(j)\n",
    "print(k)"
   ]
  },
  {
   "cell_type": "code",
   "execution_count": null,
   "id": "6aecf86c-1c4b-496e-bc4a-bd4955e66e68",
   "metadata": {},
   "outputs": [],
   "source": [
    "def "
   ]
  },
  {
   "cell_type": "code",
   "execution_count": 91,
   "id": "c6c5eb95-ba0a-4a6b-9a38-4cf126267a57",
   "metadata": {},
   "outputs": [],
   "source": [
    "def nums(x,*val):\n",
    "    sum=x,val\n",
    "    return sum"
   ]
  },
  {
   "cell_type": "code",
   "execution_count": 92,
   "id": "cba5dba6-bb46-499e-a03a-186e005421ea",
   "metadata": {},
   "outputs": [
    {
     "data": {
      "text/plain": [
       "(1, (3, 4, 2, 3, 3))"
      ]
     },
     "execution_count": 92,
     "metadata": {},
     "output_type": "execute_result"
    }
   ],
   "source": [
    "nums(1,3,4,2,3,3)"
   ]
  },
  {
   "cell_type": "code",
   "execution_count": 99,
   "id": "71d61d29-5382-433d-9d7f-9b4b2d447b73",
   "metadata": {},
   "outputs": [],
   "source": [
    "def mean(*val):\n",
    "   k= sum(val)/len(val)\n",
    "   return k"
   ]
  },
  {
   "cell_type": "code",
   "execution_count": 100,
   "id": "69c80ed9-633d-44f1-80d4-60814ca1ec8c",
   "metadata": {},
   "outputs": [
    {
     "data": {
      "text/plain": [
       "2.0"
      ]
     },
     "execution_count": 100,
     "metadata": {},
     "output_type": "execute_result"
    }
   ],
   "source": [
    "mean(1,2,3)"
   ]
  },
  {
   "cell_type": "code",
   "execution_count": 5,
   "id": "184b240e-33b4-406b-b2b9-e6f4af8eef89",
   "metadata": {},
   "outputs": [],
   "source": [
    "def summation(*values):\n",
    "    lst=list(values)\n",
    "    sum=0\n",
    "    for i in lst:\n",
    "        sum+=i\n",
    "    mean=sum/len(lst)\n",
    "    print(f'sum:{sum}\\nAverage:{mean}')"
   ]
  },
  {
   "cell_type": "code",
   "execution_count": 6,
   "id": "f94ea521-d54c-4ade-9f52-c9de29be2e6c",
   "metadata": {},
   "outputs": [
    {
     "name": "stdout",
     "output_type": "stream",
     "text": [
      "sum:15\n",
      "Average:3.0\n"
     ]
    }
   ],
   "source": [
    "summation(1,2,3,5,4)"
   ]
  },
  {
   "cell_type": "code",
   "execution_count": null,
   "id": "0047707f-ec06-4f88-ab64-f7f141469948",
   "metadata": {},
   "outputs": [],
   "source": []
  },
  {
   "cell_type": "code",
   "execution_count": 7,
   "id": "04d59845-85d2-4636-9285-75ea56d8dbb1",
   "metadata": {},
   "outputs": [],
   "source": [
    "#key value\n",
    "def add(**keyvalue):\n",
    "    total=keyvalue\n",
    "    return total"
   ]
  },
  {
   "cell_type": "code",
   "execution_count": 10,
   "id": "1cf2976c-612f-41dd-808f-564fb149cbb9",
   "metadata": {},
   "outputs": [
    {
     "data": {
      "text/plain": [
       "{'age': 25, 'name': 'excelt'}"
      ]
     },
     "execution_count": 10,
     "metadata": {},
     "output_type": "execute_result"
    }
   ],
   "source": [
    "add(age=25,name='excelr')"
   ]
  },
  {
   "cell_type": "code",
   "execution_count": 11,
   "id": "48da6cbb-125a-4979-8636-a4b20df11fcf",
   "metadata": {},
   "outputs": [
    {
     "name": "stdout",
     "output_type": "stream",
     "text": [
      "{'X': [1, 2, 3, 4], 'Y': [2, 3, 4, 5]}\n"
     ]
    }
   ],
   "source": [
    "x=[1,2,3,4]\n",
    "y=[2,3,4,5]\n",
    "result=add(X=x,Y=y)\n",
    "print(result)"
   ]
  },
  {
   "cell_type": "code",
   "execution_count": null,
   "id": "d5b21146-cd3e-4985-9e06-8183ea4af41f",
   "metadata": {},
   "outputs": [],
   "source": []
  },
  {
   "cell_type": "code",
   "execution_count": null,
   "id": "551952ff-b7dc-4b0a-a90a-69534868db32",
   "metadata": {},
   "outputs": [],
   "source": []
  },
  {
   "cell_type": "code",
   "execution_count": 12,
   "id": "18ccf062-0b42-4729-bef4-6952801d6bb6",
   "metadata": {},
   "outputs": [],
   "source": [
    "#read and write a file\n"
   ]
  },
  {
   "cell_type": "code",
   "execution_count": 86,
   "id": "b814d8e8-88e0-4b0d-9a69-e084e87f8027",
   "metadata": {},
   "outputs": [],
   "source": [
    "student_marks=[\n",
    "        {'name':'mrunal',\n",
    "        'age':34,\n",
    "        'marks':[2,3,4,5,6,7],\n",
    "        'subject':['eng','math','science','chem','phy','bio']\n",
    "},\n",
    "        {'name':'sundar',\n",
    "        'age':34,\n",
    "        'marks':[2,3,4,2,6,7],\n",
    "        'subject':['eng','math','science','chem','phy','bio']\n",
    "},\n",
    "        {'name':'mrinda',\n",
    "        'age':34,\n",
    "        'marks':[2,3,4,5,9,7],\n",
    "        'subject':['eng','math','science','chem','phy','bio']\n",
    "}   \n",
    "]\n",
    "with open('ans.txt','w') as f:\n",
    "    markk=[]\n",
    "    for i in range(len(student_marks)):\n",
    "        ind=student_marks[i]['marks'].index(max(student_marks[i]['marks']))\n",
    "        a='{}:{}:{}'.format(student_marks[i]['name'],max(student_marks[i]['marks'])\n",
    "                              ,student_marks[i]['subject'][ind] )\n",
    "        \n",
    "        f.write(str(a))\n",
    "        f.write('\\n')\n",
    "    \n"
   ]
  },
  {
   "cell_type": "code",
   "execution_count": null,
   "id": "cbe12562-74ca-4b46-b95a-e030cb10e32d",
   "metadata": {},
   "outputs": [],
   "source": []
  },
  {
   "cell_type": "code",
   "execution_count": 16,
   "id": "979a55b1-8551-43f8-8a7b-fb1ccac3aa07",
   "metadata": {},
   "outputs": [
    {
     "data": {
      "text/plain": [
       "'C:\\\\Users\\\\HP\\\\Data science'"
      ]
     },
     "execution_count": 16,
     "metadata": {},
     "output_type": "execute_result"
    }
   ],
   "source": [
    "import os\n",
    "os.getcwd()"
   ]
  },
  {
   "cell_type": "code",
   "execution_count": 18,
   "id": "e460d12d-37a1-492f-80b9-6366e265074f",
   "metadata": {},
   "outputs": [
    {
     "data": {
      "text/plain": [
       "['.ipynb_checkpoints', 'Untitled.ipynb', 'untitled.py', 'untitled.txt']"
      ]
     },
     "execution_count": 18,
     "metadata": {},
     "output_type": "execute_result"
    }
   ],
   "source": [
    "os.listdir()"
   ]
  },
  {
   "cell_type": "code",
   "execution_count": 23,
   "id": "5b4a9926-2617-4285-9c0d-078353a6da4a",
   "metadata": {},
   "outputs": [
    {
     "name": "stdout",
     "output_type": "stream",
     "text": [
      "About 1,16,00,00,000 results (0.54 seconds) \n",
      "\n",
      "Learn Python - Free Interactive Python Tutorial\n",
      "\n",
      "Learn Python\n",
      "https://www.learnpython.org\n",
      "Get started learning Python with DataCamp's free Intro to Python tutorial. Learn Data Science by completing interactive coding challenges and watching videos by ...\n",
      "â€ŽHello, World! Â· â€ŽVariables and Types Â· â€ŽLists Â· â€ŽBasic Operators\n",
      "\n",
      "Python Tutorial\n",
      "\n",
      "W3Schools\n",
      "https://www.w3schools.com â€º python\n",
      "Learn Python. Python is a popular programming language. Python can be used on a server to create web applications. Start learning Python now Â». Learning by ...\n",
      "â€ŽPython Introduction Â· â€ŽPython Lists Â· â€ŽPython Strings Â· â€ŽPython Variables\n",
      "\n",
      "Python For Beginners\n",
      "\n",
      "Python\n",
      "https://www.python.org â€º about â€º gettingstarted\n",
      "Learning. Before getting started, you may want to find out which IDEs and text editors are tailored to make Python editing easy, browse the list of introductory ...\n",
      "\n",
      "Learn Python 3\n",
      "\n",
      "Codecademy\n",
      "https://www.codecademy.com â€º learn â€º learn-python-3\n",
      "Learn Python 3 course ratings and reviews ... Awesome course, understandable from the beginner and able to guide you step-by-step into using python for real stuff ...\n",
      "\n",
      "Learn Python 2\n",
      "\n",
      "Codecademy\n",
      "https://www.codecademy.com â€º learn â€º learn-python\n",
      "Related courses and paths Â· Free course. Python for Programmers. An introduction to the basic syntax and fundamentals of Python for experienced programmers.\n",
      "\n",
      "Learn Python Programming\n",
      "\n",
      "Programiz\n",
      "https://www.programiz.com â€º python-programming\n",
      "Python is a powerful general-purpose programming language. Our Python tutorial will guide you to learn Python one step at a time with the help of examples.\n",
      "People also ask\n",
      "Is it hard to learn Python?\n",
      "Can I learn Python in 3 days?\n",
      "Can I learn Python myself?\n",
      "Should I learn Python first or C++?\n",
      "Feedback\n",
      "\n",
      "Learn Python - Full Course for Beginners [Tutorial] - YouTube\n",
      "\n",
      "YouTube Â· freeCodeCamp.org\n",
      "4.3Cr+ views Â· 5 years ago\n",
      "\n",
      "4:26:52\n",
      "This course will give you a full introduction into all of the core concepts in python. Follow along with the videos and you'll be a python ...\n",
      "25 key moments\n",
      " in this video\n",
      "\n",
      "Python for beginners - Training\n",
      "\n",
      "Microsoft Learn\n",
      "https://learn.microsoft.com â€º Learn â€º Training â€º Browse\n",
      "Get started with Python! Learn how to create programs and projects in Python. Work with strings, lists, loops, dictionaries, and functions.\n",
      "\n",
      "Python Tutorial | Learn Python Programming\n",
      "\n",
      "GeeksforGeeks\n",
      "https://www.geeksforgeeks.org â€º python-programmin...\n",
      "3 days ago â€” This Python tutorial is well-suited for beginners as well as professionals, covering basic to advanced concepts of the Python programming ...\n",
      "\n",
      "The Python Tutorial â€” Python 3.12.1 documentation\n",
      "\n",
      "Python Docs\n",
      "https://docs.python.org â€º tutorial\n",
      "Python is an easy to learn, powerful programming language. It has efficient high-level data structures and a simple but effective approach to ...\n"
     ]
    },
    {
     "data": {
      "text/plain": [
       "<function TextIOWrapper.close()>"
      ]
     },
     "execution_count": 23,
     "metadata": {},
     "output_type": "execute_result"
    }
   ],
   "source": [
    "file=open('Sample.txt',mode='r')\n",
    "print(file.read())\n",
    "file.close"
   ]
  },
  {
   "cell_type": "code",
   "execution_count": 28,
   "id": "474c0108-8f22-4f2c-a200-72d289364612",
   "metadata": {},
   "outputs": [
    {
     "name": "stdout",
     "output_type": "stream",
     "text": [
      "About 1,16,00,00,000 results (0.54 seconds) \n",
      "\n"
     ]
    }
   ],
   "source": [
    "file=open('Sample.txt',mode='r')\n",
    "print(file.readline())\n",
    "file.close()\n"
   ]
  },
  {
   "cell_type": "code",
   "execution_count": 29,
   "id": "c155c248-8bcf-4453-bfe2-93c5321ab343",
   "metadata": {},
   "outputs": [
    {
     "name": "stdout",
     "output_type": "stream",
     "text": [
      "['About 1,16,00,00,000 results (0.54 seconds) \\n', '\\n', 'Learn Python - Free Interactive Python Tutorial\\n', '\\n', 'Learn Python\\n', 'https://www.learnpython.org\\n', \"Get started learning Python with DataCamp's free Intro to Python tutorial. Learn Data Science by completing interactive coding challenges and watching videos by ...\\n\", 'â€ŽHello, World! Â· â€ŽVariables and Types Â· â€ŽLists Â· â€ŽBasic Operators\\n', '\\n', 'Python Tutorial\\n', '\\n', 'W3Schools\\n', 'https://www.w3schools.com â€º python\\n', 'Learn Python. Python is a popular programming language. Python can be used on a server to create web applications. Start learning Python now Â». Learning by ...\\n', 'â€ŽPython Introduction Â· â€ŽPython Lists Â· â€ŽPython Strings Â· â€ŽPython Variables\\n', '\\n', 'Python For Beginners\\n', '\\n', 'Python\\n', 'https://www.python.org â€º about â€º gettingstarted\\n', 'Learning. Before getting started, you may want to find out which IDEs and text editors are tailored to make Python editing easy, browse the list of introductory ...\\n', '\\n', 'Learn Python 3\\n', '\\n', 'Codecademy\\n', 'https://www.codecademy.com â€º learn â€º learn-python-3\\n', 'Learn Python 3 course ratings and reviews ... Awesome course, understandable from the beginner and able to guide you step-by-step into using python for real stuff ...\\n', '\\n', 'Learn Python 2\\n', '\\n', 'Codecademy\\n', 'https://www.codecademy.com â€º learn â€º learn-python\\n', 'Related courses and paths Â· Free course. Python for Programmers. An introduction to the basic syntax and fundamentals of Python for experienced programmers.\\n', '\\n', 'Learn Python Programming\\n', '\\n', 'Programiz\\n', 'https://www.programiz.com â€º python-programming\\n', 'Python is a powerful general-purpose programming language. Our Python tutorial will guide you to learn Python one step at a time with the help of examples.\\n', 'People also ask\\n', 'Is it hard to learn Python?\\n', 'Can I learn Python in 3 days?\\n', 'Can I learn Python myself?\\n', 'Should I learn Python first or C++?\\n', 'Feedback\\n', '\\n', 'Learn Python - Full Course for Beginners [Tutorial] - YouTube\\n', '\\n', 'YouTube Â· freeCodeCamp.org\\n', '4.3Cr+ views Â· 5 years ago\\n', '\\n', '4:26:52\\n', \"This course will give you a full introduction into all of the core concepts in python. Follow along with the videos and you'll be a python ...\\n\", '25 key moments\\n', ' in this video\\n', '\\n', 'Python for beginners - Training\\n', '\\n', 'Microsoft Learn\\n', 'https://learn.microsoft.com â€º Learn â€º Training â€º Browse\\n', 'Get started with Python! Learn how to create programs and projects in Python. Work with strings, lists, loops, dictionaries, and functions.\\n', '\\n', 'Python Tutorial | Learn Python Programming\\n', '\\n', 'GeeksforGeeks\\n', 'https://www.geeksforgeeks.org â€º python-programmin...\\n', '3 days ago â€” This Python tutorial is well-suited for beginners as well as professionals, covering basic to advanced concepts of the Python programming ...\\n', '\\n', 'The Python Tutorial â€” Python 3.12.1 documentation\\n', '\\n', 'Python Docs\\n', 'https://docs.python.org â€º tutorial\\n', 'Python is an easy to learn, powerful programming language. It has efficient high-level data structures and a simple but effective approach to ...']\n"
     ]
    }
   ],
   "source": [
    "file=open('Sample.txt',mode='r')\n",
    "print(file.readlines())\n",
    "file.close()"
   ]
  },
  {
   "cell_type": "code",
   "execution_count": null,
   "id": "96fa4f82-72cf-427a-a3da-02b88c886e93",
   "metadata": {},
   "outputs": [],
   "source": []
  },
  {
   "cell_type": "code",
   "execution_count": null,
   "id": "183ed2c9-250c-4673-9993-9ed20eff1ad9",
   "metadata": {},
   "outputs": [],
   "source": [
    "file=open('Sample.txt',mode='r')\n",
    "print(file.readlines())\n",
    "file.close()"
   ]
  },
  {
   "cell_type": "code",
   "execution_count": 31,
   "id": "2556c7c7-862f-463b-9ed1-c71b7a5583e8",
   "metadata": {},
   "outputs": [
    {
     "name": "stdout",
     "output_type": "stream",
     "text": [
      "About 1,16,00,00,000 results (0.54 seconds) \n",
      "\n",
      "\n",
      "\n",
      "Learn Python - Free Interactive Python Tutorial\n",
      "\n",
      "\n",
      "\n",
      "Learn Python\n",
      "\n",
      "https://www.learnpython.org\n",
      "\n",
      "Get started learning Python with DataCamp's free Intro to Python tutorial. Learn Data Science by completing interactive coding challenges and watching videos by ...\n",
      "\n",
      "â€ŽHello, World! Â· â€ŽVariables and Types Â· â€ŽLists Â· â€ŽBasic Operators\n",
      "\n",
      "\n",
      "\n",
      "Python Tutorial\n",
      "\n",
      "\n",
      "\n",
      "W3Schools\n",
      "\n",
      "https://www.w3schools.com â€º python\n",
      "\n",
      "Learn Python. Python is a popular programming language. Python can be used on a server to create web applications. Start learning Python now Â». Learning by ...\n",
      "\n",
      "â€ŽPython Introduction Â· â€ŽPython Lists Â· â€ŽPython Strings Â· â€ŽPython Variables\n",
      "\n",
      "\n",
      "\n",
      "Python For Beginners\n",
      "\n",
      "\n",
      "\n",
      "Python\n",
      "\n",
      "https://www.python.org â€º about â€º gettingstarted\n",
      "\n",
      "Learning. Before getting started, you may want to find out which IDEs and text editors are tailored to make Python editing easy, browse the list of introductory ...\n",
      "\n",
      "\n",
      "\n",
      "Learn Python 3\n",
      "\n",
      "\n",
      "\n",
      "Codecademy\n",
      "\n",
      "https://www.codecademy.com â€º learn â€º learn-python-3\n",
      "\n",
      "Learn Python 3 course ratings and reviews ... Awesome course, understandable from the beginner and able to guide you step-by-step into using python for real stuff ...\n",
      "\n",
      "\n",
      "\n",
      "Learn Python 2\n",
      "\n",
      "\n",
      "\n",
      "Codecademy\n",
      "\n",
      "https://www.codecademy.com â€º learn â€º learn-python\n",
      "\n",
      "Related courses and paths Â· Free course. Python for Programmers. An introduction to the basic syntax and fundamentals of Python for experienced programmers.\n",
      "\n",
      "\n",
      "\n",
      "Learn Python Programming\n",
      "\n",
      "\n",
      "\n",
      "Programiz\n",
      "\n",
      "https://www.programiz.com â€º python-programming\n",
      "\n",
      "Python is a powerful general-purpose programming language. Our Python tutorial will guide you to learn Python one step at a time with the help of examples.\n",
      "\n",
      "People also ask\n",
      "\n",
      "Is it hard to learn Python?\n",
      "\n",
      "Can I learn Python in 3 days?\n",
      "\n",
      "Can I learn Python myself?\n",
      "\n",
      "Should I learn Python first or C++?\n",
      "\n",
      "Feedback\n",
      "\n",
      "\n",
      "\n",
      "Learn Python - Full Course for Beginners [Tutorial] - YouTube\n",
      "\n",
      "\n",
      "\n",
      "YouTube Â· freeCodeCamp.org\n",
      "\n",
      "4.3Cr+ views Â· 5 years ago\n",
      "\n",
      "\n",
      "\n",
      "4:26:52\n",
      "\n",
      "This course will give you a full introduction into all of the core concepts in python. Follow along with the videos and you'll be a python ...\n",
      "\n",
      "25 key moments\n",
      "\n",
      " in this video\n",
      "\n",
      "\n",
      "\n",
      "Python for beginners - Training\n",
      "\n",
      "\n",
      "\n",
      "Microsoft Learn\n",
      "\n",
      "https://learn.microsoft.com â€º Learn â€º Training â€º Browse\n",
      "\n",
      "Get started with Python! Learn how to create programs and projects in Python. Work with strings, lists, loops, dictionaries, and functions.\n",
      "\n",
      "\n",
      "\n",
      "Python Tutorial | Learn Python Programming\n",
      "\n",
      "\n",
      "\n",
      "GeeksforGeeks\n",
      "\n",
      "https://www.geeksforgeeks.org â€º python-programmin...\n",
      "\n",
      "3 days ago â€” This Python tutorial is well-suited for beginners as well as professionals, covering basic to advanced concepts of the Python programming ...\n",
      "\n",
      "\n",
      "\n",
      "The Python Tutorial â€” Python 3.12.1 documentation\n",
      "\n",
      "\n",
      "\n",
      "Python Docs\n",
      "\n",
      "https://docs.python.org â€º tutorial\n",
      "\n",
      "Python is an easy to learn, powerful programming language. It has efficient high-level data structures and a simple but effective approach to ...\n"
     ]
    }
   ],
   "source": [
    "file=open('Sample.txt',mode='r')\n",
    "for i in file.readlines():\n",
    "    print(i)\n",
    "file.close()"
   ]
  },
  {
   "cell_type": "code",
   "execution_count": 34,
   "id": "9e914a94-c76e-4b76-bd84-5c9d9532691a",
   "metadata": {},
   "outputs": [
    {
     "name": "stdout",
     "output_type": "stream",
     "text": [
      "About 1,16,00,00,000 results (0.54 seconds) \n",
      "\n",
      "\n",
      "\n",
      "Learn java - Free Interactive java Tutorial\n",
      "\n",
      "\n",
      "\n",
      "Learn java\n",
      "\n",
      "https://www.learnpython.org\n",
      "\n",
      "Get started learning java with DataCamp's free Intro to java tutorial. Learn Data Science by completing interactive coding challenges and watching videos by ...\n",
      "\n",
      "â€ŽHello, World! Â· â€ŽVariables and Types Â· â€ŽLists Â· â€ŽBasic Operators\n",
      "\n",
      "\n",
      "\n",
      "java Tutorial\n",
      "\n",
      "\n",
      "\n",
      "W3Schools\n",
      "\n",
      "https://www.w3schools.com â€º python\n",
      "\n",
      "Learn java. java is a popular programming language. java can be used on a server to create web applications. Start learning java now Â». Learning by ...\n",
      "\n",
      "â€Žjava Introduction Â· â€Žjava Lists Â· â€Žjava Strings Â· â€Žjava Variables\n",
      "\n",
      "\n",
      "\n",
      "java For Beginners\n",
      "\n",
      "\n",
      "\n",
      "java\n",
      "\n",
      "https://www.python.org â€º about â€º gettingstarted\n",
      "\n",
      "Learning. Before getting started, you may want to find out which IDEs and text editors are tailored to make java editing easy, browse the list of introductory ...\n",
      "\n",
      "\n",
      "\n",
      "Learn java 3\n",
      "\n",
      "\n",
      "\n",
      "Codecademy\n",
      "\n",
      "https://www.codecademy.com â€º learn â€º learn-python-3\n",
      "\n",
      "Learn java 3 course ratings and reviews ... Awesome course, understandable from the beginner and able to guide you step-by-step into using python for real stuff ...\n",
      "\n",
      "\n",
      "\n",
      "Learn java 2\n",
      "\n",
      "\n",
      "\n",
      "Codecademy\n",
      "\n",
      "https://www.codecademy.com â€º learn â€º learn-python\n",
      "\n",
      "Related courses and paths Â· Free course. java for Programmers. An introduction to the basic syntax and fundamentals of java for experienced programmers.\n",
      "\n",
      "\n",
      "\n",
      "Learn java Programming\n",
      "\n",
      "\n",
      "\n",
      "Programiz\n",
      "\n",
      "https://www.programiz.com â€º python-programming\n",
      "\n",
      "java is a powerful general-purpose programming language. Our java tutorial will guide you to learn java one step at a time with the help of examples.\n",
      "\n",
      "People also ask\n",
      "\n",
      "Is it hard to learn java?\n",
      "\n",
      "Can I learn java in 3 days?\n",
      "\n",
      "Can I learn java myself?\n",
      "\n",
      "Should I learn java first or C++?\n",
      "\n",
      "Feedback\n",
      "\n",
      "\n",
      "\n",
      "Learn java - Full Course for Beginners [Tutorial] - YouTube\n",
      "\n",
      "\n",
      "\n",
      "YouTube Â· freeCodeCamp.org\n",
      "\n",
      "4.3Cr+ views Â· 5 years ago\n",
      "\n",
      "\n",
      "\n",
      "4:26:52\n",
      "\n",
      "This course will give you a full introduction into all of the core concepts in python. Follow along with the videos and you'll be a python ...\n",
      "\n",
      "25 key moments\n",
      "\n",
      " in this video\n",
      "\n",
      "\n",
      "\n",
      "java for beginners - Training\n",
      "\n",
      "\n",
      "\n",
      "Microsoft Learn\n",
      "\n",
      "https://learn.microsoft.com â€º Learn â€º Training â€º Browse\n",
      "\n",
      "Get started with java! Learn how to create programs and projects in java. Work with strings, lists, loops, dictionaries, and functions.\n",
      "\n",
      "\n",
      "\n",
      "java Tutorial | Learn java Programming\n",
      "\n",
      "\n",
      "\n",
      "GeeksforGeeks\n",
      "\n",
      "https://www.geeksforgeeks.org â€º python-programmin...\n",
      "\n",
      "3 days ago â€” This java tutorial is well-suited for beginners as well as professionals, covering basic to advanced concepts of the java programming ...\n",
      "\n",
      "\n",
      "\n",
      "The java Tutorial â€” java 3.12.1 documentation\n",
      "\n",
      "\n",
      "\n",
      "java Docs\n",
      "\n",
      "https://docs.python.org â€º tutorial\n",
      "\n",
      "java is an easy to learn, powerful programming language. It has efficient high-level data structures and a simple but effective approach to ...\n"
     ]
    }
   ],
   "source": [
    "file=open('Sample.txt',mode='r')\n",
    "for i in file.readlines():\n",
    "    java=i.replace('Python','java')\n",
    "    print(java)\n",
    "file.close()"
   ]
  },
  {
   "cell_type": "code",
   "execution_count": null,
   "id": "85d5fb58-5955-45e5-942d-101fe1de14ad",
   "metadata": {},
   "outputs": [],
   "source": []
  },
  {
   "cell_type": "code",
   "execution_count": 39,
   "id": "a7df21c2-0226-49c7-a9a8-9046eb77f34e",
   "metadata": {},
   "outputs": [],
   "source": [
    "lines='this is a  file'\n",
    "with open('readme.txt','w') as f:\n",
    "    f.write(lines)"
   ]
  },
  {
   "cell_type": "code",
   "execution_count": 41,
   "id": "b5eb4157-77f4-4cd8-9e0f-ad372e0b3fbf",
   "metadata": {},
   "outputs": [],
   "source": [
    "lines='''this is a  file\n",
    "this is a  file\n",
    "this is a  file\n",
    "'''\n",
    "with open('multil.txt','w') as f:\n",
    "    f.write(lines)"
   ]
  },
  {
   "cell_type": "code",
   "execution_count": 45,
   "id": "9a0d3575-47ea-4e11-ad12-f9672483ea6a",
   "metadata": {},
   "outputs": [],
   "source": [
    "lines=['this is a  file',\n",
    "'this is a  file',\n",
    "'this is a  file'\n",
    "]\n",
    "with open('multil.txt','w') as f:\n",
    "    f.writelines(lines)"
   ]
  },
  {
   "cell_type": "code",
   "execution_count": 52,
   "id": "7cf3b225-a302-4c6f-ae8f-03b786b191fd",
   "metadata": {},
   "outputs": [],
   "source": [
    "with open('multil.txt','a') as f:\n",
    "    for i in lines:\n",
    "        f.write(i)\n",
    "        f.write('\\n')"
   ]
  },
  {
   "cell_type": "code",
   "execution_count": null,
   "id": "30e9997c-5830-4eb7-a4e8-85c43dc64671",
   "metadata": {},
   "outputs": [],
   "source": [
    "with open"
   ]
  },
  {
   "cell_type": "code",
   "execution_count": null,
   "id": "b30d6d14-5da4-43f7-83ad-457c32a36b83",
   "metadata": {},
   "outputs": [],
   "source": []
  },
  {
   "cell_type": "code",
   "execution_count": 91,
   "id": "6891dabc-6c67-48a5-a66a-eb54c5e476dd",
   "metadata": {},
   "outputs": [
    {
     "name": "stdout",
     "output_type": "stream",
     "text": [
      "Requirement already satisfied: pandas in c:\\users\\hp\\appdata\\roaming\\python\\python311\\site-packages (1.5.3)\n",
      "Requirement already satisfied: python-dateutil>=2.8.1 in c:\\users\\hp\\appdata\\roaming\\python\\python311\\site-packages (from pandas) (2.8.2)\n",
      "Requirement already satisfied: pytz>=2020.1 in c:\\users\\hp\\appdata\\roaming\\python\\python311\\site-packages (from pandas) (2023.3)\n",
      "Requirement already satisfied: numpy>=1.21.0 in c:\\users\\hp\\appdata\\roaming\\python\\python311\\site-packages (from pandas) (1.24.2)\n",
      "Requirement already satisfied: six>=1.5 in c:\\users\\hp\\appdata\\roaming\\python\\python311\\site-packages (from python-dateutil>=2.8.1->pandas) (1.16.0)\n"
     ]
    },
    {
     "name": "stderr",
     "output_type": "stream",
     "text": [
      "\n",
      "[notice] A new release of pip is available: 23.3.2 -> 24.0\n",
      "[notice] To update, run: python.exe -m pip install --upgrade pip\n"
     ]
    },
    {
     "name": "stdout",
     "output_type": "stream",
     "text": [
      "Requirement already satisfied: numpy in c:\\users\\hp\\appdata\\roaming\\python\\python311\\site-packages (1.24.2)\n"
     ]
    },
    {
     "name": "stderr",
     "output_type": "stream",
     "text": [
      "\n",
      "[notice] A new release of pip is available: 23.3.2 -> 24.0\n",
      "[notice] To update, run: python.exe -m pip install --upgrade pip\n"
     ]
    },
    {
     "name": "stdout",
     "output_type": "stream",
     "text": [
      "Requirement already satisfied: matplotlib in c:\\users\\hp\\appdata\\roaming\\python\\python311\\site-packages (3.7.1)\n",
      "Requirement already satisfied: contourpy>=1.0.1 in c:\\users\\hp\\appdata\\roaming\\python\\python311\\site-packages (from matplotlib) (1.0.7)\n",
      "Requirement already satisfied: cycler>=0.10 in c:\\users\\hp\\appdata\\roaming\\python\\python311\\site-packages (from matplotlib) (0.11.0)\n",
      "Requirement already satisfied: fonttools>=4.22.0 in c:\\users\\hp\\appdata\\roaming\\python\\python311\\site-packages (from matplotlib) (4.39.4)\n",
      "Requirement already satisfied: kiwisolver>=1.0.1 in c:\\users\\hp\\appdata\\roaming\\python\\python311\\site-packages (from matplotlib) (1.4.4)\n",
      "Requirement already satisfied: numpy>=1.20 in c:\\users\\hp\\appdata\\roaming\\python\\python311\\site-packages (from matplotlib) (1.24.2)\n",
      "Requirement already satisfied: packaging>=20.0 in c:\\users\\hp\\appdata\\roaming\\python\\python311\\site-packages (from matplotlib) (23.1)\n",
      "Requirement already satisfied: pillow>=6.2.0 in c:\\users\\hp\\appdata\\roaming\\python\\python311\\site-packages (from matplotlib) (9.5.0)\n",
      "Requirement already satisfied: pyparsing>=2.3.1 in c:\\users\\hp\\appdata\\roaming\\python\\python311\\site-packages (from matplotlib) (3.0.9)\n",
      "Requirement already satisfied: python-dateutil>=2.7 in c:\\users\\hp\\appdata\\roaming\\python\\python311\\site-packages (from matplotlib) (2.8.2)\n",
      "Requirement already satisfied: six>=1.5 in c:\\users\\hp\\appdata\\roaming\\python\\python311\\site-packages (from python-dateutil>=2.7->matplotlib) (1.16.0)\n"
     ]
    },
    {
     "name": "stderr",
     "output_type": "stream",
     "text": [
      "\n",
      "[notice] A new release of pip is available: 23.3.2 -> 24.0\n",
      "[notice] To update, run: python.exe -m pip install --upgrade pip\n"
     ]
    },
    {
     "name": "stdout",
     "output_type": "stream",
     "text": [
      "Requirement already satisfied: seaborn in c:\\users\\hp\\anaconda3\\lib\\site-packages (0.12.2)\n",
      "Requirement already satisfied: numpy!=1.24.0,>=1.17 in c:\\users\\hp\\appdata\\roaming\\python\\python311\\site-packages (from seaborn) (1.24.2)\n",
      "Requirement already satisfied: pandas>=0.25 in c:\\users\\hp\\appdata\\roaming\\python\\python311\\site-packages (from seaborn) (1.5.3)\n",
      "Requirement already satisfied: matplotlib!=3.6.1,>=3.1 in c:\\users\\hp\\appdata\\roaming\\python\\python311\\site-packages (from seaborn) (3.7.1)\n",
      "Requirement already satisfied: contourpy>=1.0.1 in c:\\users\\hp\\appdata\\roaming\\python\\python311\\site-packages (from matplotlib!=3.6.1,>=3.1->seaborn) (1.0.7)\n",
      "Requirement already satisfied: cycler>=0.10 in c:\\users\\hp\\appdata\\roaming\\python\\python311\\site-packages (from matplotlib!=3.6.1,>=3.1->seaborn) (0.11.0)\n",
      "Requirement already satisfied: fonttools>=4.22.0 in c:\\users\\hp\\appdata\\roaming\\python\\python311\\site-packages (from matplotlib!=3.6.1,>=3.1->seaborn) (4.39.4)\n",
      "Requirement already satisfied: kiwisolver>=1.0.1 in c:\\users\\hp\\appdata\\roaming\\python\\python311\\site-packages (from matplotlib!=3.6.1,>=3.1->seaborn) (1.4.4)\n",
      "Requirement already satisfied: packaging>=20.0 in c:\\users\\hp\\appdata\\roaming\\python\\python311\\site-packages (from matplotlib!=3.6.1,>=3.1->seaborn) (23.1)\n",
      "Requirement already satisfied: pillow>=6.2.0 in c:\\users\\hp\\appdata\\roaming\\python\\python311\\site-packages (from matplotlib!=3.6.1,>=3.1->seaborn) (9.5.0)\n",
      "Requirement already satisfied: pyparsing>=2.3.1 in c:\\users\\hp\\appdata\\roaming\\python\\python311\\site-packages (from matplotlib!=3.6.1,>=3.1->seaborn) (3.0.9)\n",
      "Requirement already satisfied: python-dateutil>=2.7 in c:\\users\\hp\\appdata\\roaming\\python\\python311\\site-packages (from matplotlib!=3.6.1,>=3.1->seaborn) (2.8.2)\n",
      "Requirement already satisfied: pytz>=2020.1 in c:\\users\\hp\\appdata\\roaming\\python\\python311\\site-packages (from pandas>=0.25->seaborn) (2023.3)\n",
      "Requirement already satisfied: six>=1.5 in c:\\users\\hp\\appdata\\roaming\\python\\python311\\site-packages (from python-dateutil>=2.7->matplotlib!=3.6.1,>=3.1->seaborn) (1.16.0)\n"
     ]
    },
    {
     "name": "stderr",
     "output_type": "stream",
     "text": [
      "\n",
      "[notice] A new release of pip is available: 23.3.2 -> 24.0\n",
      "[notice] To update, run: python.exe -m pip install --upgrade pip\n"
     ]
    }
   ],
   "source": [
    "!pip install pandas\n",
    "!pip install numpy\n",
    "!pip install matplotlib\n",
    "!pip install seaborn\n"
   ]
  },
  {
   "cell_type": "code",
   "execution_count": 2,
   "id": "9965673c-1d76-4c30-86ff-b85883f4d2bc",
   "metadata": {},
   "outputs": [],
   "source": [
    "import pandas\n",
    "import numpy\n",
    "import matplotlib\n",
    "import seaborn"
   ]
  },
  {
   "cell_type": "code",
   "execution_count": null,
   "id": "420af3e3-473b-4018-a689-9e21792a90db",
   "metadata": {},
   "outputs": [],
   "source": [
    "#Exception  handling"
   ]
  },
  {
   "cell_type": "code",
   "execution_count": 15,
   "id": "49698cdc-c04c-490e-a51e-1d2d66340f2e",
   "metadata": {},
   "outputs": [
    {
     "ename": "ZeroDivisionError",
     "evalue": "division by zero",
     "output_type": "error",
     "traceback": [
      "\u001b[1;31m---------------------------------------------------------------------------\u001b[0m",
      "\u001b[1;31mZeroDivisionError\u001b[0m                         Traceback (most recent call last)",
      "Cell \u001b[1;32mIn[15], line 1\u001b[0m\n\u001b[1;32m----> 1\u001b[0m \u001b[38;5;241;43m3\u001b[39;49m\u001b[38;5;241;43m/\u001b[39;49m\u001b[38;5;241;43m0\u001b[39;49m\n",
      "\u001b[1;31mZeroDivisionError\u001b[0m: division by zero"
     ]
    }
   ],
   "source": [
    "3/0"
   ]
  },
  {
   "cell_type": "code",
   "execution_count": 20,
   "id": "af8143dd-1c43-49a6-a5c2-c4964ef681bb",
   "metadata": {},
   "outputs": [
    {
     "name": "stdout",
     "output_type": "stream",
     "text": [
      "division by zero\n",
      "10\n"
     ]
    }
   ],
   "source": [
    "a=10\n",
    "b=0\n",
    "try :\n",
    "    c=a/b\n",
    "    print(c)\n",
    "except ZeroDivisionError as e :\n",
    "    print(e)\n",
    "print(c)    "
   ]
  },
  {
   "cell_type": "code",
   "execution_count": 23,
   "id": "05d649ae-ec1c-469d-9027-0e11e3f2e40d",
   "metadata": {},
   "outputs": [
    {
     "name": "stdout",
     "output_type": "stream",
     "text": [
      "unsupported operand type(s) for +: 'int' and 'str'\n",
      "abababababababababab\n"
     ]
    }
   ],
   "source": [
    "a=10\n",
    "b='ab'\n",
    "try :\n",
    "    c=a+b\n",
    "    d=a*b\n",
    "    print(c)\n",
    "except TypeError as e :\n",
    "    print(e)\n",
    "except NameError as n:\n",
    "    print(n)   \n",
    "print(a*b)"
   ]
  },
  {
   "cell_type": "code",
   "execution_count": null,
   "id": "8b0ee4e9-fb3c-426f-8971-ae34acb211c6",
   "metadata": {},
   "outputs": [],
   "source": []
  },
  {
   "cell_type": "code",
   "execution_count": 24,
   "id": "23ed0012-2b8b-430f-8904-f073325b5fae",
   "metadata": {},
   "outputs": [
    {
     "data": {
      "text/plain": [
       "'C:\\\\Users\\\\HP\\\\Data science'"
      ]
     },
     "execution_count": 24,
     "metadata": {},
     "output_type": "execute_result"
    }
   ],
   "source": [
    "import os\n",
    "os.getcwd()"
   ]
  },
  {
   "cell_type": "code",
   "execution_count": null,
   "id": "25f2d1b6-5794-4dda-859a-568fcb45cbf2",
   "metadata": {},
   "outputs": [],
   "source": []
  },
  {
   "cell_type": "code",
   "execution_count": 26,
   "id": "b0a6b2bf-ac68-4b01-9afc-f76952a5943e",
   "metadata": {},
   "outputs": [
    {
     "name": "stdout",
     "output_type": "stream",
     "text": [
      "About 1,16,00,00,000 results (0.54 seconds) \n",
      "\n",
      "Learn Python - Free Interactive Python Tutorial\n",
      "\n",
      "Learn Python\n",
      "https://www.learnpython.org\n",
      "Get started learning Python with DataCamp's free Intro to Python tutorial. Learn Data Science by completing interactive coding challenges and watching videos by ...\n",
      "â€ŽHello, World! Â· â€ŽVariables and Types Â· â€ŽLists Â· â€ŽBasic Operators\n",
      "\n",
      "Python Tutorial\n",
      "\n",
      "W3Schools\n",
      "https://www.w3schools.com â€º python\n",
      "Learn Python. Python is a popular programming language. Python can be used on a server to create web applications. Start learning Python now Â». Learning by ...\n",
      "â€ŽPython Introduction Â· â€ŽPython Lists Â· â€ŽPython Strings Â· â€ŽPython Variables\n",
      "\n",
      "Python For Beginners\n",
      "\n",
      "Python\n",
      "https://www.python.org â€º about â€º gettingstarted\n",
      "Learning. Before getting started, you may want to find out which IDEs and text editors are tailored to make Python editing easy, browse the list of introductory ...\n",
      "\n",
      "Learn Python 3\n",
      "\n",
      "Codecademy\n",
      "https://www.codecademy.com â€º learn â€º learn-python-3\n",
      "Learn Python 3 course ratings and reviews ... Awesome course, understandable from the beginner and able to guide you step-by-step into using python for real stuff ...\n",
      "\n",
      "Learn Python 2\n",
      "\n",
      "Codecademy\n",
      "https://www.codecademy.com â€º learn â€º learn-python\n",
      "Related courses and paths Â· Free course. Python for Programmers. An introduction to the basic syntax and fundamentals of Python for experienced programmers.\n",
      "\n",
      "Learn Python Programming\n",
      "\n",
      "Programiz\n",
      "https://www.programiz.com â€º python-programming\n",
      "Python is a powerful general-purpose programming language. Our Python tutorial will guide you to learn Python one step at a time with the help of examples.\n",
      "People also ask\n",
      "Is it hard to learn Python?\n",
      "Can I learn Python in 3 days?\n",
      "Can I learn Python myself?\n",
      "Should I learn Python first or C++?\n",
      "Feedback\n",
      "\n",
      "Learn Python - Full Course for Beginners [Tutorial] - YouTube\n",
      "\n",
      "YouTube Â· freeCodeCamp.org\n",
      "4.3Cr+ views Â· 5 years ago\n",
      "\n",
      "4:26:52\n",
      "This course will give you a full introduction into all of the core concepts in python. Follow along with the videos and you'll be a python ...\n",
      "25 key moments\n",
      " in this video\n",
      "\n",
      "Python for beginners - Training\n",
      "\n",
      "Microsoft Learn\n",
      "https://learn.microsoft.com â€º Learn â€º Training â€º Browse\n",
      "Get started with Python! Learn how to create programs and projects in Python. Work with strings, lists, loops, dictionaries, and functions.\n",
      "\n",
      "Python Tutorial | Learn Python Programming\n",
      "\n",
      "GeeksforGeeks\n",
      "https://www.geeksforgeeks.org â€º python-programmin...\n",
      "3 days ago â€” This Python tutorial is well-suited for beginners as well as professionals, covering basic to advanced concepts of the Python programming ...\n",
      "\n",
      "The Python Tutorial â€” Python 3.12.1 documentation\n",
      "\n",
      "Python Docs\n",
      "https://docs.python.org â€º tutorial\n",
      "Python is an easy to learn, powerful programming language. It has efficient high-level data structures and a simple but effective approach to ...\n"
     ]
    }
   ],
   "source": [
    "try:\n",
    "    f=open('Samplee.txt','r')\n",
    "    f.write('dfdsddd')\n",
    "except Exception as e:\n",
    "    f=open('Sample.txt','r')\n",
    "    print(f.read())"
   ]
  },
  {
   "cell_type": "code",
   "execution_count": 31,
   "id": "ba2913f8-7dd4-41f1-a0ca-13f658f2361f",
   "metadata": {},
   "outputs": [
    {
     "name": "stdout",
     "output_type": "stream",
     "text": [
      "[Errno 2] No such file or directory: 'Samplee.txt'\n"
     ]
    }
   ],
   "source": [
    "try:\n",
    "    f=open('Samplee.txt','r')\n",
    "    f.write('dfdsddd')\n",
    "except IOError as e:\n",
    "    print(e)\n",
    "except TypeError as e:\n",
    "    print(e)\n",
    "else:\n",
    "    print('content read sucess')"
   ]
  },
  {
   "cell_type": "code",
   "execution_count": null,
   "id": "035d8274-4d6d-4520-80a0-527a6df340d9",
   "metadata": {},
   "outputs": [],
   "source": []
  },
  {
   "cell_type": "code",
   "execution_count": 32,
   "id": "d3b2dc92-7805-418b-b6e2-1076f916f447",
   "metadata": {},
   "outputs": [
    {
     "name": "stdout",
     "output_type": "stream",
     "text": [
      "[Errno 2] No such file or directory: 'Samplee.txt'\n",
      "Always excecute finally code block\n"
     ]
    }
   ],
   "source": [
    "try:\n",
    "    f=open('Samplee.txt','r')\n",
    "    f.write('dfdsddd')\n",
    "except Exception as e:\n",
    "    print(e)\n",
    "finally:\n",
    "    print(\"Always excecute finally code block\")"
   ]
  },
  {
   "cell_type": "code",
   "execution_count": 34,
   "id": "f8470e45-3b80-4c06-af5e-7f30ffc71dc0",
   "metadata": {},
   "outputs": [],
   "source": [
    "def askint():\n",
    "    try:\n",
    "        val=int(input(\"enter the value\"))\n",
    "    except:\n",
    "        print(\"u didnt enter an integer\")\n",
    "    finally:\n",
    "        print('value',val)"
   ]
  },
  {
   "cell_type": "code",
   "execution_count": 35,
   "id": "e2415fb1-e488-4ebb-b5c4-a372bf3fd44e",
   "metadata": {},
   "outputs": [
    {
     "name": "stdin",
     "output_type": "stream",
     "text": [
      "enter the value 54\n"
     ]
    },
    {
     "name": "stdout",
     "output_type": "stream",
     "text": [
      "value 54\n"
     ]
    }
   ],
   "source": [
    "askint()"
   ]
  },
  {
   "cell_type": "code",
   "execution_count": 36,
   "id": "643ba96b-fbac-4056-94a7-15ea413d8872",
   "metadata": {},
   "outputs": [],
   "source": [
    "def fun(a):\n",
    "    if a<4:\n",
    "        c=a/(a-3)\n",
    "        print('the value is',c)"
   ]
  },
  {
   "cell_type": "code",
   "execution_count": 37,
   "id": "f75dfd35-8747-4e6d-ae9f-ad439419977b",
   "metadata": {},
   "outputs": [
    {
     "name": "stdout",
     "output_type": "stream",
     "text": [
      "the value is -2.0\n"
     ]
    }
   ],
   "source": [
    "try:\n",
    "    fun(2)\n",
    "except(ZeroDivisionError,UnboundLocalError,TypeError):\n",
    "    print('Error')"
   ]
  },
  {
   "cell_type": "code",
   "execution_count": null,
   "id": "3072f820-3c63-4807-8927-832062305cc0",
   "metadata": {},
   "outputs": [],
   "source": [
    "x="
   ]
  },
  {
   "cell_type": "code",
   "execution_count": 38,
   "id": "fa68178d-6938-4a1b-9edc-81853d4380a8",
   "metadata": {},
   "outputs": [
    {
     "ename": "Exception",
     "evalue": "sorry n number below 0",
     "output_type": "error",
     "traceback": [
      "\u001b[1;31m---------------------------------------------------------------------------\u001b[0m",
      "\u001b[1;31mException\u001b[0m                                 Traceback (most recent call last)",
      "Cell \u001b[1;32mIn[38], line 3\u001b[0m\n\u001b[0;32m      1\u001b[0m x\u001b[38;5;241m=\u001b[39m\u001b[38;5;241m-\u001b[39m\u001b[38;5;241m1\u001b[39m\n\u001b[0;32m      2\u001b[0m \u001b[38;5;28;01mif\u001b[39;00m x\u001b[38;5;241m<\u001b[39m\u001b[38;5;241m0\u001b[39m:\n\u001b[1;32m----> 3\u001b[0m     \u001b[38;5;28;01mraise\u001b[39;00m \u001b[38;5;167;01mException\u001b[39;00m(\u001b[38;5;124m\"\u001b[39m\u001b[38;5;124msorry n number below 0\u001b[39m\u001b[38;5;124m\"\u001b[39m)\n\u001b[0;32m      4\u001b[0m \u001b[38;5;28mprint\u001b[39m(x)\n",
      "\u001b[1;31mException\u001b[0m: sorry n number below 0"
     ]
    }
   ],
   "source": [
    "x=-1\n",
    "if x<0:\n",
    "    raise Exception(\"sorry n number below 0\")\n",
    "print(x)\n"
   ]
  },
  {
   "cell_type": "code",
   "execution_count": 45,
   "id": "15e98dc4-2cb7-45a3-bea1-ebaa9d9fa8fe",
   "metadata": {},
   "outputs": [
    {
     "name": "stdin",
     "output_type": "stream",
     "text": [
      "Enter the number d\n"
     ]
    },
    {
     "ename": "ValueError",
     "evalue": "invalid literal for int() with base 10: 'd'",
     "output_type": "error",
     "traceback": [
      "\u001b[1;31m---------------------------------------------------------------------------\u001b[0m",
      "\u001b[1;31mValueError\u001b[0m                                Traceback (most recent call last)",
      "Cell \u001b[1;32mIn[45], line 1\u001b[0m\n\u001b[1;32m----> 1\u001b[0m k\u001b[38;5;241m=\u001b[39m\u001b[38;5;28;43mint\u001b[39;49m\u001b[43m(\u001b[49m\u001b[38;5;28;43minput\u001b[39;49m\u001b[43m(\u001b[49m\u001b[38;5;124;43m'\u001b[39;49m\u001b[38;5;124;43mEnter the number\u001b[39;49m\u001b[38;5;124;43m'\u001b[39;49m\u001b[43m)\u001b[49m\u001b[43m)\u001b[49m\n\u001b[0;32m      2\u001b[0m \u001b[38;5;28;01mif\u001b[39;00m \u001b[38;5;129;01mnot\u001b[39;00m \u001b[38;5;28mtype\u001b[39m(x) \u001b[38;5;129;01mis\u001b[39;00m \u001b[38;5;28mint\u001b[39m:\n\u001b[0;32m      3\u001b[0m         \u001b[38;5;28;01mraise\u001b[39;00m \u001b[38;5;167;01mTypeError\u001b[39;00m(\u001b[38;5;124m\"\u001b[39m\u001b[38;5;124msorry n number below 0\u001b[39m\u001b[38;5;124m\"\u001b[39m)\n",
      "\u001b[1;31mValueError\u001b[0m: invalid literal for int() with base 10: 'd'"
     ]
    }
   ],
   "source": [
    "k=int(input('Enter the number'))\n",
    "if not type(k) is int:\n",
    "        raise TypeError(\"sorry n number below 0\")\n",
    "print(k)\n",
    "    "
   ]
  },
  {
   "cell_type": "code",
   "execution_count": null,
   "id": "71f74de8-28a4-4a50-ac38-073a91568537",
   "metadata": {},
   "outputs": [],
   "source": [
    "im"
   ]
  },
  {
   "cell_type": "code",
   "execution_count": 6,
   "id": "c1a31e7f-6110-4cfc-8627-8b6c4ac9bca8",
   "metadata": {},
   "outputs": [],
   "source": [
    "import pandas as pd"
   ]
  },
  {
   "cell_type": "code",
   "execution_count": null,
   "id": "405548ff-e49b-47f0-8228-332b4d3d8aea",
   "metadata": {},
   "outputs": [],
   "source": []
  },
  {
   "cell_type": "code",
   "execution_count": 2,
   "id": "7031f107-1935-48da-be27-5cceef1b7ac7",
   "metadata": {},
   "outputs": [
    {
     "data": {
      "text/plain": [
       "0    1\n",
       "1    2\n",
       "2    3\n",
       "3    4\n",
       "4    4\n",
       "5    5\n",
       "6    6\n",
       "7    6\n",
       "8    7\n",
       "dtype: int64"
      ]
     },
     "execution_count": 2,
     "metadata": {},
     "output_type": "execute_result"
    }
   ],
   "source": [
    "List=[1,2,3,4,4,5,6,6,7]\n",
    "ser=pd.Series(List)\n",
    "ser"
   ]
  },
  {
   "cell_type": "code",
   "execution_count": null,
   "id": "46c1877f-bd19-4114-927b-11a5afe66daf",
   "metadata": {},
   "outputs": [],
   "source": []
  },
  {
   "cell_type": "code",
   "execution_count": 4,
   "id": "19676af2-130b-4b95-96bd-c37f1a4bcf2f",
   "metadata": {},
   "outputs": [
    {
     "data": {
      "text/plain": [
       "(0    1\n",
       " dtype: int64,\n",
       " 8    7\n",
       " dtype: int64)"
      ]
     },
     "execution_count": 4,
     "metadata": {},
     "output_type": "execute_result"
    }
   ],
   "source": [
    "ser.head(1),ser.tail(1)"
   ]
  },
  {
   "cell_type": "code",
   "execution_count": 5,
   "id": "56d01899-d582-4fcc-9a18-bcb86c1c48af",
   "metadata": {},
   "outputs": [
    {
     "data": {
      "text/plain": [
       "0    1\n",
       "2    3\n",
       "4    4\n",
       "6    6\n",
       "8    7\n",
       "dtype: int64"
      ]
     },
     "execution_count": 5,
     "metadata": {},
     "output_type": "execute_result"
    }
   ],
   "source": [
    "ser[0:9:2]"
   ]
  },
  {
   "cell_type": "code",
   "execution_count": 6,
   "id": "6c7f0049-26b6-4a3d-810d-3fa850318076",
   "metadata": {},
   "outputs": [],
   "source": [
    "ser[2]=6.5\n"
   ]
  },
  {
   "cell_type": "code",
   "execution_count": 60,
   "id": "2e3fa760-3ec0-4c36-b9f5-cc693a9648f6",
   "metadata": {},
   "outputs": [
    {
     "name": "stdout",
     "output_type": "stream",
     "text": [
      "0    1.0\n",
      "1    2.0\n",
      "2    6.5\n",
      "3    4.0\n",
      "4    4.0\n",
      "5    5.0\n",
      "6    6.0\n",
      "7    6.0\n",
      "8    7.0\n",
      "dtype: float64\n"
     ]
    }
   ],
   "source": [
    "print(ser)"
   ]
  },
  {
   "cell_type": "code",
   "execution_count": 7,
   "id": "e7f0c184-38fa-4778-99e7-db1201f2343d",
   "metadata": {},
   "outputs": [],
   "source": [
    "ser1 = pd.Series(List,name='age',index=['a','b','c','d','e','f','g','h','i'],dtype='string')"
   ]
  },
  {
   "cell_type": "code",
   "execution_count": 8,
   "id": "c5e02207-dbd2-45f9-9d05-03fdc98043f7",
   "metadata": {},
   "outputs": [
    {
     "data": {
      "text/plain": [
       "a    1\n",
       "b    2\n",
       "c    3\n",
       "d    4\n",
       "Name: age, dtype: string"
      ]
     },
     "execution_count": 8,
     "metadata": {},
     "output_type": "execute_result"
    }
   ],
   "source": [
    "ser1['a':'d']"
   ]
  },
  {
   "cell_type": "code",
   "execution_count": 9,
   "id": "6fee631b-b22a-4755-837a-e2537fa81cb2",
   "metadata": {},
   "outputs": [
    {
     "data": {
      "text/plain": [
       "numpy.int64"
      ]
     },
     "execution_count": 9,
     "metadata": {},
     "output_type": "execute_result"
    }
   ],
   "source": [
    "ser1=ser1.astype('int64')\n",
    "type(ser1[0])"
   ]
  },
  {
   "cell_type": "code",
   "execution_count": 10,
   "id": "b44c2c4e-7225-4dc0-a121-0f8efbf56bab",
   "metadata": {},
   "outputs": [
    {
     "data": {
      "text/plain": [
       "(4.222222222222222,\n",
       " 4.0,\n",
       " 0    4\n",
       " 1    6\n",
       " Name: age, dtype: int64)"
      ]
     },
     "execution_count": 10,
     "metadata": {},
     "output_type": "execute_result"
    }
   ],
   "source": [
    "ser1.mean(),ser1.median(),ser1.mode()"
   ]
  },
  {
   "cell_type": "code",
   "execution_count": 11,
   "id": "987b1ad1-4de7-424d-83fa-a5f620242bb8",
   "metadata": {},
   "outputs": [
    {
     "data": {
      "text/plain": [
       "False"
      ]
     },
     "execution_count": 11,
     "metadata": {},
     "output_type": "execute_result"
    }
   ],
   "source": [
    "ser1.mean()==ser1.median()==ser1.mode()"
   ]
  },
  {
   "cell_type": "code",
   "execution_count": 12,
   "id": "5c4dc413-c7dd-4cc8-98a9-86cf42d96a27",
   "metadata": {},
   "outputs": [],
   "source": [
    "data={\n",
    "        \"name\":[\n",
    "            \"nikk\",\"stop\",\"start\",\"inception\"\n",
    "            ],\n",
    "        \"age\":[1,2,3,4],\n",
    "        \"Sex\":['male','male','male','female'],\n",
    "        \"Education\":[\"d\",'l','d','g']\n",
    "\n",
    "    \n",
    "}"
   ]
  },
  {
   "cell_type": "code",
   "execution_count": null,
   "id": "47328881-d2db-446f-8db9-156f2321b818",
   "metadata": {},
   "outputs": [],
   "source": []
  },
  {
   "cell_type": "code",
   "execution_count": 13,
   "id": "22e0fce5-9c9e-45c5-aeb8-6563a47bf39a",
   "metadata": {},
   "outputs": [
    {
     "data": {
      "text/html": [
       "<div>\n",
       "<style scoped>\n",
       "    .dataframe tbody tr th:only-of-type {\n",
       "        vertical-align: middle;\n",
       "    }\n",
       "\n",
       "    .dataframe tbody tr th {\n",
       "        vertical-align: top;\n",
       "    }\n",
       "\n",
       "    .dataframe thead th {\n",
       "        text-align: right;\n",
       "    }\n",
       "</style>\n",
       "<table border=\"1\" class=\"dataframe\">\n",
       "  <thead>\n",
       "    <tr style=\"text-align: right;\">\n",
       "      <th></th>\n",
       "      <th>name</th>\n",
       "      <th>age</th>\n",
       "      <th>Sex</th>\n",
       "      <th>Education</th>\n",
       "    </tr>\n",
       "  </thead>\n",
       "  <tbody>\n",
       "    <tr>\n",
       "      <th>0</th>\n",
       "      <td>nikk</td>\n",
       "      <td>1</td>\n",
       "      <td>male</td>\n",
       "      <td>d</td>\n",
       "    </tr>\n",
       "    <tr>\n",
       "      <th>1</th>\n",
       "      <td>stop</td>\n",
       "      <td>2</td>\n",
       "      <td>male</td>\n",
       "      <td>l</td>\n",
       "    </tr>\n",
       "    <tr>\n",
       "      <th>2</th>\n",
       "      <td>start</td>\n",
       "      <td>3</td>\n",
       "      <td>male</td>\n",
       "      <td>d</td>\n",
       "    </tr>\n",
       "    <tr>\n",
       "      <th>3</th>\n",
       "      <td>inception</td>\n",
       "      <td>4</td>\n",
       "      <td>female</td>\n",
       "      <td>g</td>\n",
       "    </tr>\n",
       "  </tbody>\n",
       "</table>\n",
       "</div>"
      ],
      "text/plain": [
       "        name  age     Sex Education\n",
       "0       nikk    1    male         d\n",
       "1       stop    2    male         l\n",
       "2      start    3    male         d\n",
       "3  inception    4  female         g"
      ]
     },
     "execution_count": 13,
     "metadata": {},
     "output_type": "execute_result"
    }
   ],
   "source": [
    "df=pd.DataFrame(data)\n",
    "df"
   ]
  },
  {
   "cell_type": "code",
   "execution_count": 14,
   "id": "4f0a4d4c-4077-4434-af6b-7d04017c1317",
   "metadata": {},
   "outputs": [
    {
     "data": {
      "text/plain": [
       "name         object\n",
       "age           int64\n",
       "Sex          object\n",
       "Education    object\n",
       "dtype: object"
      ]
     },
     "execution_count": 14,
     "metadata": {},
     "output_type": "execute_result"
    }
   ],
   "source": [
    "df.dtypes"
   ]
  },
  {
   "cell_type": "code",
   "execution_count": 15,
   "id": "8011b45f-b580-4679-9507-601d4770eba1",
   "metadata": {},
   "outputs": [
    {
     "data": {
      "text/plain": [
       "Index(['name', 'age', 'Sex', 'Education'], dtype='object')"
      ]
     },
     "execution_count": 15,
     "metadata": {},
     "output_type": "execute_result"
    }
   ],
   "source": [
    "df.columns"
   ]
  },
  {
   "cell_type": "code",
   "execution_count": 16,
   "id": "218eb58d-e1fa-4c8b-bed8-9653e9e7c595",
   "metadata": {},
   "outputs": [
    {
     "data": {
      "text/plain": [
       "array([['nikk', 1, 'male', 'd'],\n",
       "       ['stop', 2, 'male', 'l'],\n",
       "       ['start', 3, 'male', 'd'],\n",
       "       ['inception', 4, 'female', 'g']], dtype=object)"
      ]
     },
     "execution_count": 16,
     "metadata": {},
     "output_type": "execute_result"
    }
   ],
   "source": [
    "df.values"
   ]
  },
  {
   "cell_type": "code",
   "execution_count": 17,
   "id": "4eafaace-d27c-44dc-80e9-f8ea84932898",
   "metadata": {},
   "outputs": [
    {
     "name": "stderr",
     "output_type": "stream",
     "text": [
      "C:\\Users\\HP\\AppData\\Local\\Temp\\ipykernel_30328\\310172179.py:1: SettingWithCopyWarning: \n",
      "A value is trying to be set on a copy of a slice from a DataFrame\n",
      "\n",
      "See the caveats in the documentation: https://pandas.pydata.org/pandas-docs/stable/user_guide/indexing.html#returning-a-view-versus-a-copy\n",
      "  df['age'][2]=0\n"
     ]
    }
   ],
   "source": [
    "df['age'][2]=0"
   ]
  },
  {
   "cell_type": "code",
   "execution_count": 18,
   "id": "51b7039d-42ff-43bf-bae1-3b7c070f0127",
   "metadata": {},
   "outputs": [
    {
     "data": {
      "text/plain": [
       "array([['nikk', 1, 'male', 'd'],\n",
       "       ['stop', 2, 'male', 'l'],\n",
       "       ['start', 0, 'male', 'd'],\n",
       "       ['inception', 4, 'female', 'g']], dtype=object)"
      ]
     },
     "execution_count": 18,
     "metadata": {},
     "output_type": "execute_result"
    }
   ],
   "source": [
    "df.values"
   ]
  },
  {
   "cell_type": "code",
   "execution_count": 19,
   "id": "9b1d20be-947c-44c0-ac02-714feb945664",
   "metadata": {},
   "outputs": [
    {
     "data": {
      "text/plain": [
       "1.75"
      ]
     },
     "execution_count": 19,
     "metadata": {},
     "output_type": "execute_result"
    }
   ],
   "source": [
    "df['age'].mean()"
   ]
  },
  {
   "cell_type": "code",
   "execution_count": 20,
   "id": "a1f313f9-7afb-46ae-be4c-6958da455c31",
   "metadata": {},
   "outputs": [],
   "source": [
    "df['gender']=df['Sex']"
   ]
  },
  {
   "cell_type": "code",
   "execution_count": 21,
   "id": "4ac53e8d-7c8e-4fbe-b898-b2e968d1b0da",
   "metadata": {},
   "outputs": [
    {
     "data": {
      "text/html": [
       "<div>\n",
       "<style scoped>\n",
       "    .dataframe tbody tr th:only-of-type {\n",
       "        vertical-align: middle;\n",
       "    }\n",
       "\n",
       "    .dataframe tbody tr th {\n",
       "        vertical-align: top;\n",
       "    }\n",
       "\n",
       "    .dataframe thead th {\n",
       "        text-align: right;\n",
       "    }\n",
       "</style>\n",
       "<table border=\"1\" class=\"dataframe\">\n",
       "  <thead>\n",
       "    <tr style=\"text-align: right;\">\n",
       "      <th></th>\n",
       "      <th>name</th>\n",
       "      <th>age</th>\n",
       "      <th>Sex</th>\n",
       "      <th>Education</th>\n",
       "      <th>gender</th>\n",
       "    </tr>\n",
       "  </thead>\n",
       "  <tbody>\n",
       "    <tr>\n",
       "      <th>0</th>\n",
       "      <td>nikk</td>\n",
       "      <td>1</td>\n",
       "      <td>male</td>\n",
       "      <td>d</td>\n",
       "      <td>male</td>\n",
       "    </tr>\n",
       "    <tr>\n",
       "      <th>1</th>\n",
       "      <td>stop</td>\n",
       "      <td>2</td>\n",
       "      <td>male</td>\n",
       "      <td>l</td>\n",
       "      <td>male</td>\n",
       "    </tr>\n",
       "    <tr>\n",
       "      <th>2</th>\n",
       "      <td>start</td>\n",
       "      <td>0</td>\n",
       "      <td>male</td>\n",
       "      <td>d</td>\n",
       "      <td>male</td>\n",
       "    </tr>\n",
       "    <tr>\n",
       "      <th>3</th>\n",
       "      <td>inception</td>\n",
       "      <td>4</td>\n",
       "      <td>female</td>\n",
       "      <td>g</td>\n",
       "      <td>female</td>\n",
       "    </tr>\n",
       "  </tbody>\n",
       "</table>\n",
       "</div>"
      ],
      "text/plain": [
       "        name  age     Sex Education  gender\n",
       "0       nikk    1    male         d    male\n",
       "1       stop    2    male         l    male\n",
       "2      start    0    male         d    male\n",
       "3  inception    4  female         g  female"
      ]
     },
     "execution_count": 21,
     "metadata": {},
     "output_type": "execute_result"
    }
   ],
   "source": [
    "df"
   ]
  },
  {
   "cell_type": "code",
   "execution_count": 22,
   "id": "bdd9f193-3ffe-498b-9071-5555913f51f1",
   "metadata": {},
   "outputs": [],
   "source": [
    "df.drop('Sex',axis=1,inplace=True)"
   ]
  },
  {
   "cell_type": "code",
   "execution_count": 23,
   "id": "7c3445dc-fcc3-4c43-a7f5-b2023722dedc",
   "metadata": {},
   "outputs": [
    {
     "data": {
      "text/html": [
       "<div>\n",
       "<style scoped>\n",
       "    .dataframe tbody tr th:only-of-type {\n",
       "        vertical-align: middle;\n",
       "    }\n",
       "\n",
       "    .dataframe tbody tr th {\n",
       "        vertical-align: top;\n",
       "    }\n",
       "\n",
       "    .dataframe thead th {\n",
       "        text-align: right;\n",
       "    }\n",
       "</style>\n",
       "<table border=\"1\" class=\"dataframe\">\n",
       "  <thead>\n",
       "    <tr style=\"text-align: right;\">\n",
       "      <th></th>\n",
       "      <th>name</th>\n",
       "      <th>age</th>\n",
       "      <th>Education</th>\n",
       "      <th>gender</th>\n",
       "    </tr>\n",
       "  </thead>\n",
       "  <tbody>\n",
       "    <tr>\n",
       "      <th>0</th>\n",
       "      <td>nikk</td>\n",
       "      <td>1</td>\n",
       "      <td>d</td>\n",
       "      <td>male</td>\n",
       "    </tr>\n",
       "    <tr>\n",
       "      <th>1</th>\n",
       "      <td>stop</td>\n",
       "      <td>2</td>\n",
       "      <td>l</td>\n",
       "      <td>male</td>\n",
       "    </tr>\n",
       "    <tr>\n",
       "      <th>2</th>\n",
       "      <td>start</td>\n",
       "      <td>0</td>\n",
       "      <td>d</td>\n",
       "      <td>male</td>\n",
       "    </tr>\n",
       "    <tr>\n",
       "      <th>3</th>\n",
       "      <td>inception</td>\n",
       "      <td>4</td>\n",
       "      <td>g</td>\n",
       "      <td>female</td>\n",
       "    </tr>\n",
       "  </tbody>\n",
       "</table>\n",
       "</div>"
      ],
      "text/plain": [
       "        name  age Education  gender\n",
       "0       nikk    1         d    male\n",
       "1       stop    2         l    male\n",
       "2      start    0         d    male\n",
       "3  inception    4         g  female"
      ]
     },
     "execution_count": 23,
     "metadata": {},
     "output_type": "execute_result"
    }
   ],
   "source": [
    "df"
   ]
  },
  {
   "cell_type": "code",
   "execution_count": 24,
   "id": "e7c11175-75ee-422b-ba39-fbd5b74f95ab",
   "metadata": {},
   "outputs": [
    {
     "data": {
      "text/html": [
       "<div>\n",
       "<style scoped>\n",
       "    .dataframe tbody tr th:only-of-type {\n",
       "        vertical-align: middle;\n",
       "    }\n",
       "\n",
       "    .dataframe tbody tr th {\n",
       "        vertical-align: top;\n",
       "    }\n",
       "\n",
       "    .dataframe thead th {\n",
       "        text-align: right;\n",
       "    }\n",
       "</style>\n",
       "<table border=\"1\" class=\"dataframe\">\n",
       "  <thead>\n",
       "    <tr style=\"text-align: right;\">\n",
       "      <th></th>\n",
       "      <th>name</th>\n",
       "      <th>age</th>\n",
       "      <th>Education</th>\n",
       "      <th>gender</th>\n",
       "    </tr>\n",
       "  </thead>\n",
       "  <tbody>\n",
       "    <tr>\n",
       "      <th>0</th>\n",
       "      <td>nikk</td>\n",
       "      <td>1</td>\n",
       "      <td>d</td>\n",
       "      <td>male</td>\n",
       "    </tr>\n",
       "    <tr>\n",
       "      <th>1</th>\n",
       "      <td>stop</td>\n",
       "      <td>2</td>\n",
       "      <td>l</td>\n",
       "      <td>male</td>\n",
       "    </tr>\n",
       "    <tr>\n",
       "      <th>2</th>\n",
       "      <td>start</td>\n",
       "      <td>0</td>\n",
       "      <td>d</td>\n",
       "      <td>male</td>\n",
       "    </tr>\n",
       "  </tbody>\n",
       "</table>\n",
       "</div>"
      ],
      "text/plain": [
       "    name  age Education gender\n",
       "0   nikk    1         d   male\n",
       "1   stop    2         l   male\n",
       "2  start    0         d   male"
      ]
     },
     "execution_count": 24,
     "metadata": {},
     "output_type": "execute_result"
    }
   ],
   "source": [
    "df[df['gender']=='male']"
   ]
  },
  {
   "cell_type": "code",
   "execution_count": 25,
   "id": "b22c65ec-9ee5-47e2-b06d-5bc854906dc0",
   "metadata": {},
   "outputs": [
    {
     "data": {
      "text/html": [
       "<div>\n",
       "<style scoped>\n",
       "    .dataframe tbody tr th:only-of-type {\n",
       "        vertical-align: middle;\n",
       "    }\n",
       "\n",
       "    .dataframe tbody tr th {\n",
       "        vertical-align: top;\n",
       "    }\n",
       "\n",
       "    .dataframe thead th {\n",
       "        text-align: right;\n",
       "    }\n",
       "</style>\n",
       "<table border=\"1\" class=\"dataframe\">\n",
       "  <thead>\n",
       "    <tr style=\"text-align: right;\">\n",
       "      <th></th>\n",
       "      <th>name</th>\n",
       "      <th>age</th>\n",
       "      <th>Education</th>\n",
       "      <th>gender</th>\n",
       "    </tr>\n",
       "  </thead>\n",
       "  <tbody>\n",
       "    <tr>\n",
       "      <th>0</th>\n",
       "      <td>nikk</td>\n",
       "      <td>1</td>\n",
       "      <td>d</td>\n",
       "      <td>male</td>\n",
       "    </tr>\n",
       "    <tr>\n",
       "      <th>2</th>\n",
       "      <td>start</td>\n",
       "      <td>0</td>\n",
       "      <td>d</td>\n",
       "      <td>male</td>\n",
       "    </tr>\n",
       "  </tbody>\n",
       "</table>\n",
       "</div>"
      ],
      "text/plain": [
       "    name  age Education gender\n",
       "0   nikk    1         d   male\n",
       "2  start    0         d   male"
      ]
     },
     "execution_count": 25,
     "metadata": {},
     "output_type": "execute_result"
    }
   ],
   "source": [
    "df[df['Education']=='d']"
   ]
  },
  {
   "cell_type": "code",
   "execution_count": 27,
   "id": "22accafa-6b6e-4ae4-90e7-f90cbe968ab7",
   "metadata": {},
   "outputs": [
    {
     "data": {
      "text/plain": [
       "0     True\n",
       "1     True\n",
       "2     True\n",
       "3    False\n",
       "Name: gender, dtype: bool"
      ]
     },
     "execution_count": 27,
     "metadata": {},
     "output_type": "execute_result"
    }
   ],
   "source": [
    "df['gender']=='male'\n"
   ]
  },
  {
   "cell_type": "code",
   "execution_count": 44,
   "id": "f0cb3f83-a2ca-4aaa-b65d-1ef1c9b0ea46",
   "metadata": {},
   "outputs": [
    {
     "data": {
      "text/plain": [
       "1.0"
      ]
     },
     "execution_count": 44,
     "metadata": {},
     "output_type": "execute_result"
    }
   ],
   "source": [
    "df_male=df[df['gender']=='male']\n",
    "df_male['age'].mean()"
   ]
  },
  {
   "cell_type": "code",
   "execution_count": 8,
   "id": "9203f0fe-229a-4dce-a261-076a1bd2f53d",
   "metadata": {},
   "outputs": [
    {
     "data": {
      "text/html": [
       "<div>\n",
       "<style scoped>\n",
       "    .dataframe tbody tr th:only-of-type {\n",
       "        vertical-align: middle;\n",
       "    }\n",
       "\n",
       "    .dataframe tbody tr th {\n",
       "        vertical-align: top;\n",
       "    }\n",
       "\n",
       "    .dataframe thead th {\n",
       "        text-align: right;\n",
       "    }\n",
       "</style>\n",
       "<table border=\"1\" class=\"dataframe\">\n",
       "  <thead>\n",
       "    <tr style=\"text-align: right;\">\n",
       "      <th></th>\n",
       "      <th>rank</th>\n",
       "      <th>discipline</th>\n",
       "      <th>phd</th>\n",
       "      <th>service</th>\n",
       "      <th>sex</th>\n",
       "      <th>salary</th>\n",
       "    </tr>\n",
       "  </thead>\n",
       "  <tbody>\n",
       "    <tr>\n",
       "      <th>0</th>\n",
       "      <td>Prof</td>\n",
       "      <td>A</td>\n",
       "      <td>51.0</td>\n",
       "      <td>51</td>\n",
       "      <td>Male</td>\n",
       "      <td>57800</td>\n",
       "    </tr>\n",
       "    <tr>\n",
       "      <th>1</th>\n",
       "      <td>AssocProf</td>\n",
       "      <td>A</td>\n",
       "      <td>25.0</td>\n",
       "      <td>22</td>\n",
       "      <td>Female</td>\n",
       "      <td>62884</td>\n",
       "    </tr>\n",
       "    <tr>\n",
       "      <th>2</th>\n",
       "      <td>AsstProf</td>\n",
       "      <td>A</td>\n",
       "      <td>7.0</td>\n",
       "      <td>6</td>\n",
       "      <td>Female</td>\n",
       "      <td>63100</td>\n",
       "    </tr>\n",
       "    <tr>\n",
       "      <th>3</th>\n",
       "      <td>AssocProf</td>\n",
       "      <td>B</td>\n",
       "      <td>12.0</td>\n",
       "      <td>9</td>\n",
       "      <td>Female</td>\n",
       "      <td>71065</td>\n",
       "    </tr>\n",
       "    <tr>\n",
       "      <th>4</th>\n",
       "      <td>AsstProf</td>\n",
       "      <td>B</td>\n",
       "      <td>2.0</td>\n",
       "      <td>0</td>\n",
       "      <td>Female</td>\n",
       "      <td>72500</td>\n",
       "    </tr>\n",
       "    <tr>\n",
       "      <th>...</th>\n",
       "      <td>...</td>\n",
       "      <td>...</td>\n",
       "      <td>...</td>\n",
       "      <td>...</td>\n",
       "      <td>...</td>\n",
       "      <td>...</td>\n",
       "    </tr>\n",
       "    <tr>\n",
       "      <th>73</th>\n",
       "      <td>Prof</td>\n",
       "      <td>B</td>\n",
       "      <td>22.0</td>\n",
       "      <td>21</td>\n",
       "      <td>Male</td>\n",
       "      <td>155750</td>\n",
       "    </tr>\n",
       "    <tr>\n",
       "      <th>74</th>\n",
       "      <td>Prof</td>\n",
       "      <td>A</td>\n",
       "      <td>45.0</td>\n",
       "      <td>43</td>\n",
       "      <td>Male</td>\n",
       "      <td>155865</td>\n",
       "    </tr>\n",
       "    <tr>\n",
       "      <th>75</th>\n",
       "      <td>Prof</td>\n",
       "      <td>B</td>\n",
       "      <td>24.0</td>\n",
       "      <td>15</td>\n",
       "      <td>Female</td>\n",
       "      <td>161101</td>\n",
       "    </tr>\n",
       "    <tr>\n",
       "      <th>76</th>\n",
       "      <td>Prof</td>\n",
       "      <td>B</td>\n",
       "      <td>35.0</td>\n",
       "      <td>33</td>\n",
       "      <td>Male</td>\n",
       "      <td>162200</td>\n",
       "    </tr>\n",
       "    <tr>\n",
       "      <th>77</th>\n",
       "      <td>Prof</td>\n",
       "      <td>B</td>\n",
       "      <td>56.0</td>\n",
       "      <td>49</td>\n",
       "      <td>Male</td>\n",
       "      <td>186960</td>\n",
       "    </tr>\n",
       "  </tbody>\n",
       "</table>\n",
       "<p>78 rows × 6 columns</p>\n",
       "</div>"
      ],
      "text/plain": [
       "         rank discipline   phd  service     sex  salary\n",
       "0        Prof          A  51.0       51    Male   57800\n",
       "1   AssocProf          A  25.0       22  Female   62884\n",
       "2    AsstProf          A   7.0        6  Female   63100\n",
       "3   AssocProf          B  12.0        9  Female   71065\n",
       "4    AsstProf          B   2.0        0  Female   72500\n",
       "..        ...        ...   ...      ...     ...     ...\n",
       "73       Prof          B  22.0       21    Male  155750\n",
       "74       Prof          A  45.0       43    Male  155865\n",
       "75       Prof          B  24.0       15  Female  161101\n",
       "76       Prof          B  35.0       33    Male  162200\n",
       "77       Prof          B  56.0       49    Male  186960\n",
       "\n",
       "[78 rows x 6 columns]"
      ]
     },
     "execution_count": 8,
     "metadata": {},
     "output_type": "execute_result"
    }
   ],
   "source": [
    "salaries_df=pd.read_csv(r\"C:\\Users\\HP\\Downloads\\Salaries2.csv\")\n",
    "salaries_df"
   ]
  },
  {
   "cell_type": "code",
   "execution_count": 47,
   "id": "99d9f5a9-210e-44c1-8ec3-94b05b627fe2",
   "metadata": {},
   "outputs": [
    {
     "data": {
      "text/plain": [
       "Index(['rank', 'discipline', 'phd', 'service', 'sex', 'salary'], dtype='object')"
      ]
     },
     "execution_count": 47,
     "metadata": {},
     "output_type": "execute_result"
    }
   ],
   "source": [
    "salaries_df.columns"
   ]
  },
  {
   "cell_type": "code",
   "execution_count": 41,
   "id": "bf7897da-994e-4fa3-8258-4fc6bfc1b1c1",
   "metadata": {},
   "outputs": [
    {
     "data": {
      "text/plain": [
       "(78, 6)"
      ]
     },
     "execution_count": 41,
     "metadata": {},
     "output_type": "execute_result"
    }
   ],
   "source": [
    "salaries_df.shape"
   ]
  },
  {
   "cell_type": "code",
   "execution_count": 39,
   "id": "08c7ca85-a838-4b84-90ad-5b608c239ac0",
   "metadata": {},
   "outputs": [
    {
     "name": "stdout",
     "output_type": "stream",
     "text": [
      "<class 'pandas.core.frame.DataFrame'>\n",
      "RangeIndex: 78 entries, 0 to 77\n",
      "Data columns (total 6 columns):\n",
      " #   Column      Non-Null Count  Dtype  \n",
      "---  ------      --------------  -----  \n",
      " 0   rank        78 non-null     object \n",
      " 1   discipline  73 non-null     object \n",
      " 2   phd         75 non-null     float64\n",
      " 3   service     78 non-null     int64  \n",
      " 4   sex         78 non-null     object \n",
      " 5   salary      78 non-null     int64  \n",
      "dtypes: float64(1), int64(2), object(3)\n",
      "memory usage: 3.8+ KB\n"
     ]
    }
   ],
   "source": [
    "salaries_df.info()"
   ]
  },
  {
   "cell_type": "code",
   "execution_count": 40,
   "id": "91ca8c8e-bd4f-4c58-8e17-a79e93938f98",
   "metadata": {},
   "outputs": [
    {
     "data": {
      "text/html": [
       "<div>\n",
       "<style scoped>\n",
       "    .dataframe tbody tr th:only-of-type {\n",
       "        vertical-align: middle;\n",
       "    }\n",
       "\n",
       "    .dataframe tbody tr th {\n",
       "        vertical-align: top;\n",
       "    }\n",
       "\n",
       "    .dataframe thead th {\n",
       "        text-align: right;\n",
       "    }\n",
       "</style>\n",
       "<table border=\"1\" class=\"dataframe\">\n",
       "  <thead>\n",
       "    <tr style=\"text-align: right;\">\n",
       "      <th></th>\n",
       "      <th>phd</th>\n",
       "      <th>service</th>\n",
       "      <th>salary</th>\n",
       "    </tr>\n",
       "  </thead>\n",
       "  <tbody>\n",
       "    <tr>\n",
       "      <th>count</th>\n",
       "      <td>75.000000</td>\n",
       "      <td>78.000000</td>\n",
       "      <td>78.000000</td>\n",
       "    </tr>\n",
       "    <tr>\n",
       "      <th>mean</th>\n",
       "      <td>19.626667</td>\n",
       "      <td>15.051282</td>\n",
       "      <td>108023.782051</td>\n",
       "    </tr>\n",
       "    <tr>\n",
       "      <th>std</th>\n",
       "      <td>12.803899</td>\n",
       "      <td>12.139768</td>\n",
       "      <td>28293.661022</td>\n",
       "    </tr>\n",
       "    <tr>\n",
       "      <th>min</th>\n",
       "      <td>1.000000</td>\n",
       "      <td>0.000000</td>\n",
       "      <td>57800.000000</td>\n",
       "    </tr>\n",
       "    <tr>\n",
       "      <th>25%</th>\n",
       "      <td>9.500000</td>\n",
       "      <td>5.250000</td>\n",
       "      <td>88612.500000</td>\n",
       "    </tr>\n",
       "    <tr>\n",
       "      <th>50%</th>\n",
       "      <td>18.000000</td>\n",
       "      <td>14.500000</td>\n",
       "      <td>104671.000000</td>\n",
       "    </tr>\n",
       "    <tr>\n",
       "      <th>75%</th>\n",
       "      <td>28.000000</td>\n",
       "      <td>20.750000</td>\n",
       "      <td>126774.750000</td>\n",
       "    </tr>\n",
       "    <tr>\n",
       "      <th>max</th>\n",
       "      <td>56.000000</td>\n",
       "      <td>51.000000</td>\n",
       "      <td>186960.000000</td>\n",
       "    </tr>\n",
       "  </tbody>\n",
       "</table>\n",
       "</div>"
      ],
      "text/plain": [
       "             phd    service         salary\n",
       "count  75.000000  78.000000      78.000000\n",
       "mean   19.626667  15.051282  108023.782051\n",
       "std    12.803899  12.139768   28293.661022\n",
       "min     1.000000   0.000000   57800.000000\n",
       "25%     9.500000   5.250000   88612.500000\n",
       "50%    18.000000  14.500000  104671.000000\n",
       "75%    28.000000  20.750000  126774.750000\n",
       "max    56.000000  51.000000  186960.000000"
      ]
     },
     "execution_count": 40,
     "metadata": {},
     "output_type": "execute_result"
    }
   ],
   "source": [
    "salaries_df.describe()"
   ]
  },
  {
   "cell_type": "code",
   "execution_count": 48,
   "id": "4843b638-96fe-4aac-bc45-5cb4fe26243d",
   "metadata": {},
   "outputs": [
    {
     "data": {
      "text/plain": [
       "(        rank discipline   phd  service     sex  salary\n",
       " 0       Prof          A  51.0       51    Male   57800\n",
       " 1  AssocProf          A  25.0       22  Female   62884\n",
       " 2   AsstProf          A   7.0        6  Female   63100\n",
       " 3  AssocProf          B  12.0        9  Female   71065\n",
       " 4   AsstProf          B   2.0        0  Female   72500,\n",
       "     rank discipline   phd  service     sex  salary\n",
       " 73  Prof          B  22.0       21    Male  155750\n",
       " 74  Prof          A  45.0       43    Male  155865\n",
       " 75  Prof          B  24.0       15  Female  161101\n",
       " 76  Prof          B  35.0       33    Male  162200\n",
       " 77  Prof          B  56.0       49    Male  186960)"
      ]
     },
     "execution_count": 48,
     "metadata": {},
     "output_type": "execute_result"
    }
   ],
   "source": [
    "salaries_df.head(),salaries_df.tail()"
   ]
  },
  {
   "cell_type": "code",
   "execution_count": 49,
   "id": "96775c5d-63b7-4adf-862c-cce56b3e4086",
   "metadata": {},
   "outputs": [
    {
     "data": {
      "text/html": [
       "<div>\n",
       "<style scoped>\n",
       "    .dataframe tbody tr th:only-of-type {\n",
       "        vertical-align: middle;\n",
       "    }\n",
       "\n",
       "    .dataframe tbody tr th {\n",
       "        vertical-align: top;\n",
       "    }\n",
       "\n",
       "    .dataframe thead th {\n",
       "        text-align: right;\n",
       "    }\n",
       "</style>\n",
       "<table border=\"1\" class=\"dataframe\">\n",
       "  <thead>\n",
       "    <tr style=\"text-align: right;\">\n",
       "      <th></th>\n",
       "      <th>rank</th>\n",
       "      <th>discipline</th>\n",
       "      <th>phd</th>\n",
       "      <th>service</th>\n",
       "      <th>sex</th>\n",
       "      <th>salary</th>\n",
       "    </tr>\n",
       "  </thead>\n",
       "  <tbody>\n",
       "    <tr>\n",
       "      <th>count</th>\n",
       "      <td>78</td>\n",
       "      <td>73</td>\n",
       "      <td>75.000000</td>\n",
       "      <td>78.000000</td>\n",
       "      <td>78</td>\n",
       "      <td>78.000000</td>\n",
       "    </tr>\n",
       "    <tr>\n",
       "      <th>unique</th>\n",
       "      <td>3</td>\n",
       "      <td>2</td>\n",
       "      <td>NaN</td>\n",
       "      <td>NaN</td>\n",
       "      <td>2</td>\n",
       "      <td>NaN</td>\n",
       "    </tr>\n",
       "    <tr>\n",
       "      <th>top</th>\n",
       "      <td>Prof</td>\n",
       "      <td>B</td>\n",
       "      <td>NaN</td>\n",
       "      <td>NaN</td>\n",
       "      <td>Male</td>\n",
       "      <td>NaN</td>\n",
       "    </tr>\n",
       "    <tr>\n",
       "      <th>freq</th>\n",
       "      <td>46</td>\n",
       "      <td>40</td>\n",
       "      <td>NaN</td>\n",
       "      <td>NaN</td>\n",
       "      <td>39</td>\n",
       "      <td>NaN</td>\n",
       "    </tr>\n",
       "    <tr>\n",
       "      <th>mean</th>\n",
       "      <td>NaN</td>\n",
       "      <td>NaN</td>\n",
       "      <td>19.626667</td>\n",
       "      <td>15.051282</td>\n",
       "      <td>NaN</td>\n",
       "      <td>108023.782051</td>\n",
       "    </tr>\n",
       "    <tr>\n",
       "      <th>std</th>\n",
       "      <td>NaN</td>\n",
       "      <td>NaN</td>\n",
       "      <td>12.803899</td>\n",
       "      <td>12.139768</td>\n",
       "      <td>NaN</td>\n",
       "      <td>28293.661022</td>\n",
       "    </tr>\n",
       "    <tr>\n",
       "      <th>min</th>\n",
       "      <td>NaN</td>\n",
       "      <td>NaN</td>\n",
       "      <td>1.000000</td>\n",
       "      <td>0.000000</td>\n",
       "      <td>NaN</td>\n",
       "      <td>57800.000000</td>\n",
       "    </tr>\n",
       "    <tr>\n",
       "      <th>25%</th>\n",
       "      <td>NaN</td>\n",
       "      <td>NaN</td>\n",
       "      <td>9.500000</td>\n",
       "      <td>5.250000</td>\n",
       "      <td>NaN</td>\n",
       "      <td>88612.500000</td>\n",
       "    </tr>\n",
       "    <tr>\n",
       "      <th>50%</th>\n",
       "      <td>NaN</td>\n",
       "      <td>NaN</td>\n",
       "      <td>18.000000</td>\n",
       "      <td>14.500000</td>\n",
       "      <td>NaN</td>\n",
       "      <td>104671.000000</td>\n",
       "    </tr>\n",
       "    <tr>\n",
       "      <th>75%</th>\n",
       "      <td>NaN</td>\n",
       "      <td>NaN</td>\n",
       "      <td>28.000000</td>\n",
       "      <td>20.750000</td>\n",
       "      <td>NaN</td>\n",
       "      <td>126774.750000</td>\n",
       "    </tr>\n",
       "    <tr>\n",
       "      <th>max</th>\n",
       "      <td>NaN</td>\n",
       "      <td>NaN</td>\n",
       "      <td>56.000000</td>\n",
       "      <td>51.000000</td>\n",
       "      <td>NaN</td>\n",
       "      <td>186960.000000</td>\n",
       "    </tr>\n",
       "  </tbody>\n",
       "</table>\n",
       "</div>"
      ],
      "text/plain": [
       "        rank discipline        phd    service   sex         salary\n",
       "count     78         73  75.000000  78.000000    78      78.000000\n",
       "unique     3          2        NaN        NaN     2            NaN\n",
       "top     Prof          B        NaN        NaN  Male            NaN\n",
       "freq      46         40        NaN        NaN    39            NaN\n",
       "mean     NaN        NaN  19.626667  15.051282   NaN  108023.782051\n",
       "std      NaN        NaN  12.803899  12.139768   NaN   28293.661022\n",
       "min      NaN        NaN   1.000000   0.000000   NaN   57800.000000\n",
       "25%      NaN        NaN   9.500000   5.250000   NaN   88612.500000\n",
       "50%      NaN        NaN  18.000000  14.500000   NaN  104671.000000\n",
       "75%      NaN        NaN  28.000000  20.750000   NaN  126774.750000\n",
       "max      NaN        NaN  56.000000  51.000000   NaN  186960.000000"
      ]
     },
     "execution_count": 49,
     "metadata": {},
     "output_type": "execute_result"
    }
   ],
   "source": [
    "salaries_df.describe(include='all')"
   ]
  },
  {
   "cell_type": "code",
   "execution_count": 50,
   "id": "5cb6228b-875f-4b53-b762-9a44a5cccfdb",
   "metadata": {},
   "outputs": [
    {
     "data": {
      "text/html": [
       "<div>\n",
       "<style scoped>\n",
       "    .dataframe tbody tr th:only-of-type {\n",
       "        vertical-align: middle;\n",
       "    }\n",
       "\n",
       "    .dataframe tbody tr th {\n",
       "        vertical-align: top;\n",
       "    }\n",
       "\n",
       "    .dataframe thead th {\n",
       "        text-align: right;\n",
       "    }\n",
       "</style>\n",
       "<table border=\"1\" class=\"dataframe\">\n",
       "  <thead>\n",
       "    <tr style=\"text-align: right;\">\n",
       "      <th></th>\n",
       "      <th>rank</th>\n",
       "      <th>discipline</th>\n",
       "      <th>service</th>\n",
       "      <th>sex</th>\n",
       "      <th>salary</th>\n",
       "    </tr>\n",
       "  </thead>\n",
       "  <tbody>\n",
       "    <tr>\n",
       "      <th>count</th>\n",
       "      <td>78</td>\n",
       "      <td>73</td>\n",
       "      <td>78.000000</td>\n",
       "      <td>78</td>\n",
       "      <td>78.000000</td>\n",
       "    </tr>\n",
       "    <tr>\n",
       "      <th>unique</th>\n",
       "      <td>3</td>\n",
       "      <td>2</td>\n",
       "      <td>NaN</td>\n",
       "      <td>2</td>\n",
       "      <td>NaN</td>\n",
       "    </tr>\n",
       "    <tr>\n",
       "      <th>top</th>\n",
       "      <td>Prof</td>\n",
       "      <td>B</td>\n",
       "      <td>NaN</td>\n",
       "      <td>Male</td>\n",
       "      <td>NaN</td>\n",
       "    </tr>\n",
       "    <tr>\n",
       "      <th>freq</th>\n",
       "      <td>46</td>\n",
       "      <td>40</td>\n",
       "      <td>NaN</td>\n",
       "      <td>39</td>\n",
       "      <td>NaN</td>\n",
       "    </tr>\n",
       "    <tr>\n",
       "      <th>mean</th>\n",
       "      <td>NaN</td>\n",
       "      <td>NaN</td>\n",
       "      <td>15.051282</td>\n",
       "      <td>NaN</td>\n",
       "      <td>108023.782051</td>\n",
       "    </tr>\n",
       "    <tr>\n",
       "      <th>std</th>\n",
       "      <td>NaN</td>\n",
       "      <td>NaN</td>\n",
       "      <td>12.139768</td>\n",
       "      <td>NaN</td>\n",
       "      <td>28293.661022</td>\n",
       "    </tr>\n",
       "    <tr>\n",
       "      <th>min</th>\n",
       "      <td>NaN</td>\n",
       "      <td>NaN</td>\n",
       "      <td>0.000000</td>\n",
       "      <td>NaN</td>\n",
       "      <td>57800.000000</td>\n",
       "    </tr>\n",
       "    <tr>\n",
       "      <th>25%</th>\n",
       "      <td>NaN</td>\n",
       "      <td>NaN</td>\n",
       "      <td>5.250000</td>\n",
       "      <td>NaN</td>\n",
       "      <td>88612.500000</td>\n",
       "    </tr>\n",
       "    <tr>\n",
       "      <th>50%</th>\n",
       "      <td>NaN</td>\n",
       "      <td>NaN</td>\n",
       "      <td>14.500000</td>\n",
       "      <td>NaN</td>\n",
       "      <td>104671.000000</td>\n",
       "    </tr>\n",
       "    <tr>\n",
       "      <th>75%</th>\n",
       "      <td>NaN</td>\n",
       "      <td>NaN</td>\n",
       "      <td>20.750000</td>\n",
       "      <td>NaN</td>\n",
       "      <td>126774.750000</td>\n",
       "    </tr>\n",
       "    <tr>\n",
       "      <th>max</th>\n",
       "      <td>NaN</td>\n",
       "      <td>NaN</td>\n",
       "      <td>51.000000</td>\n",
       "      <td>NaN</td>\n",
       "      <td>186960.000000</td>\n",
       "    </tr>\n",
       "  </tbody>\n",
       "</table>\n",
       "</div>"
      ],
      "text/plain": [
       "        rank discipline    service   sex         salary\n",
       "count     78         73  78.000000    78      78.000000\n",
       "unique     3          2        NaN     2            NaN\n",
       "top     Prof          B        NaN  Male            NaN\n",
       "freq      46         40        NaN    39            NaN\n",
       "mean     NaN        NaN  15.051282   NaN  108023.782051\n",
       "std      NaN        NaN  12.139768   NaN   28293.661022\n",
       "min      NaN        NaN   0.000000   NaN   57800.000000\n",
       "25%      NaN        NaN   5.250000   NaN   88612.500000\n",
       "50%      NaN        NaN  14.500000   NaN  104671.000000\n",
       "75%      NaN        NaN  20.750000   NaN  126774.750000\n",
       "max      NaN        NaN  51.000000   NaN  186960.000000"
      ]
     },
     "execution_count": 50,
     "metadata": {},
     "output_type": "execute_result"
    }
   ],
   "source": [
    "salaries_df.describe(exclude='float')"
   ]
  },
  {
   "cell_type": "code",
   "execution_count": 51,
   "id": "d33827c7-e118-46d6-af23-8f2799d64504",
   "metadata": {},
   "outputs": [
    {
     "data": {
      "text/html": [
       "<div>\n",
       "<style scoped>\n",
       "    .dataframe tbody tr th:only-of-type {\n",
       "        vertical-align: middle;\n",
       "    }\n",
       "\n",
       "    .dataframe tbody tr th {\n",
       "        vertical-align: top;\n",
       "    }\n",
       "\n",
       "    .dataframe thead th {\n",
       "        text-align: right;\n",
       "    }\n",
       "</style>\n",
       "<table border=\"1\" class=\"dataframe\">\n",
       "  <thead>\n",
       "    <tr style=\"text-align: right;\">\n",
       "      <th></th>\n",
       "      <th>rank</th>\n",
       "      <th>discipline</th>\n",
       "      <th>sex</th>\n",
       "    </tr>\n",
       "  </thead>\n",
       "  <tbody>\n",
       "    <tr>\n",
       "      <th>count</th>\n",
       "      <td>78</td>\n",
       "      <td>73</td>\n",
       "      <td>78</td>\n",
       "    </tr>\n",
       "    <tr>\n",
       "      <th>unique</th>\n",
       "      <td>3</td>\n",
       "      <td>2</td>\n",
       "      <td>2</td>\n",
       "    </tr>\n",
       "    <tr>\n",
       "      <th>top</th>\n",
       "      <td>Prof</td>\n",
       "      <td>B</td>\n",
       "      <td>Male</td>\n",
       "    </tr>\n",
       "    <tr>\n",
       "      <th>freq</th>\n",
       "      <td>46</td>\n",
       "      <td>40</td>\n",
       "      <td>39</td>\n",
       "    </tr>\n",
       "  </tbody>\n",
       "</table>\n",
       "</div>"
      ],
      "text/plain": [
       "        rank discipline   sex\n",
       "count     78         73    78\n",
       "unique     3          2     2\n",
       "top     Prof          B  Male\n",
       "freq      46         40    39"
      ]
     },
     "execution_count": 51,
     "metadata": {},
     "output_type": "execute_result"
    }
   ],
   "source": [
    "salaries_df.describe(exclude=['float','int'])"
   ]
  },
  {
   "cell_type": "code",
   "execution_count": 52,
   "id": "bf9e3fe9-b841-4c2c-8f44-a2bec07cbb4b",
   "metadata": {},
   "outputs": [
    {
     "data": {
      "text/plain": [
       "Prof         46\n",
       "AsstProf     19\n",
       "AssocProf    13\n",
       "Name: rank, dtype: int64"
      ]
     },
     "execution_count": 52,
     "metadata": {},
     "output_type": "execute_result"
    }
   ],
   "source": [
    "salaries_df['rank'].value_counts()"
   ]
  },
  {
   "cell_type": "code",
   "execution_count": 53,
   "id": "3ea0e433-6815-40fb-ae8e-f0555b64a804",
   "metadata": {},
   "outputs": [
    {
     "data": {
      "text/plain": [
       "B    40\n",
       "A    33\n",
       "Name: discipline, dtype: int64"
      ]
     },
     "execution_count": 53,
     "metadata": {},
     "output_type": "execute_result"
    }
   ],
   "source": [
    "salaries_df['discipline'].value_counts()"
   ]
  },
  {
   "cell_type": "code",
   "execution_count": 54,
   "id": "8f82811a-3c60-4180-bbdd-74f13add9585",
   "metadata": {},
   "outputs": [
    {
     "data": {
      "text/plain": [
       "Male      39\n",
       "Female    39\n",
       "Name: sex, dtype: int64"
      ]
     },
     "execution_count": 54,
     "metadata": {},
     "output_type": "execute_result"
    }
   ],
   "source": [
    "salaries_df['sex'].value_counts()"
   ]
  },
  {
   "cell_type": "code",
   "execution_count": 55,
   "id": "a08dbe04-b90d-4a2d-9df5-4381c55196a9",
   "metadata": {},
   "outputs": [
    {
     "data": {
      "text/plain": [
       "108023.78205128205"
      ]
     },
     "execution_count": 55,
     "metadata": {},
     "output_type": "execute_result"
    }
   ],
   "source": [
    "salaries_df['salary'].mean()"
   ]
  },
  {
   "cell_type": "code",
   "execution_count": 57,
   "id": "775ba8aa-e894-4a9f-89bc-61538275a0b3",
   "metadata": {},
   "outputs": [
    {
     "data": {
      "text/html": [
       "<div>\n",
       "<style scoped>\n",
       "    .dataframe tbody tr th:only-of-type {\n",
       "        vertical-align: middle;\n",
       "    }\n",
       "\n",
       "    .dataframe tbody tr th {\n",
       "        vertical-align: top;\n",
       "    }\n",
       "\n",
       "    .dataframe thead th {\n",
       "        text-align: right;\n",
       "    }\n",
       "</style>\n",
       "<table border=\"1\" class=\"dataframe\">\n",
       "  <thead>\n",
       "    <tr style=\"text-align: right;\">\n",
       "      <th></th>\n",
       "      <th>rank</th>\n",
       "      <th>discipline</th>\n",
       "      <th>phd</th>\n",
       "      <th>service</th>\n",
       "      <th>sex</th>\n",
       "      <th>salary</th>\n",
       "    </tr>\n",
       "  </thead>\n",
       "  <tbody>\n",
       "    <tr>\n",
       "      <th>0</th>\n",
       "      <td>Prof</td>\n",
       "      <td>A</td>\n",
       "      <td>51.0</td>\n",
       "      <td>51</td>\n",
       "      <td>Male</td>\n",
       "      <td>57800</td>\n",
       "    </tr>\n",
       "    <tr>\n",
       "      <th>20</th>\n",
       "      <td>Prof</td>\n",
       "      <td>A</td>\n",
       "      <td>17.0</td>\n",
       "      <td>11</td>\n",
       "      <td>Female</td>\n",
       "      <td>90450</td>\n",
       "    </tr>\n",
       "    <tr>\n",
       "      <th>22</th>\n",
       "      <td>Prof</td>\n",
       "      <td>A</td>\n",
       "      <td>29.0</td>\n",
       "      <td>27</td>\n",
       "      <td>Female</td>\n",
       "      <td>91000</td>\n",
       "    </tr>\n",
       "    <tr>\n",
       "      <th>23</th>\n",
       "      <td>Prof</td>\n",
       "      <td>A</td>\n",
       "      <td>30.0</td>\n",
       "      <td>23</td>\n",
       "      <td>Male</td>\n",
       "      <td>91100</td>\n",
       "    </tr>\n",
       "    <tr>\n",
       "      <th>28</th>\n",
       "      <td>Prof</td>\n",
       "      <td>A</td>\n",
       "      <td>12.0</td>\n",
       "      <td>6</td>\n",
       "      <td>Male</td>\n",
       "      <td>93000</td>\n",
       "    </tr>\n",
       "    <tr>\n",
       "      <th>29</th>\n",
       "      <td>Prof</td>\n",
       "      <td>A</td>\n",
       "      <td>29.0</td>\n",
       "      <td>19</td>\n",
       "      <td>Male</td>\n",
       "      <td>94350</td>\n",
       "    </tr>\n",
       "    <tr>\n",
       "      <th>31</th>\n",
       "      <td>Prof</td>\n",
       "      <td>NaN</td>\n",
       "      <td>35.0</td>\n",
       "      <td>31</td>\n",
       "      <td>Male</td>\n",
       "      <td>99418</td>\n",
       "    </tr>\n",
       "    <tr>\n",
       "      <th>32</th>\n",
       "      <td>Prof</td>\n",
       "      <td>A</td>\n",
       "      <td>NaN</td>\n",
       "      <td>8</td>\n",
       "      <td>Male</td>\n",
       "      <td>102000</td>\n",
       "    </tr>\n",
       "    <tr>\n",
       "      <th>33</th>\n",
       "      <td>Prof</td>\n",
       "      <td>A</td>\n",
       "      <td>33.0</td>\n",
       "      <td>30</td>\n",
       "      <td>Male</td>\n",
       "      <td>103106</td>\n",
       "    </tr>\n",
       "    <tr>\n",
       "      <th>34</th>\n",
       "      <td>Prof</td>\n",
       "      <td>A</td>\n",
       "      <td>27.0</td>\n",
       "      <td>19</td>\n",
       "      <td>Male</td>\n",
       "      <td>103275</td>\n",
       "    </tr>\n",
       "    <tr>\n",
       "      <th>39</th>\n",
       "      <td>Prof</td>\n",
       "      <td>B</td>\n",
       "      <td>20.0</td>\n",
       "      <td>18</td>\n",
       "      <td>Male</td>\n",
       "      <td>104800</td>\n",
       "    </tr>\n",
       "    <tr>\n",
       "      <th>40</th>\n",
       "      <td>Prof</td>\n",
       "      <td>A</td>\n",
       "      <td>12.0</td>\n",
       "      <td>0</td>\n",
       "      <td>Female</td>\n",
       "      <td>105000</td>\n",
       "    </tr>\n",
       "    <tr>\n",
       "      <th>41</th>\n",
       "      <td>Prof</td>\n",
       "      <td>B</td>\n",
       "      <td>18.0</td>\n",
       "      <td>10</td>\n",
       "      <td>Female</td>\n",
       "      <td>105450</td>\n",
       "    </tr>\n",
       "    <tr>\n",
       "      <th>43</th>\n",
       "      <td>Prof</td>\n",
       "      <td>NaN</td>\n",
       "      <td>19.0</td>\n",
       "      <td>7</td>\n",
       "      <td>Male</td>\n",
       "      <td>107300</td>\n",
       "    </tr>\n",
       "    <tr>\n",
       "      <th>44</th>\n",
       "      <td>Prof</td>\n",
       "      <td>A</td>\n",
       "      <td>23.0</td>\n",
       "      <td>15</td>\n",
       "      <td>Female</td>\n",
       "      <td>109646</td>\n",
       "    </tr>\n",
       "    <tr>\n",
       "      <th>46</th>\n",
       "      <td>Prof</td>\n",
       "      <td>A</td>\n",
       "      <td>28.0</td>\n",
       "      <td>14</td>\n",
       "      <td>Female</td>\n",
       "      <td>109954</td>\n",
       "    </tr>\n",
       "    <tr>\n",
       "      <th>47</th>\n",
       "      <td>Prof</td>\n",
       "      <td>A</td>\n",
       "      <td>23.0</td>\n",
       "      <td>20</td>\n",
       "      <td>Male</td>\n",
       "      <td>110515</td>\n",
       "    </tr>\n",
       "    <tr>\n",
       "      <th>48</th>\n",
       "      <td>Prof</td>\n",
       "      <td>B</td>\n",
       "      <td>NaN</td>\n",
       "      <td>17</td>\n",
       "      <td>Female</td>\n",
       "      <td>111512</td>\n",
       "    </tr>\n",
       "    <tr>\n",
       "      <th>49</th>\n",
       "      <td>Prof</td>\n",
       "      <td>A</td>\n",
       "      <td>28.0</td>\n",
       "      <td>7</td>\n",
       "      <td>Female</td>\n",
       "      <td>116450</td>\n",
       "    </tr>\n",
       "    <tr>\n",
       "      <th>50</th>\n",
       "      <td>Prof</td>\n",
       "      <td>A</td>\n",
       "      <td>36.0</td>\n",
       "      <td>19</td>\n",
       "      <td>Female</td>\n",
       "      <td>117555</td>\n",
       "    </tr>\n",
       "    <tr>\n",
       "      <th>52</th>\n",
       "      <td>Prof</td>\n",
       "      <td>B</td>\n",
       "      <td>18.0</td>\n",
       "      <td>18</td>\n",
       "      <td>Male</td>\n",
       "      <td>120000</td>\n",
       "    </tr>\n",
       "    <tr>\n",
       "      <th>53</th>\n",
       "      <td>Prof</td>\n",
       "      <td>A</td>\n",
       "      <td>20.0</td>\n",
       "      <td>20</td>\n",
       "      <td>Male</td>\n",
       "      <td>122400</td>\n",
       "    </tr>\n",
       "    <tr>\n",
       "      <th>54</th>\n",
       "      <td>Prof</td>\n",
       "      <td>B</td>\n",
       "      <td>17.0</td>\n",
       "      <td>18</td>\n",
       "      <td>Female</td>\n",
       "      <td>122960</td>\n",
       "    </tr>\n",
       "    <tr>\n",
       "      <th>55</th>\n",
       "      <td>Prof</td>\n",
       "      <td>B</td>\n",
       "      <td>21.0</td>\n",
       "      <td>20</td>\n",
       "      <td>Male</td>\n",
       "      <td>123683</td>\n",
       "    </tr>\n",
       "    <tr>\n",
       "      <th>56</th>\n",
       "      <td>Prof</td>\n",
       "      <td>NaN</td>\n",
       "      <td>17.0</td>\n",
       "      <td>17</td>\n",
       "      <td>Female</td>\n",
       "      <td>124312</td>\n",
       "    </tr>\n",
       "    <tr>\n",
       "      <th>57</th>\n",
       "      <td>Prof</td>\n",
       "      <td>A</td>\n",
       "      <td>18.0</td>\n",
       "      <td>18</td>\n",
       "      <td>Male</td>\n",
       "      <td>126300</td>\n",
       "    </tr>\n",
       "    <tr>\n",
       "      <th>58</th>\n",
       "      <td>Prof</td>\n",
       "      <td>B</td>\n",
       "      <td>28.0</td>\n",
       "      <td>23</td>\n",
       "      <td>Male</td>\n",
       "      <td>126933</td>\n",
       "    </tr>\n",
       "    <tr>\n",
       "      <th>59</th>\n",
       "      <td>Prof</td>\n",
       "      <td>B</td>\n",
       "      <td>20.0</td>\n",
       "      <td>14</td>\n",
       "      <td>Female</td>\n",
       "      <td>127512</td>\n",
       "    </tr>\n",
       "    <tr>\n",
       "      <th>60</th>\n",
       "      <td>Prof</td>\n",
       "      <td>B</td>\n",
       "      <td>39.0</td>\n",
       "      <td>33</td>\n",
       "      <td>Male</td>\n",
       "      <td>128250</td>\n",
       "    </tr>\n",
       "    <tr>\n",
       "      <th>61</th>\n",
       "      <td>Prof</td>\n",
       "      <td>B</td>\n",
       "      <td>18.0</td>\n",
       "      <td>18</td>\n",
       "      <td>Female</td>\n",
       "      <td>129000</td>\n",
       "    </tr>\n",
       "    <tr>\n",
       "      <th>62</th>\n",
       "      <td>Prof</td>\n",
       "      <td>A</td>\n",
       "      <td>40.0</td>\n",
       "      <td>31</td>\n",
       "      <td>Male</td>\n",
       "      <td>131205</td>\n",
       "    </tr>\n",
       "    <tr>\n",
       "      <th>63</th>\n",
       "      <td>Prof</td>\n",
       "      <td>B</td>\n",
       "      <td>23.0</td>\n",
       "      <td>23</td>\n",
       "      <td>Male</td>\n",
       "      <td>134778</td>\n",
       "    </tr>\n",
       "    <tr>\n",
       "      <th>64</th>\n",
       "      <td>Prof</td>\n",
       "      <td>A</td>\n",
       "      <td>39.0</td>\n",
       "      <td>36</td>\n",
       "      <td>Female</td>\n",
       "      <td>137000</td>\n",
       "    </tr>\n",
       "    <tr>\n",
       "      <th>65</th>\n",
       "      <td>Prof</td>\n",
       "      <td>B</td>\n",
       "      <td>25.0</td>\n",
       "      <td>25</td>\n",
       "      <td>Female</td>\n",
       "      <td>140096</td>\n",
       "    </tr>\n",
       "    <tr>\n",
       "      <th>66</th>\n",
       "      <td>Prof</td>\n",
       "      <td>B</td>\n",
       "      <td>36.0</td>\n",
       "      <td>26</td>\n",
       "      <td>Female</td>\n",
       "      <td>144651</td>\n",
       "    </tr>\n",
       "    <tr>\n",
       "      <th>67</th>\n",
       "      <td>Prof</td>\n",
       "      <td>B</td>\n",
       "      <td>45.0</td>\n",
       "      <td>45</td>\n",
       "      <td>Male</td>\n",
       "      <td>146856</td>\n",
       "    </tr>\n",
       "    <tr>\n",
       "      <th>68</th>\n",
       "      <td>Prof</td>\n",
       "      <td>A</td>\n",
       "      <td>38.0</td>\n",
       "      <td>19</td>\n",
       "      <td>Male</td>\n",
       "      <td>148750</td>\n",
       "    </tr>\n",
       "    <tr>\n",
       "      <th>69</th>\n",
       "      <td>Prof</td>\n",
       "      <td>B</td>\n",
       "      <td>17.0</td>\n",
       "      <td>3</td>\n",
       "      <td>Male</td>\n",
       "      <td>150480</td>\n",
       "    </tr>\n",
       "    <tr>\n",
       "      <th>70</th>\n",
       "      <td>Prof</td>\n",
       "      <td>NaN</td>\n",
       "      <td>29.0</td>\n",
       "      <td>27</td>\n",
       "      <td>Male</td>\n",
       "      <td>150500</td>\n",
       "    </tr>\n",
       "    <tr>\n",
       "      <th>71</th>\n",
       "      <td>Prof</td>\n",
       "      <td>B</td>\n",
       "      <td>NaN</td>\n",
       "      <td>19</td>\n",
       "      <td>Female</td>\n",
       "      <td>151768</td>\n",
       "    </tr>\n",
       "    <tr>\n",
       "      <th>72</th>\n",
       "      <td>Prof</td>\n",
       "      <td>B</td>\n",
       "      <td>25.0</td>\n",
       "      <td>19</td>\n",
       "      <td>Male</td>\n",
       "      <td>153750</td>\n",
       "    </tr>\n",
       "    <tr>\n",
       "      <th>73</th>\n",
       "      <td>Prof</td>\n",
       "      <td>B</td>\n",
       "      <td>22.0</td>\n",
       "      <td>21</td>\n",
       "      <td>Male</td>\n",
       "      <td>155750</td>\n",
       "    </tr>\n",
       "    <tr>\n",
       "      <th>74</th>\n",
       "      <td>Prof</td>\n",
       "      <td>A</td>\n",
       "      <td>45.0</td>\n",
       "      <td>43</td>\n",
       "      <td>Male</td>\n",
       "      <td>155865</td>\n",
       "    </tr>\n",
       "    <tr>\n",
       "      <th>75</th>\n",
       "      <td>Prof</td>\n",
       "      <td>B</td>\n",
       "      <td>24.0</td>\n",
       "      <td>15</td>\n",
       "      <td>Female</td>\n",
       "      <td>161101</td>\n",
       "    </tr>\n",
       "    <tr>\n",
       "      <th>76</th>\n",
       "      <td>Prof</td>\n",
       "      <td>B</td>\n",
       "      <td>35.0</td>\n",
       "      <td>33</td>\n",
       "      <td>Male</td>\n",
       "      <td>162200</td>\n",
       "    </tr>\n",
       "    <tr>\n",
       "      <th>77</th>\n",
       "      <td>Prof</td>\n",
       "      <td>B</td>\n",
       "      <td>56.0</td>\n",
       "      <td>49</td>\n",
       "      <td>Male</td>\n",
       "      <td>186960</td>\n",
       "    </tr>\n",
       "  </tbody>\n",
       "</table>\n",
       "</div>"
      ],
      "text/plain": [
       "    rank discipline   phd  service     sex  salary\n",
       "0   Prof          A  51.0       51    Male   57800\n",
       "20  Prof          A  17.0       11  Female   90450\n",
       "22  Prof          A  29.0       27  Female   91000\n",
       "23  Prof          A  30.0       23    Male   91100\n",
       "28  Prof          A  12.0        6    Male   93000\n",
       "29  Prof          A  29.0       19    Male   94350\n",
       "31  Prof        NaN  35.0       31    Male   99418\n",
       "32  Prof          A   NaN        8    Male  102000\n",
       "33  Prof          A  33.0       30    Male  103106\n",
       "34  Prof          A  27.0       19    Male  103275\n",
       "39  Prof          B  20.0       18    Male  104800\n",
       "40  Prof          A  12.0        0  Female  105000\n",
       "41  Prof          B  18.0       10  Female  105450\n",
       "43  Prof        NaN  19.0        7    Male  107300\n",
       "44  Prof          A  23.0       15  Female  109646\n",
       "46  Prof          A  28.0       14  Female  109954\n",
       "47  Prof          A  23.0       20    Male  110515\n",
       "48  Prof          B   NaN       17  Female  111512\n",
       "49  Prof          A  28.0        7  Female  116450\n",
       "50  Prof          A  36.0       19  Female  117555\n",
       "52  Prof          B  18.0       18    Male  120000\n",
       "53  Prof          A  20.0       20    Male  122400\n",
       "54  Prof          B  17.0       18  Female  122960\n",
       "55  Prof          B  21.0       20    Male  123683\n",
       "56  Prof        NaN  17.0       17  Female  124312\n",
       "57  Prof          A  18.0       18    Male  126300\n",
       "58  Prof          B  28.0       23    Male  126933\n",
       "59  Prof          B  20.0       14  Female  127512\n",
       "60  Prof          B  39.0       33    Male  128250\n",
       "61  Prof          B  18.0       18  Female  129000\n",
       "62  Prof          A  40.0       31    Male  131205\n",
       "63  Prof          B  23.0       23    Male  134778\n",
       "64  Prof          A  39.0       36  Female  137000\n",
       "65  Prof          B  25.0       25  Female  140096\n",
       "66  Prof          B  36.0       26  Female  144651\n",
       "67  Prof          B  45.0       45    Male  146856\n",
       "68  Prof          A  38.0       19    Male  148750\n",
       "69  Prof          B  17.0        3    Male  150480\n",
       "70  Prof        NaN  29.0       27    Male  150500\n",
       "71  Prof          B   NaN       19  Female  151768\n",
       "72  Prof          B  25.0       19    Male  153750\n",
       "73  Prof          B  22.0       21    Male  155750\n",
       "74  Prof          A  45.0       43    Male  155865\n",
       "75  Prof          B  24.0       15  Female  161101\n",
       "76  Prof          B  35.0       33    Male  162200\n",
       "77  Prof          B  56.0       49    Male  186960"
      ]
     },
     "execution_count": 57,
     "metadata": {},
     "output_type": "execute_result"
    }
   ],
   "source": [
    "salary_prof=salaries_df[salaries_df['rank']=='Prof']\n",
    "salary_prof\n"
   ]
  },
  {
   "cell_type": "code",
   "execution_count": 67,
   "id": "cd7ae4fc-1f4c-4c2b-983f-825cbe797f3b",
   "metadata": {},
   "outputs": [
    {
     "data": {
      "text/html": [
       "<div>\n",
       "<style scoped>\n",
       "    .dataframe tbody tr th:only-of-type {\n",
       "        vertical-align: middle;\n",
       "    }\n",
       "\n",
       "    .dataframe tbody tr th {\n",
       "        vertical-align: top;\n",
       "    }\n",
       "\n",
       "    .dataframe thead th {\n",
       "        text-align: right;\n",
       "    }\n",
       "</style>\n",
       "<table border=\"1\" class=\"dataframe\">\n",
       "  <thead>\n",
       "    <tr style=\"text-align: right;\">\n",
       "      <th></th>\n",
       "      <th>rank</th>\n",
       "      <th>discipline</th>\n",
       "      <th>phd</th>\n",
       "      <th>service</th>\n",
       "      <th>sex</th>\n",
       "      <th>salary</th>\n",
       "    </tr>\n",
       "  </thead>\n",
       "  <tbody>\n",
       "    <tr>\n",
       "      <th>0</th>\n",
       "      <td>Prof</td>\n",
       "      <td>A</td>\n",
       "      <td>51.0</td>\n",
       "      <td>51</td>\n",
       "      <td>Male</td>\n",
       "      <td>57800</td>\n",
       "    </tr>\n",
       "    <tr>\n",
       "      <th>23</th>\n",
       "      <td>Prof</td>\n",
       "      <td>A</td>\n",
       "      <td>30.0</td>\n",
       "      <td>23</td>\n",
       "      <td>Male</td>\n",
       "      <td>91100</td>\n",
       "    </tr>\n",
       "    <tr>\n",
       "      <th>28</th>\n",
       "      <td>Prof</td>\n",
       "      <td>A</td>\n",
       "      <td>12.0</td>\n",
       "      <td>6</td>\n",
       "      <td>Male</td>\n",
       "      <td>93000</td>\n",
       "    </tr>\n",
       "    <tr>\n",
       "      <th>29</th>\n",
       "      <td>Prof</td>\n",
       "      <td>A</td>\n",
       "      <td>29.0</td>\n",
       "      <td>19</td>\n",
       "      <td>Male</td>\n",
       "      <td>94350</td>\n",
       "    </tr>\n",
       "    <tr>\n",
       "      <th>31</th>\n",
       "      <td>Prof</td>\n",
       "      <td>NaN</td>\n",
       "      <td>35.0</td>\n",
       "      <td>31</td>\n",
       "      <td>Male</td>\n",
       "      <td>99418</td>\n",
       "    </tr>\n",
       "    <tr>\n",
       "      <th>32</th>\n",
       "      <td>Prof</td>\n",
       "      <td>A</td>\n",
       "      <td>NaN</td>\n",
       "      <td>8</td>\n",
       "      <td>Male</td>\n",
       "      <td>102000</td>\n",
       "    </tr>\n",
       "    <tr>\n",
       "      <th>33</th>\n",
       "      <td>Prof</td>\n",
       "      <td>A</td>\n",
       "      <td>33.0</td>\n",
       "      <td>30</td>\n",
       "      <td>Male</td>\n",
       "      <td>103106</td>\n",
       "    </tr>\n",
       "    <tr>\n",
       "      <th>34</th>\n",
       "      <td>Prof</td>\n",
       "      <td>A</td>\n",
       "      <td>27.0</td>\n",
       "      <td>19</td>\n",
       "      <td>Male</td>\n",
       "      <td>103275</td>\n",
       "    </tr>\n",
       "    <tr>\n",
       "      <th>39</th>\n",
       "      <td>Prof</td>\n",
       "      <td>B</td>\n",
       "      <td>20.0</td>\n",
       "      <td>18</td>\n",
       "      <td>Male</td>\n",
       "      <td>104800</td>\n",
       "    </tr>\n",
       "    <tr>\n",
       "      <th>43</th>\n",
       "      <td>Prof</td>\n",
       "      <td>NaN</td>\n",
       "      <td>19.0</td>\n",
       "      <td>7</td>\n",
       "      <td>Male</td>\n",
       "      <td>107300</td>\n",
       "    </tr>\n",
       "    <tr>\n",
       "      <th>47</th>\n",
       "      <td>Prof</td>\n",
       "      <td>A</td>\n",
       "      <td>23.0</td>\n",
       "      <td>20</td>\n",
       "      <td>Male</td>\n",
       "      <td>110515</td>\n",
       "    </tr>\n",
       "    <tr>\n",
       "      <th>52</th>\n",
       "      <td>Prof</td>\n",
       "      <td>B</td>\n",
       "      <td>18.0</td>\n",
       "      <td>18</td>\n",
       "      <td>Male</td>\n",
       "      <td>120000</td>\n",
       "    </tr>\n",
       "    <tr>\n",
       "      <th>53</th>\n",
       "      <td>Prof</td>\n",
       "      <td>A</td>\n",
       "      <td>20.0</td>\n",
       "      <td>20</td>\n",
       "      <td>Male</td>\n",
       "      <td>122400</td>\n",
       "    </tr>\n",
       "    <tr>\n",
       "      <th>55</th>\n",
       "      <td>Prof</td>\n",
       "      <td>B</td>\n",
       "      <td>21.0</td>\n",
       "      <td>20</td>\n",
       "      <td>Male</td>\n",
       "      <td>123683</td>\n",
       "    </tr>\n",
       "    <tr>\n",
       "      <th>57</th>\n",
       "      <td>Prof</td>\n",
       "      <td>A</td>\n",
       "      <td>18.0</td>\n",
       "      <td>18</td>\n",
       "      <td>Male</td>\n",
       "      <td>126300</td>\n",
       "    </tr>\n",
       "    <tr>\n",
       "      <th>58</th>\n",
       "      <td>Prof</td>\n",
       "      <td>B</td>\n",
       "      <td>28.0</td>\n",
       "      <td>23</td>\n",
       "      <td>Male</td>\n",
       "      <td>126933</td>\n",
       "    </tr>\n",
       "    <tr>\n",
       "      <th>60</th>\n",
       "      <td>Prof</td>\n",
       "      <td>B</td>\n",
       "      <td>39.0</td>\n",
       "      <td>33</td>\n",
       "      <td>Male</td>\n",
       "      <td>128250</td>\n",
       "    </tr>\n",
       "    <tr>\n",
       "      <th>62</th>\n",
       "      <td>Prof</td>\n",
       "      <td>A</td>\n",
       "      <td>40.0</td>\n",
       "      <td>31</td>\n",
       "      <td>Male</td>\n",
       "      <td>131205</td>\n",
       "    </tr>\n",
       "    <tr>\n",
       "      <th>63</th>\n",
       "      <td>Prof</td>\n",
       "      <td>B</td>\n",
       "      <td>23.0</td>\n",
       "      <td>23</td>\n",
       "      <td>Male</td>\n",
       "      <td>134778</td>\n",
       "    </tr>\n",
       "    <tr>\n",
       "      <th>67</th>\n",
       "      <td>Prof</td>\n",
       "      <td>B</td>\n",
       "      <td>45.0</td>\n",
       "      <td>45</td>\n",
       "      <td>Male</td>\n",
       "      <td>146856</td>\n",
       "    </tr>\n",
       "    <tr>\n",
       "      <th>68</th>\n",
       "      <td>Prof</td>\n",
       "      <td>A</td>\n",
       "      <td>38.0</td>\n",
       "      <td>19</td>\n",
       "      <td>Male</td>\n",
       "      <td>148750</td>\n",
       "    </tr>\n",
       "    <tr>\n",
       "      <th>69</th>\n",
       "      <td>Prof</td>\n",
       "      <td>B</td>\n",
       "      <td>17.0</td>\n",
       "      <td>3</td>\n",
       "      <td>Male</td>\n",
       "      <td>150480</td>\n",
       "    </tr>\n",
       "    <tr>\n",
       "      <th>70</th>\n",
       "      <td>Prof</td>\n",
       "      <td>NaN</td>\n",
       "      <td>29.0</td>\n",
       "      <td>27</td>\n",
       "      <td>Male</td>\n",
       "      <td>150500</td>\n",
       "    </tr>\n",
       "    <tr>\n",
       "      <th>72</th>\n",
       "      <td>Prof</td>\n",
       "      <td>B</td>\n",
       "      <td>25.0</td>\n",
       "      <td>19</td>\n",
       "      <td>Male</td>\n",
       "      <td>153750</td>\n",
       "    </tr>\n",
       "    <tr>\n",
       "      <th>73</th>\n",
       "      <td>Prof</td>\n",
       "      <td>B</td>\n",
       "      <td>22.0</td>\n",
       "      <td>21</td>\n",
       "      <td>Male</td>\n",
       "      <td>155750</td>\n",
       "    </tr>\n",
       "    <tr>\n",
       "      <th>74</th>\n",
       "      <td>Prof</td>\n",
       "      <td>A</td>\n",
       "      <td>45.0</td>\n",
       "      <td>43</td>\n",
       "      <td>Male</td>\n",
       "      <td>155865</td>\n",
       "    </tr>\n",
       "    <tr>\n",
       "      <th>76</th>\n",
       "      <td>Prof</td>\n",
       "      <td>B</td>\n",
       "      <td>35.0</td>\n",
       "      <td>33</td>\n",
       "      <td>Male</td>\n",
       "      <td>162200</td>\n",
       "    </tr>\n",
       "    <tr>\n",
       "      <th>77</th>\n",
       "      <td>Prof</td>\n",
       "      <td>B</td>\n",
       "      <td>56.0</td>\n",
       "      <td>49</td>\n",
       "      <td>Male</td>\n",
       "      <td>186960</td>\n",
       "    </tr>\n",
       "  </tbody>\n",
       "</table>\n",
       "</div>"
      ],
      "text/plain": [
       "    rank discipline   phd  service   sex  salary\n",
       "0   Prof          A  51.0       51  Male   57800\n",
       "23  Prof          A  30.0       23  Male   91100\n",
       "28  Prof          A  12.0        6  Male   93000\n",
       "29  Prof          A  29.0       19  Male   94350\n",
       "31  Prof        NaN  35.0       31  Male   99418\n",
       "32  Prof          A   NaN        8  Male  102000\n",
       "33  Prof          A  33.0       30  Male  103106\n",
       "34  Prof          A  27.0       19  Male  103275\n",
       "39  Prof          B  20.0       18  Male  104800\n",
       "43  Prof        NaN  19.0        7  Male  107300\n",
       "47  Prof          A  23.0       20  Male  110515\n",
       "52  Prof          B  18.0       18  Male  120000\n",
       "53  Prof          A  20.0       20  Male  122400\n",
       "55  Prof          B  21.0       20  Male  123683\n",
       "57  Prof          A  18.0       18  Male  126300\n",
       "58  Prof          B  28.0       23  Male  126933\n",
       "60  Prof          B  39.0       33  Male  128250\n",
       "62  Prof          A  40.0       31  Male  131205\n",
       "63  Prof          B  23.0       23  Male  134778\n",
       "67  Prof          B  45.0       45  Male  146856\n",
       "68  Prof          A  38.0       19  Male  148750\n",
       "69  Prof          B  17.0        3  Male  150480\n",
       "70  Prof        NaN  29.0       27  Male  150500\n",
       "72  Prof          B  25.0       19  Male  153750\n",
       "73  Prof          B  22.0       21  Male  155750\n",
       "74  Prof          A  45.0       43  Male  155865\n",
       "76  Prof          B  35.0       33  Male  162200\n",
       "77  Prof          B  56.0       49  Male  186960"
      ]
     },
     "execution_count": 67,
     "metadata": {},
     "output_type": "execute_result"
    }
   ],
   "source": [
    "salary_M_prof=salaries_df[(salaries_df['rank']=='Prof') &(salaries_df['sex']=='Male')]\n",
    "salary_M_prof"
   ]
  },
  {
   "cell_type": "code",
   "execution_count": 69,
   "id": "f79dd6f6-1aa4-4f88-9825-7496a1e86bf4",
   "metadata": {},
   "outputs": [
    {
     "data": {
      "text/plain": [
       "124690.14285714286"
      ]
     },
     "execution_count": 69,
     "metadata": {},
     "output_type": "execute_result"
    }
   ],
   "source": [
    "salary_M_prof['salary'].mean()"
   ]
  },
  {
   "cell_type": "code",
   "execution_count": 71,
   "id": "68cd1a93-067e-4050-add4-e8833567aa4f",
   "metadata": {},
   "outputs": [
    {
     "data": {
      "text/html": [
       "<div>\n",
       "<style scoped>\n",
       "    .dataframe tbody tr th:only-of-type {\n",
       "        vertical-align: middle;\n",
       "    }\n",
       "\n",
       "    .dataframe tbody tr th {\n",
       "        vertical-align: top;\n",
       "    }\n",
       "\n",
       "    .dataframe thead th {\n",
       "        text-align: right;\n",
       "    }\n",
       "</style>\n",
       "<table border=\"1\" class=\"dataframe\">\n",
       "  <thead>\n",
       "    <tr style=\"text-align: right;\">\n",
       "      <th></th>\n",
       "      <th>salary</th>\n",
       "      <th>rank</th>\n",
       "    </tr>\n",
       "  </thead>\n",
       "  <tbody>\n",
       "    <tr>\n",
       "      <th>10</th>\n",
       "      <td>74830</td>\n",
       "      <td>AssocProf</td>\n",
       "    </tr>\n",
       "    <tr>\n",
       "      <th>11</th>\n",
       "      <td>75044</td>\n",
       "      <td>AsstProf</td>\n",
       "    </tr>\n",
       "    <tr>\n",
       "      <th>12</th>\n",
       "      <td>77000</td>\n",
       "      <td>AsstProf</td>\n",
       "    </tr>\n",
       "    <tr>\n",
       "      <th>13</th>\n",
       "      <td>77500</td>\n",
       "      <td>AssocProf</td>\n",
       "    </tr>\n",
       "    <tr>\n",
       "      <th>14</th>\n",
       "      <td>77500</td>\n",
       "      <td>AsstProf</td>\n",
       "    </tr>\n",
       "    <tr>\n",
       "      <th>15</th>\n",
       "      <td>78500</td>\n",
       "      <td>AsstProf</td>\n",
       "    </tr>\n",
       "  </tbody>\n",
       "</table>\n",
       "</div>"
      ],
      "text/plain": [
       "    salary       rank\n",
       "10   74830  AssocProf\n",
       "11   75044   AsstProf\n",
       "12   77000   AsstProf\n",
       "13   77500  AssocProf\n",
       "14   77500   AsstProf\n",
       "15   78500   AsstProf"
      ]
     },
     "execution_count": 71,
     "metadata": {},
     "output_type": "execute_result"
    }
   ],
   "source": [
    "salaries_df.loc[10:15][['salary','rank']]"
   ]
  },
  {
   "cell_type": "code",
   "execution_count": 81,
   "id": "0725479e-cecf-48a8-86dc-7fb62cc3bdc4",
   "metadata": {},
   "outputs": [
    {
     "data": {
      "text/plain": [
       "salary    69924.636364\n",
       "dtype: float64"
      ]
     },
     "execution_count": 81,
     "metadata": {},
     "output_type": "execute_result"
    }
   ],
   "source": [
    "m=salaries_df.loc[:10,['salary']].mean()\n",
    "m"
   ]
  },
  {
   "cell_type": "code",
   "execution_count": 82,
   "id": "c90dc55c-ffb4-463f-88b6-f97200770f84",
   "metadata": {},
   "outputs": [
    {
     "data": {
      "text/html": [
       "<div>\n",
       "<style scoped>\n",
       "    .dataframe tbody tr th:only-of-type {\n",
       "        vertical-align: middle;\n",
       "    }\n",
       "\n",
       "    .dataframe tbody tr th {\n",
       "        vertical-align: top;\n",
       "    }\n",
       "\n",
       "    .dataframe thead th {\n",
       "        text-align: right;\n",
       "    }\n",
       "</style>\n",
       "<table border=\"1\" class=\"dataframe\">\n",
       "  <thead>\n",
       "    <tr style=\"text-align: right;\">\n",
       "      <th></th>\n",
       "      <th>salary</th>\n",
       "      <th>rank</th>\n",
       "    </tr>\n",
       "  </thead>\n",
       "  <tbody>\n",
       "    <tr>\n",
       "      <th>10</th>\n",
       "      <td>74830</td>\n",
       "      <td>AssocProf</td>\n",
       "    </tr>\n",
       "    <tr>\n",
       "      <th>2</th>\n",
       "      <td>63100</td>\n",
       "      <td>AsstProf</td>\n",
       "    </tr>\n",
       "    <tr>\n",
       "      <th>3</th>\n",
       "      <td>71065</td>\n",
       "      <td>AssocProf</td>\n",
       "    </tr>\n",
       "    <tr>\n",
       "      <th>4</th>\n",
       "      <td>72500</td>\n",
       "      <td>AsstProf</td>\n",
       "    </tr>\n",
       "    <tr>\n",
       "      <th>5</th>\n",
       "      <td>72500</td>\n",
       "      <td>AsstProf</td>\n",
       "    </tr>\n",
       "    <tr>\n",
       "      <th>8</th>\n",
       "      <td>73500</td>\n",
       "      <td>AsstProf</td>\n",
       "    </tr>\n",
       "  </tbody>\n",
       "</table>\n",
       "</div>"
      ],
      "text/plain": [
       "    salary       rank\n",
       "10   74830  AssocProf\n",
       "2    63100   AsstProf\n",
       "3    71065  AssocProf\n",
       "4    72500   AsstProf\n",
       "5    72500   AsstProf\n",
       "8    73500   AsstProf"
      ]
     },
     "execution_count": 82,
     "metadata": {},
     "output_type": "execute_result"
    }
   ],
   "source": [
    "salaries_df.loc[[10,2,3,4,5,8,]][['salary','rank']]"
   ]
  },
  {
   "cell_type": "code",
   "execution_count": 85,
   "id": "34ae39c2-19c2-46c0-8398-6efa006bd406",
   "metadata": {},
   "outputs": [
    {
     "data": {
      "text/plain": [
       "0     51\n",
       "1     22\n",
       "2      6\n",
       "3      9\n",
       "4      0\n",
       "5      1\n",
       "6      2\n",
       "7     24\n",
       "8      3\n",
       "9      3\n",
       "10     8\n",
       "11     3\n",
       "12     0\n",
       "13     8\n",
       "14     2\n",
       "15     3\n",
       "16     2\n",
       "17    17\n",
       "18     0\n",
       "19     0\n",
       "20    11\n",
       "21     3\n",
       "22    27\n",
       "23    23\n",
       "24     2\n",
       "25     0\n",
       "26     4\n",
       "27     3\n",
       "28     6\n",
       "29    19\n",
       "30     5\n",
       "31    31\n",
       "32     8\n",
       "33    30\n",
       "34    19\n",
       "35    11\n",
       "36    10\n",
       "37    10\n",
       "38     6\n",
       "39    18\n",
       "40     0\n",
       "41    10\n",
       "42     7\n",
       "43     7\n",
       "44    15\n",
       "Name: service, dtype: int64"
      ]
     },
     "execution_count": 85,
     "metadata": {},
     "output_type": "execute_result"
    }
   ],
   "source": [
    "df_rank=salaries_df.iloc[0:45,3]\n",
    "df_rank"
   ]
  },
  {
   "cell_type": "code",
   "execution_count": 86,
   "id": "b1c2268e-0912-4ff1-a789-dcb7bfd28fcb",
   "metadata": {},
   "outputs": [
    {
     "data": {
      "text/html": [
       "<div>\n",
       "<style scoped>\n",
       "    .dataframe tbody tr th:only-of-type {\n",
       "        vertical-align: middle;\n",
       "    }\n",
       "\n",
       "    .dataframe tbody tr th {\n",
       "        vertical-align: top;\n",
       "    }\n",
       "\n",
       "    .dataframe thead th {\n",
       "        text-align: right;\n",
       "    }\n",
       "</style>\n",
       "<table border=\"1\" class=\"dataframe\">\n",
       "  <thead>\n",
       "    <tr style=\"text-align: right;\">\n",
       "      <th></th>\n",
       "      <th>discipline</th>\n",
       "      <th>service</th>\n",
       "      <th>sex</th>\n",
       "    </tr>\n",
       "  </thead>\n",
       "  <tbody>\n",
       "    <tr>\n",
       "      <th>0</th>\n",
       "      <td>A</td>\n",
       "      <td>51</td>\n",
       "      <td>Male</td>\n",
       "    </tr>\n",
       "    <tr>\n",
       "      <th>1</th>\n",
       "      <td>A</td>\n",
       "      <td>22</td>\n",
       "      <td>Female</td>\n",
       "    </tr>\n",
       "    <tr>\n",
       "      <th>2</th>\n",
       "      <td>A</td>\n",
       "      <td>6</td>\n",
       "      <td>Female</td>\n",
       "    </tr>\n",
       "    <tr>\n",
       "      <th>3</th>\n",
       "      <td>B</td>\n",
       "      <td>9</td>\n",
       "      <td>Female</td>\n",
       "    </tr>\n",
       "    <tr>\n",
       "      <th>4</th>\n",
       "      <td>B</td>\n",
       "      <td>0</td>\n",
       "      <td>Female</td>\n",
       "    </tr>\n",
       "  </tbody>\n",
       "</table>\n",
       "</div>"
      ],
      "text/plain": [
       "  discipline  service     sex\n",
       "0          A       51    Male\n",
       "1          A       22  Female\n",
       "2          A        6  Female\n",
       "3          B        9  Female\n",
       "4          B        0  Female"
      ]
     },
     "execution_count": 86,
     "metadata": {},
     "output_type": "execute_result"
    }
   ],
   "source": [
    "salaries_df.iloc[0:5,[1,3,4]]"
   ]
  },
  {
   "cell_type": "code",
   "execution_count": 87,
   "id": "25498661-e744-4422-9242-7fb79cf0fa1c",
   "metadata": {},
   "outputs": [
    {
     "data": {
      "text/html": [
       "<div>\n",
       "<style scoped>\n",
       "    .dataframe tbody tr th:only-of-type {\n",
       "        vertical-align: middle;\n",
       "    }\n",
       "\n",
       "    .dataframe tbody tr th {\n",
       "        vertical-align: top;\n",
       "    }\n",
       "\n",
       "    .dataframe thead th {\n",
       "        text-align: right;\n",
       "    }\n",
       "</style>\n",
       "<table border=\"1\" class=\"dataframe\">\n",
       "  <thead>\n",
       "    <tr style=\"text-align: right;\">\n",
       "      <th></th>\n",
       "      <th>salary</th>\n",
       "      <th>rank</th>\n",
       "    </tr>\n",
       "  </thead>\n",
       "  <tbody>\n",
       "    <tr>\n",
       "      <th>0</th>\n",
       "      <td>57800</td>\n",
       "      <td>Prof</td>\n",
       "    </tr>\n",
       "    <tr>\n",
       "      <th>1</th>\n",
       "      <td>62884</td>\n",
       "      <td>AssocProf</td>\n",
       "    </tr>\n",
       "    <tr>\n",
       "      <th>2</th>\n",
       "      <td>63100</td>\n",
       "      <td>AsstProf</td>\n",
       "    </tr>\n",
       "    <tr>\n",
       "      <th>3</th>\n",
       "      <td>71065</td>\n",
       "      <td>AssocProf</td>\n",
       "    </tr>\n",
       "    <tr>\n",
       "      <th>4</th>\n",
       "      <td>72500</td>\n",
       "      <td>AsstProf</td>\n",
       "    </tr>\n",
       "  </tbody>\n",
       "</table>\n",
       "</div>"
      ],
      "text/plain": [
       "   salary       rank\n",
       "0   57800       Prof\n",
       "1   62884  AssocProf\n",
       "2   63100   AsstProf\n",
       "3   71065  AssocProf\n",
       "4   72500   AsstProf"
      ]
     },
     "execution_count": 87,
     "metadata": {},
     "output_type": "execute_result"
    }
   ],
   "source": [
    "salaries_df.iloc[0:5][['salary','rank']]"
   ]
  },
  {
   "cell_type": "code",
   "execution_count": 90,
   "id": "e93585c6-ab2a-45ea-b746-44a7e93f1cac",
   "metadata": {},
   "outputs": [
    {
     "data": {
      "text/html": [
       "<div>\n",
       "<style scoped>\n",
       "    .dataframe tbody tr th:only-of-type {\n",
       "        vertical-align: middle;\n",
       "    }\n",
       "\n",
       "    .dataframe tbody tr th {\n",
       "        vertical-align: top;\n",
       "    }\n",
       "\n",
       "    .dataframe thead th {\n",
       "        text-align: right;\n",
       "    }\n",
       "</style>\n",
       "<table border=\"1\" class=\"dataframe\">\n",
       "  <thead>\n",
       "    <tr style=\"text-align: right;\">\n",
       "      <th></th>\n",
       "      <th>rank</th>\n",
       "      <th>discipline</th>\n",
       "      <th>phd</th>\n",
       "      <th>service</th>\n",
       "      <th>sex</th>\n",
       "      <th>salary</th>\n",
       "    </tr>\n",
       "  </thead>\n",
       "  <tbody>\n",
       "    <tr>\n",
       "      <th>0</th>\n",
       "      <td>Prof</td>\n",
       "      <td>A</td>\n",
       "      <td>51.0</td>\n",
       "      <td>51</td>\n",
       "      <td>Male</td>\n",
       "      <td>57800</td>\n",
       "    </tr>\n",
       "    <tr>\n",
       "      <th>1</th>\n",
       "      <td>AssocProf</td>\n",
       "      <td>A</td>\n",
       "      <td>25.0</td>\n",
       "      <td>22</td>\n",
       "      <td>Female</td>\n",
       "      <td>62884</td>\n",
       "    </tr>\n",
       "    <tr>\n",
       "      <th>2</th>\n",
       "      <td>AsstProf</td>\n",
       "      <td>A</td>\n",
       "      <td>7.0</td>\n",
       "      <td>6</td>\n",
       "      <td>Female</td>\n",
       "      <td>63100</td>\n",
       "    </tr>\n",
       "    <tr>\n",
       "      <th>3</th>\n",
       "      <td>AssocProf</td>\n",
       "      <td>B</td>\n",
       "      <td>12.0</td>\n",
       "      <td>9</td>\n",
       "      <td>Female</td>\n",
       "      <td>71065</td>\n",
       "    </tr>\n",
       "    <tr>\n",
       "      <th>4</th>\n",
       "      <td>AsstProf</td>\n",
       "      <td>B</td>\n",
       "      <td>2.0</td>\n",
       "      <td>0</td>\n",
       "      <td>Female</td>\n",
       "      <td>72500</td>\n",
       "    </tr>\n",
       "    <tr>\n",
       "      <th>...</th>\n",
       "      <td>...</td>\n",
       "      <td>...</td>\n",
       "      <td>...</td>\n",
       "      <td>...</td>\n",
       "      <td>...</td>\n",
       "      <td>...</td>\n",
       "    </tr>\n",
       "    <tr>\n",
       "      <th>73</th>\n",
       "      <td>Prof</td>\n",
       "      <td>B</td>\n",
       "      <td>22.0</td>\n",
       "      <td>21</td>\n",
       "      <td>Male</td>\n",
       "      <td>155750</td>\n",
       "    </tr>\n",
       "    <tr>\n",
       "      <th>74</th>\n",
       "      <td>Prof</td>\n",
       "      <td>A</td>\n",
       "      <td>45.0</td>\n",
       "      <td>43</td>\n",
       "      <td>Male</td>\n",
       "      <td>155865</td>\n",
       "    </tr>\n",
       "    <tr>\n",
       "      <th>75</th>\n",
       "      <td>Prof</td>\n",
       "      <td>B</td>\n",
       "      <td>24.0</td>\n",
       "      <td>15</td>\n",
       "      <td>Female</td>\n",
       "      <td>161101</td>\n",
       "    </tr>\n",
       "    <tr>\n",
       "      <th>76</th>\n",
       "      <td>Prof</td>\n",
       "      <td>B</td>\n",
       "      <td>35.0</td>\n",
       "      <td>33</td>\n",
       "      <td>Male</td>\n",
       "      <td>162200</td>\n",
       "    </tr>\n",
       "    <tr>\n",
       "      <th>77</th>\n",
       "      <td>Prof</td>\n",
       "      <td>B</td>\n",
       "      <td>56.0</td>\n",
       "      <td>49</td>\n",
       "      <td>Male</td>\n",
       "      <td>186960</td>\n",
       "    </tr>\n",
       "  </tbody>\n",
       "</table>\n",
       "<p>78 rows × 6 columns</p>\n",
       "</div>"
      ],
      "text/plain": [
       "         rank discipline   phd  service     sex  salary\n",
       "0        Prof          A  51.0       51    Male   57800\n",
       "1   AssocProf          A  25.0       22  Female   62884\n",
       "2    AsstProf          A   7.0        6  Female   63100\n",
       "3   AssocProf          B  12.0        9  Female   71065\n",
       "4    AsstProf          B   2.0        0  Female   72500\n",
       "..        ...        ...   ...      ...     ...     ...\n",
       "73       Prof          B  22.0       21    Male  155750\n",
       "74       Prof          A  45.0       43    Male  155865\n",
       "75       Prof          B  24.0       15  Female  161101\n",
       "76       Prof          B  35.0       33    Male  162200\n",
       "77       Prof          B  56.0       49    Male  186960\n",
       "\n",
       "[78 rows x 6 columns]"
      ]
     },
     "execution_count": 90,
     "metadata": {},
     "output_type": "execute_result"
    }
   ],
   "source": [
    "df_highest_salary=salaries_df.sort_values(by='salary')\n",
    "df_highest_salary"
   ]
  },
  {
   "cell_type": "code",
   "execution_count": 92,
   "id": "555de65c-adbc-49df-9bca-a1bd06c557ae",
   "metadata": {},
   "outputs": [
    {
     "data": {
      "text/html": [
       "<div>\n",
       "<style scoped>\n",
       "    .dataframe tbody tr th:only-of-type {\n",
       "        vertical-align: middle;\n",
       "    }\n",
       "\n",
       "    .dataframe tbody tr th {\n",
       "        vertical-align: top;\n",
       "    }\n",
       "\n",
       "    .dataframe thead th {\n",
       "        text-align: right;\n",
       "    }\n",
       "</style>\n",
       "<table border=\"1\" class=\"dataframe\">\n",
       "  <thead>\n",
       "    <tr style=\"text-align: right;\">\n",
       "      <th></th>\n",
       "      <th>rank</th>\n",
       "      <th>discipline</th>\n",
       "      <th>phd</th>\n",
       "      <th>service</th>\n",
       "      <th>sex</th>\n",
       "      <th>salary</th>\n",
       "    </tr>\n",
       "  </thead>\n",
       "  <tbody>\n",
       "    <tr>\n",
       "      <th>77</th>\n",
       "      <td>Prof</td>\n",
       "      <td>B</td>\n",
       "      <td>56.0</td>\n",
       "      <td>49</td>\n",
       "      <td>Male</td>\n",
       "      <td>186960</td>\n",
       "    </tr>\n",
       "    <tr>\n",
       "      <th>76</th>\n",
       "      <td>Prof</td>\n",
       "      <td>B</td>\n",
       "      <td>35.0</td>\n",
       "      <td>33</td>\n",
       "      <td>Male</td>\n",
       "      <td>162200</td>\n",
       "    </tr>\n",
       "    <tr>\n",
       "      <th>75</th>\n",
       "      <td>Prof</td>\n",
       "      <td>B</td>\n",
       "      <td>24.0</td>\n",
       "      <td>15</td>\n",
       "      <td>Female</td>\n",
       "      <td>161101</td>\n",
       "    </tr>\n",
       "    <tr>\n",
       "      <th>74</th>\n",
       "      <td>Prof</td>\n",
       "      <td>A</td>\n",
       "      <td>45.0</td>\n",
       "      <td>43</td>\n",
       "      <td>Male</td>\n",
       "      <td>155865</td>\n",
       "    </tr>\n",
       "    <tr>\n",
       "      <th>73</th>\n",
       "      <td>Prof</td>\n",
       "      <td>B</td>\n",
       "      <td>22.0</td>\n",
       "      <td>21</td>\n",
       "      <td>Male</td>\n",
       "      <td>155750</td>\n",
       "    </tr>\n",
       "  </tbody>\n",
       "</table>\n",
       "</div>"
      ],
      "text/plain": [
       "    rank discipline   phd  service     sex  salary\n",
       "77  Prof          B  56.0       49    Male  186960\n",
       "76  Prof          B  35.0       33    Male  162200\n",
       "75  Prof          B  24.0       15  Female  161101\n",
       "74  Prof          A  45.0       43    Male  155865\n",
       "73  Prof          B  22.0       21    Male  155750"
      ]
     },
     "execution_count": 92,
     "metadata": {},
     "output_type": "execute_result"
    }
   ],
   "source": [
    "df_highest_salary=salaries_df.sort_values(by='salary',ascending=False)\n",
    "df_highest_salary.head()"
   ]
  },
  {
   "cell_type": "code",
   "execution_count": 15,
   "id": "6ba681dd-6f22-4ebf-95cd-a3fec7d26082",
   "metadata": {},
   "outputs": [
    {
     "data": {
      "text/html": [
       "<div>\n",
       "<style scoped>\n",
       "    .dataframe tbody tr th:only-of-type {\n",
       "        vertical-align: middle;\n",
       "    }\n",
       "\n",
       "    .dataframe tbody tr th {\n",
       "        vertical-align: top;\n",
       "    }\n",
       "\n",
       "    .dataframe thead th {\n",
       "        text-align: right;\n",
       "    }\n",
       "</style>\n",
       "<table border=\"1\" class=\"dataframe\">\n",
       "  <thead>\n",
       "    <tr style=\"text-align: right;\">\n",
       "      <th></th>\n",
       "      <th>salary</th>\n",
       "    </tr>\n",
       "  </thead>\n",
       "  <tbody>\n",
       "    <tr>\n",
       "      <th>10</th>\n",
       "      <td>74830</td>\n",
       "    </tr>\n",
       "    <tr>\n",
       "      <th>9</th>\n",
       "      <td>74692</td>\n",
       "    </tr>\n",
       "    <tr>\n",
       "      <th>8</th>\n",
       "      <td>73500</td>\n",
       "    </tr>\n",
       "    <tr>\n",
       "      <th>7</th>\n",
       "      <td>73300</td>\n",
       "    </tr>\n",
       "    <tr>\n",
       "      <th>6</th>\n",
       "      <td>73000</td>\n",
       "    </tr>\n",
       "    <tr>\n",
       "      <th>4</th>\n",
       "      <td>72500</td>\n",
       "    </tr>\n",
       "    <tr>\n",
       "      <th>5</th>\n",
       "      <td>72500</td>\n",
       "    </tr>\n",
       "    <tr>\n",
       "      <th>3</th>\n",
       "      <td>71065</td>\n",
       "    </tr>\n",
       "    <tr>\n",
       "      <th>2</th>\n",
       "      <td>63100</td>\n",
       "    </tr>\n",
       "    <tr>\n",
       "      <th>1</th>\n",
       "      <td>62884</td>\n",
       "    </tr>\n",
       "    <tr>\n",
       "      <th>0</th>\n",
       "      <td>57800</td>\n",
       "    </tr>\n",
       "  </tbody>\n",
       "</table>\n",
       "</div>"
      ],
      "text/plain": [
       "    salary\n",
       "10   74830\n",
       "9    74692\n",
       "8    73500\n",
       "7    73300\n",
       "6    73000\n",
       "4    72500\n",
       "5    72500\n",
       "3    71065\n",
       "2    63100\n",
       "1    62884\n",
       "0    57800"
      ]
     },
     "execution_count": 15,
     "metadata": {},
     "output_type": "execute_result"
    }
   ],
   "source": [
    "associate=salaries_df.loc[:10,['salary']].sort_values(by='salary',ascending=False)\n",
    "associate"
   ]
  },
  {
   "cell_type": "code",
   "execution_count": null,
   "id": "bd1595bd-07c8-47ff-8ed7-f10000358a9c",
   "metadata": {},
   "outputs": [],
   "source": []
  },
  {
   "cell_type": "code",
   "execution_count": 96,
   "id": "29bc83d1-e6d7-4cd5-ac57-3c45adb34970",
   "metadata": {},
   "outputs": [
    {
     "name": "stderr",
     "output_type": "stream",
     "text": [
      "C:\\Users\\HP\\AppData\\Local\\Temp\\ipykernel_30328\\2804524007.py:1: FutureWarning: Indexing with multiple keys (implicitly converted to a tuple of keys) will be deprecated, use a list instead.\n",
      "  mean_salary=salaries_df.groupby(['sex','rank'])['salary','phd'].mean()\n"
     ]
    },
    {
     "data": {
      "text/html": [
       "<div>\n",
       "<style scoped>\n",
       "    .dataframe tbody tr th:only-of-type {\n",
       "        vertical-align: middle;\n",
       "    }\n",
       "\n",
       "    .dataframe tbody tr th {\n",
       "        vertical-align: top;\n",
       "    }\n",
       "\n",
       "    .dataframe thead th {\n",
       "        text-align: right;\n",
       "    }\n",
       "</style>\n",
       "<table border=\"1\" class=\"dataframe\">\n",
       "  <thead>\n",
       "    <tr style=\"text-align: right;\">\n",
       "      <th></th>\n",
       "      <th></th>\n",
       "      <th>salary</th>\n",
       "      <th>phd</th>\n",
       "    </tr>\n",
       "    <tr>\n",
       "      <th>sex</th>\n",
       "      <th>rank</th>\n",
       "      <th></th>\n",
       "      <th></th>\n",
       "    </tr>\n",
       "  </thead>\n",
       "  <tbody>\n",
       "    <tr>\n",
       "      <th rowspan=\"3\" valign=\"top\">Female</th>\n",
       "      <th>AssocProf</th>\n",
       "      <td>88512.800000</td>\n",
       "      <td>15.000000</td>\n",
       "    </tr>\n",
       "    <tr>\n",
       "      <th>AsstProf</th>\n",
       "      <td>78049.909091</td>\n",
       "      <td>5.636364</td>\n",
       "    </tr>\n",
       "    <tr>\n",
       "      <th>Prof</th>\n",
       "      <td>121967.611111</td>\n",
       "      <td>24.187500</td>\n",
       "    </tr>\n",
       "    <tr>\n",
       "      <th rowspan=\"3\" valign=\"top\">Male</th>\n",
       "      <th>AssocProf</th>\n",
       "      <td>102697.666667</td>\n",
       "      <td>13.666667</td>\n",
       "    </tr>\n",
       "    <tr>\n",
       "      <th>AsstProf</th>\n",
       "      <td>85918.000000</td>\n",
       "      <td>4.250000</td>\n",
       "    </tr>\n",
       "    <tr>\n",
       "      <th>Prof</th>\n",
       "      <td>124690.142857</td>\n",
       "      <td>29.555556</td>\n",
       "    </tr>\n",
       "  </tbody>\n",
       "</table>\n",
       "</div>"
      ],
      "text/plain": [
       "                         salary        phd\n",
       "sex    rank                               \n",
       "Female AssocProf   88512.800000  15.000000\n",
       "       AsstProf    78049.909091   5.636364\n",
       "       Prof       121967.611111  24.187500\n",
       "Male   AssocProf  102697.666667  13.666667\n",
       "       AsstProf    85918.000000   4.250000\n",
       "       Prof       124690.142857  29.555556"
      ]
     },
     "execution_count": 96,
     "metadata": {},
     "output_type": "execute_result"
    }
   ],
   "source": [
    "mean_salary=salaries_df.groupby(['sex','rank'])['salary','phd'].mean()\n",
    "mean_salary"
   ]
  },
  {
   "cell_type": "code",
   "execution_count": null,
   "id": "906ca9b8-32c0-43b4-bb7b-455f3f324f15",
   "metadata": {},
   "outputs": [],
   "source": []
  },
  {
   "cell_type": "code",
   "execution_count": 18,
   "id": "bd1d9828-642a-4da6-b1c0-cd01cbd64310",
   "metadata": {},
   "outputs": [
    {
     "name": "stderr",
     "output_type": "stream",
     "text": [
      "C:\\Users\\HP\\AppData\\Local\\Temp\\ipykernel_11912\\2271712821.py:1: FutureWarning: Indexing with multiple keys (implicitly converted to a tuple of keys) will be deprecated, use a list instead.\n",
      "  mean_count=salaries_df.groupby(['sex','rank'])['salary','phd'].count()\n"
     ]
    }
   ],
   "source": [
    "mean_count=salaries_df.groupby(['sex','rank'])['salary','phd'].count()\n"
   ]
  },
  {
   "cell_type": "code",
   "execution_count": 128,
   "id": "37b97446-8814-40f9-afff-45c3fb9d259f",
   "metadata": {},
   "outputs": [
    {
     "data": {
      "text/plain": [
       "rank\n",
       "AssocProf     88512.800000\n",
       "AsstProf      78049.909091\n",
       "Prof         121967.611111\n",
       "Name: salary, dtype: float64"
      ]
     },
     "execution_count": 128,
     "metadata": {},
     "output_type": "execute_result"
    }
   ],
   "source": [
    "mean_salary=salaries_df.groupby(['sex','rank'])['salary'].mean()\n",
    "mean_salary.Female"
   ]
  },
  {
   "cell_type": "code",
   "execution_count": 130,
   "id": "2f12961f-b3c9-40fa-b6fb-77c56b44eece",
   "metadata": {},
   "outputs": [
    {
     "data": {
      "text/html": [
       "<div>\n",
       "<style scoped>\n",
       "    .dataframe tbody tr th:only-of-type {\n",
       "        vertical-align: middle;\n",
       "    }\n",
       "\n",
       "    .dataframe tbody tr th {\n",
       "        vertical-align: top;\n",
       "    }\n",
       "\n",
       "    .dataframe thead tr th {\n",
       "        text-align: left;\n",
       "    }\n",
       "</style>\n",
       "<table border=\"1\" class=\"dataframe\">\n",
       "  <thead>\n",
       "    <tr>\n",
       "      <th>rank</th>\n",
       "      <th colspan=\"4\" halign=\"left\">AssocProf</th>\n",
       "      <th colspan=\"4\" halign=\"left\">AsstProf</th>\n",
       "      <th colspan=\"4\" halign=\"left\">Prof</th>\n",
       "    </tr>\n",
       "    <tr>\n",
       "      <th>sex</th>\n",
       "      <th colspan=\"2\" halign=\"left\">Female</th>\n",
       "      <th colspan=\"2\" halign=\"left\">Male</th>\n",
       "      <th colspan=\"2\" halign=\"left\">Female</th>\n",
       "      <th colspan=\"2\" halign=\"left\">Male</th>\n",
       "      <th colspan=\"2\" halign=\"left\">Female</th>\n",
       "      <th colspan=\"2\" halign=\"left\">Male</th>\n",
       "    </tr>\n",
       "    <tr>\n",
       "      <th>discipline</th>\n",
       "      <th>A</th>\n",
       "      <th>B</th>\n",
       "      <th>A</th>\n",
       "      <th>B</th>\n",
       "      <th>A</th>\n",
       "      <th>B</th>\n",
       "      <th>A</th>\n",
       "      <th>B</th>\n",
       "      <th>A</th>\n",
       "      <th>B</th>\n",
       "      <th>A</th>\n",
       "      <th>B</th>\n",
       "    </tr>\n",
       "  </thead>\n",
       "  <tbody>\n",
       "    <tr>\n",
       "      <th>phd</th>\n",
       "      <td>18.666667</td>\n",
       "      <td>13.500000</td>\n",
       "      <td>20.0</td>\n",
       "      <td>10.5</td>\n",
       "      <td>5.4</td>\n",
       "      <td>5.833333</td>\n",
       "      <td>2.333333</td>\n",
       "      <td>5.4</td>\n",
       "      <td>26.500</td>\n",
       "      <td>22.571429</td>\n",
       "      <td>30.500000</td>\n",
       "      <td>29.083333</td>\n",
       "    </tr>\n",
       "    <tr>\n",
       "      <th>salary</th>\n",
       "      <td>71228.000000</td>\n",
       "      <td>99435.666667</td>\n",
       "      <td>81285.0</td>\n",
       "      <td>113404.0</td>\n",
       "      <td>73020.0</td>\n",
       "      <td>82241.500000</td>\n",
       "      <td>82000.000000</td>\n",
       "      <td>88268.8</td>\n",
       "      <td>109631.875</td>\n",
       "      <td>132672.222222</td>\n",
       "      <td>110743.538462</td>\n",
       "      <td>141203.333333</td>\n",
       "    </tr>\n",
       "    <tr>\n",
       "      <th>service</th>\n",
       "      <td>18.000000</td>\n",
       "      <td>8.833333</td>\n",
       "      <td>17.0</td>\n",
       "      <td>7.5</td>\n",
       "      <td>3.0</td>\n",
       "      <td>2.166667</td>\n",
       "      <td>0.666667</td>\n",
       "      <td>2.4</td>\n",
       "      <td>16.125</td>\n",
       "      <td>18.000000</td>\n",
       "      <td>23.615385</td>\n",
       "      <td>25.416667</td>\n",
       "    </tr>\n",
       "  </tbody>\n",
       "</table>\n",
       "</div>"
      ],
      "text/plain": [
       "rank           AssocProf                                  AsstProf  \\\n",
       "sex               Female                   Male             Female   \n",
       "discipline             A             B        A         B        A   \n",
       "phd            18.666667     13.500000     20.0      10.5      5.4   \n",
       "salary      71228.000000  99435.666667  81285.0  113404.0  73020.0   \n",
       "service        18.000000      8.833333     17.0       7.5      3.0   \n",
       "\n",
       "rank                                                   Prof                 \\\n",
       "sex                               Male               Female                  \n",
       "discipline             B             A        B           A              B   \n",
       "phd             5.833333      2.333333      5.4      26.500      22.571429   \n",
       "salary      82241.500000  82000.000000  88268.8  109631.875  132672.222222   \n",
       "service         2.166667      0.666667      2.4      16.125      18.000000   \n",
       "\n",
       "rank                                      \n",
       "sex                  Male                 \n",
       "discipline              A              B  \n",
       "phd             30.500000      29.083333  \n",
       "salary      110743.538462  141203.333333  \n",
       "service         23.615385      25.416667  "
      ]
     },
     "execution_count": 130,
     "metadata": {},
     "output_type": "execute_result"
    }
   ],
   "source": [
    "pivot_values=salaries_df.pivot_table(values=['salary','phd','service'],\n",
    "                                    columns=['rank','sex','discipline'],\n",
    "                                    aggfunc='mean')\n",
    "pivot_values"
   ]
  },
  {
   "cell_type": "code",
   "execution_count": 131,
   "id": "ef2b5460-522e-4a4e-af75-c8263fc947f7",
   "metadata": {},
   "outputs": [
    {
     "data": {
      "text/html": [
       "<div>\n",
       "<style scoped>\n",
       "    .dataframe tbody tr th:only-of-type {\n",
       "        vertical-align: middle;\n",
       "    }\n",
       "\n",
       "    .dataframe tbody tr th {\n",
       "        vertical-align: top;\n",
       "    }\n",
       "\n",
       "    .dataframe thead tr th {\n",
       "        text-align: left;\n",
       "    }\n",
       "</style>\n",
       "<table border=\"1\" class=\"dataframe\">\n",
       "  <thead>\n",
       "    <tr>\n",
       "      <th>rank</th>\n",
       "      <th colspan=\"4\" halign=\"left\">AssocProf</th>\n",
       "      <th colspan=\"4\" halign=\"left\">AsstProf</th>\n",
       "      <th colspan=\"4\" halign=\"left\">Prof</th>\n",
       "    </tr>\n",
       "    <tr>\n",
       "      <th>sex</th>\n",
       "      <th colspan=\"2\" halign=\"left\">Female</th>\n",
       "      <th colspan=\"2\" halign=\"left\">Male</th>\n",
       "      <th colspan=\"2\" halign=\"left\">Female</th>\n",
       "      <th colspan=\"2\" halign=\"left\">Male</th>\n",
       "      <th colspan=\"2\" halign=\"left\">Female</th>\n",
       "      <th colspan=\"2\" halign=\"left\">Male</th>\n",
       "    </tr>\n",
       "    <tr>\n",
       "      <th>discipline</th>\n",
       "      <th>A</th>\n",
       "      <th>B</th>\n",
       "      <th>A</th>\n",
       "      <th>B</th>\n",
       "      <th>A</th>\n",
       "      <th>B</th>\n",
       "      <th>A</th>\n",
       "      <th>B</th>\n",
       "      <th>A</th>\n",
       "      <th>B</th>\n",
       "      <th>A</th>\n",
       "      <th>B</th>\n",
       "    </tr>\n",
       "  </thead>\n",
       "  <tbody>\n",
       "    <tr>\n",
       "      <th>phd</th>\n",
       "      <td>3.0</td>\n",
       "      <td>6.000000</td>\n",
       "      <td>1.0</td>\n",
       "      <td>2.0</td>\n",
       "      <td>5.0</td>\n",
       "      <td>6.0</td>\n",
       "      <td>3.0</td>\n",
       "      <td>5.0</td>\n",
       "      <td>8.000</td>\n",
       "      <td>7.000000</td>\n",
       "      <td>12.000000</td>\n",
       "      <td>12.000000</td>\n",
       "    </tr>\n",
       "    <tr>\n",
       "      <th>salary</th>\n",
       "      <td>71228.0</td>\n",
       "      <td>99435.666667</td>\n",
       "      <td>81285.0</td>\n",
       "      <td>113404.0</td>\n",
       "      <td>73020.0</td>\n",
       "      <td>82241.5</td>\n",
       "      <td>82000.0</td>\n",
       "      <td>88268.8</td>\n",
       "      <td>109631.875</td>\n",
       "      <td>132672.222222</td>\n",
       "      <td>110743.538462</td>\n",
       "      <td>141203.333333</td>\n",
       "    </tr>\n",
       "    <tr>\n",
       "      <th>service</th>\n",
       "      <td>8.0</td>\n",
       "      <td>6.000000</td>\n",
       "      <td>17.0</td>\n",
       "      <td>7.0</td>\n",
       "      <td>1.0</td>\n",
       "      <td>0.0</td>\n",
       "      <td>0.0</td>\n",
       "      <td>0.0</td>\n",
       "      <td>0.000</td>\n",
       "      <td>10.000000</td>\n",
       "      <td>6.000000</td>\n",
       "      <td>3.000000</td>\n",
       "    </tr>\n",
       "  </tbody>\n",
       "</table>\n",
       "</div>"
      ],
      "text/plain": [
       "rank       AssocProf                                  AsstProf           \\\n",
       "sex           Female                   Male             Female            \n",
       "discipline         A             B        A         B        A        B   \n",
       "phd              3.0      6.000000      1.0       2.0      5.0      6.0   \n",
       "salary       71228.0  99435.666667  81285.0  113404.0  73020.0  82241.5   \n",
       "service          8.0      6.000000     17.0       7.0      1.0      0.0   \n",
       "\n",
       "rank                                Prof                                \\\n",
       "sex            Male               Female                          Male   \n",
       "discipline        A        B           A              B              A   \n",
       "phd             3.0      5.0       8.000       7.000000      12.000000   \n",
       "salary      82000.0  88268.8  109631.875  132672.222222  110743.538462   \n",
       "service         0.0      0.0       0.000      10.000000       6.000000   \n",
       "\n",
       "rank                       \n",
       "sex                        \n",
       "discipline              B  \n",
       "phd             12.000000  \n",
       "salary      141203.333333  \n",
       "service          3.000000  "
      ]
     },
     "execution_count": 131,
     "metadata": {},
     "output_type": "execute_result"
    }
   ],
   "source": [
    "pivot_values=salaries_df.pivot_table(values=['salary','phd','service'],\n",
    "                                    columns=['rank','sex','discipline'],\n",
    "                                    aggfunc={'salary':'mean',\n",
    "                                    'phd':'count',\n",
    "                                    'service':'min'})\n",
    "pivot_values"
   ]
  },
  {
   "cell_type": "code",
   "execution_count": 132,
   "id": "b1c0e6cc-f94d-41a6-8b91-67019d60fbc9",
   "metadata": {},
   "outputs": [
    {
     "data": {
      "text/html": [
       "<div>\n",
       "<style scoped>\n",
       "    .dataframe tbody tr th:only-of-type {\n",
       "        vertical-align: middle;\n",
       "    }\n",
       "\n",
       "    .dataframe tbody tr th {\n",
       "        vertical-align: top;\n",
       "    }\n",
       "\n",
       "    .dataframe thead th {\n",
       "        text-align: right;\n",
       "    }\n",
       "</style>\n",
       "<table border=\"1\" class=\"dataframe\">\n",
       "  <thead>\n",
       "    <tr style=\"text-align: right;\">\n",
       "      <th></th>\n",
       "      <th>rank</th>\n",
       "      <th>discipline</th>\n",
       "      <th>phd</th>\n",
       "      <th>service</th>\n",
       "      <th>sex</th>\n",
       "      <th>salary</th>\n",
       "    </tr>\n",
       "  </thead>\n",
       "  <tbody>\n",
       "    <tr>\n",
       "      <th>0</th>\n",
       "      <td>False</td>\n",
       "      <td>False</td>\n",
       "      <td>False</td>\n",
       "      <td>False</td>\n",
       "      <td>False</td>\n",
       "      <td>False</td>\n",
       "    </tr>\n",
       "    <tr>\n",
       "      <th>1</th>\n",
       "      <td>False</td>\n",
       "      <td>False</td>\n",
       "      <td>False</td>\n",
       "      <td>False</td>\n",
       "      <td>False</td>\n",
       "      <td>False</td>\n",
       "    </tr>\n",
       "    <tr>\n",
       "      <th>2</th>\n",
       "      <td>False</td>\n",
       "      <td>False</td>\n",
       "      <td>False</td>\n",
       "      <td>False</td>\n",
       "      <td>False</td>\n",
       "      <td>False</td>\n",
       "    </tr>\n",
       "    <tr>\n",
       "      <th>3</th>\n",
       "      <td>False</td>\n",
       "      <td>False</td>\n",
       "      <td>False</td>\n",
       "      <td>False</td>\n",
       "      <td>False</td>\n",
       "      <td>False</td>\n",
       "    </tr>\n",
       "    <tr>\n",
       "      <th>4</th>\n",
       "      <td>False</td>\n",
       "      <td>False</td>\n",
       "      <td>False</td>\n",
       "      <td>False</td>\n",
       "      <td>False</td>\n",
       "      <td>False</td>\n",
       "    </tr>\n",
       "    <tr>\n",
       "      <th>...</th>\n",
       "      <td>...</td>\n",
       "      <td>...</td>\n",
       "      <td>...</td>\n",
       "      <td>...</td>\n",
       "      <td>...</td>\n",
       "      <td>...</td>\n",
       "    </tr>\n",
       "    <tr>\n",
       "      <th>73</th>\n",
       "      <td>False</td>\n",
       "      <td>False</td>\n",
       "      <td>False</td>\n",
       "      <td>False</td>\n",
       "      <td>False</td>\n",
       "      <td>False</td>\n",
       "    </tr>\n",
       "    <tr>\n",
       "      <th>74</th>\n",
       "      <td>False</td>\n",
       "      <td>False</td>\n",
       "      <td>False</td>\n",
       "      <td>False</td>\n",
       "      <td>False</td>\n",
       "      <td>False</td>\n",
       "    </tr>\n",
       "    <tr>\n",
       "      <th>75</th>\n",
       "      <td>False</td>\n",
       "      <td>False</td>\n",
       "      <td>False</td>\n",
       "      <td>False</td>\n",
       "      <td>False</td>\n",
       "      <td>False</td>\n",
       "    </tr>\n",
       "    <tr>\n",
       "      <th>76</th>\n",
       "      <td>False</td>\n",
       "      <td>False</td>\n",
       "      <td>False</td>\n",
       "      <td>False</td>\n",
       "      <td>False</td>\n",
       "      <td>False</td>\n",
       "    </tr>\n",
       "    <tr>\n",
       "      <th>77</th>\n",
       "      <td>False</td>\n",
       "      <td>False</td>\n",
       "      <td>False</td>\n",
       "      <td>False</td>\n",
       "      <td>False</td>\n",
       "      <td>False</td>\n",
       "    </tr>\n",
       "  </tbody>\n",
       "</table>\n",
       "<p>78 rows × 6 columns</p>\n",
       "</div>"
      ],
      "text/plain": [
       "     rank  discipline    phd  service    sex  salary\n",
       "0   False       False  False    False  False   False\n",
       "1   False       False  False    False  False   False\n",
       "2   False       False  False    False  False   False\n",
       "3   False       False  False    False  False   False\n",
       "4   False       False  False    False  False   False\n",
       "..    ...         ...    ...      ...    ...     ...\n",
       "73  False       False  False    False  False   False\n",
       "74  False       False  False    False  False   False\n",
       "75  False       False  False    False  False   False\n",
       "76  False       False  False    False  False   False\n",
       "77  False       False  False    False  False   False\n",
       "\n",
       "[78 rows x 6 columns]"
      ]
     },
     "execution_count": 132,
     "metadata": {},
     "output_type": "execute_result"
    }
   ],
   "source": [
    "salaries_df.isna()"
   ]
  },
  {
   "cell_type": "code",
   "execution_count": 136,
   "id": "21f09a5d-5c08-4fbb-8eed-94edfb11da8b",
   "metadata": {},
   "outputs": [
    {
     "data": {
      "text/plain": [
       "rank          0\n",
       "discipline    5\n",
       "phd           3\n",
       "service       0\n",
       "sex           0\n",
       "salary        0\n",
       "dtype: int64"
      ]
     },
     "execution_count": 136,
     "metadata": {},
     "output_type": "execute_result"
    }
   ],
   "source": [
    "salaries_df.isna().sum()"
   ]
  },
  {
   "cell_type": "code",
   "execution_count": 137,
   "id": "e1d0927d-94c2-49e0-9887-d917cc92026c",
   "metadata": {},
   "outputs": [
    {
     "data": {
      "text/plain": [
       "'B'"
      ]
     },
     "execution_count": 137,
     "metadata": {},
     "output_type": "execute_result"
    }
   ],
   "source": [
    "mode_dc=salaries_df['discipline'].mode()[0]\n",
    "mode_dc"
   ]
  },
  {
   "cell_type": "code",
   "execution_count": 139,
   "id": "df92c85f-b078-4f57-9ad0-27d1b5d5be19",
   "metadata": {},
   "outputs": [
    {
     "data": {
      "text/plain": [
       "19.63"
      ]
     },
     "execution_count": 139,
     "metadata": {},
     "output_type": "execute_result"
    }
   ],
   "source": [
    "mean_phd=round(salaries_df['phd'].mean(),2)\n",
    "mean_phd"
   ]
  },
  {
   "cell_type": "code",
   "execution_count": 141,
   "id": "b85cc068-154a-42b9-a9c3-7b35ab0d0832",
   "metadata": {},
   "outputs": [],
   "source": [
    "salaries_df['discipline'].fillna(mode_dc,inplace=True)"
   ]
  },
  {
   "cell_type": "code",
   "execution_count": 142,
   "id": "c80da1df-e8bd-482c-8609-abf497092351",
   "metadata": {},
   "outputs": [],
   "source": [
    "salaries_df['phd'].fillna(mean_phd,inplace=True)"
   ]
  },
  {
   "cell_type": "code",
   "execution_count": null,
   "id": "28e3add2-4d66-4223-bedf-6bbc3dfaaeb5",
   "metadata": {},
   "outputs": [],
   "source": []
  },
  {
   "cell_type": "code",
   "execution_count": 143,
   "id": "d1cf4fde-326a-4bc6-8bb9-ef26f5b10ab9",
   "metadata": {},
   "outputs": [
    {
     "data": {
      "text/plain": [
       "rank          0\n",
       "discipline    0\n",
       "phd           0\n",
       "service       0\n",
       "sex           0\n",
       "salary        0\n",
       "dtype: int64"
      ]
     },
     "execution_count": 143,
     "metadata": {},
     "output_type": "execute_result"
    }
   ],
   "source": [
    "salaries_df.isna().sum()"
   ]
  },
  {
   "cell_type": "code",
   "execution_count": 20,
   "id": "e68b2157-6ab6-4f67-aa5f-2bf89f5e362d",
   "metadata": {},
   "outputs": [
    {
     "data": {
      "text/html": [
       "<div>\n",
       "<style scoped>\n",
       "    .dataframe tbody tr th:only-of-type {\n",
       "        vertical-align: middle;\n",
       "    }\n",
       "\n",
       "    .dataframe tbody tr th {\n",
       "        vertical-align: top;\n",
       "    }\n",
       "\n",
       "    .dataframe thead th {\n",
       "        text-align: right;\n",
       "    }\n",
       "</style>\n",
       "<table border=\"1\" class=\"dataframe\">\n",
       "  <thead>\n",
       "    <tr style=\"text-align: right;\">\n",
       "      <th></th>\n",
       "      <th>PassengerId</th>\n",
       "      <th>Survived</th>\n",
       "      <th>Pclass</th>\n",
       "      <th>Name</th>\n",
       "      <th>Sex</th>\n",
       "      <th>Age</th>\n",
       "      <th>SibSp</th>\n",
       "      <th>Parch</th>\n",
       "      <th>Ticket</th>\n",
       "      <th>Fare</th>\n",
       "      <th>Cabin</th>\n",
       "      <th>Embarked</th>\n",
       "    </tr>\n",
       "  </thead>\n",
       "  <tbody>\n",
       "    <tr>\n",
       "      <th>0</th>\n",
       "      <td>1</td>\n",
       "      <td>0</td>\n",
       "      <td>3</td>\n",
       "      <td>Braund, Mr. Owen Harris</td>\n",
       "      <td>male</td>\n",
       "      <td>22.0</td>\n",
       "      <td>1</td>\n",
       "      <td>0</td>\n",
       "      <td>A/5 21171</td>\n",
       "      <td>7.2500</td>\n",
       "      <td>NaN</td>\n",
       "      <td>S</td>\n",
       "    </tr>\n",
       "    <tr>\n",
       "      <th>1</th>\n",
       "      <td>2</td>\n",
       "      <td>1</td>\n",
       "      <td>1</td>\n",
       "      <td>Cumings, Mrs. John Bradley (Florence Briggs Th...</td>\n",
       "      <td>female</td>\n",
       "      <td>38.0</td>\n",
       "      <td>1</td>\n",
       "      <td>0</td>\n",
       "      <td>PC 17599</td>\n",
       "      <td>71.2833</td>\n",
       "      <td>C85</td>\n",
       "      <td>C</td>\n",
       "    </tr>\n",
       "    <tr>\n",
       "      <th>2</th>\n",
       "      <td>3</td>\n",
       "      <td>1</td>\n",
       "      <td>3</td>\n",
       "      <td>Heikkinen, Miss. Laina</td>\n",
       "      <td>female</td>\n",
       "      <td>26.0</td>\n",
       "      <td>0</td>\n",
       "      <td>0</td>\n",
       "      <td>STON/O2. 3101282</td>\n",
       "      <td>7.9250</td>\n",
       "      <td>NaN</td>\n",
       "      <td>S</td>\n",
       "    </tr>\n",
       "    <tr>\n",
       "      <th>3</th>\n",
       "      <td>4</td>\n",
       "      <td>1</td>\n",
       "      <td>1</td>\n",
       "      <td>Futrelle, Mrs. Jacques Heath (Lily May Peel)</td>\n",
       "      <td>female</td>\n",
       "      <td>35.0</td>\n",
       "      <td>1</td>\n",
       "      <td>0</td>\n",
       "      <td>113803</td>\n",
       "      <td>53.1000</td>\n",
       "      <td>C123</td>\n",
       "      <td>S</td>\n",
       "    </tr>\n",
       "    <tr>\n",
       "      <th>4</th>\n",
       "      <td>5</td>\n",
       "      <td>0</td>\n",
       "      <td>3</td>\n",
       "      <td>Allen, Mr. William Henry</td>\n",
       "      <td>male</td>\n",
       "      <td>35.0</td>\n",
       "      <td>0</td>\n",
       "      <td>0</td>\n",
       "      <td>373450</td>\n",
       "      <td>8.0500</td>\n",
       "      <td>NaN</td>\n",
       "      <td>S</td>\n",
       "    </tr>\n",
       "    <tr>\n",
       "      <th>...</th>\n",
       "      <td>...</td>\n",
       "      <td>...</td>\n",
       "      <td>...</td>\n",
       "      <td>...</td>\n",
       "      <td>...</td>\n",
       "      <td>...</td>\n",
       "      <td>...</td>\n",
       "      <td>...</td>\n",
       "      <td>...</td>\n",
       "      <td>...</td>\n",
       "      <td>...</td>\n",
       "      <td>...</td>\n",
       "    </tr>\n",
       "    <tr>\n",
       "      <th>886</th>\n",
       "      <td>887</td>\n",
       "      <td>0</td>\n",
       "      <td>2</td>\n",
       "      <td>Montvila, Rev. Juozas</td>\n",
       "      <td>male</td>\n",
       "      <td>27.0</td>\n",
       "      <td>0</td>\n",
       "      <td>0</td>\n",
       "      <td>211536</td>\n",
       "      <td>13.0000</td>\n",
       "      <td>NaN</td>\n",
       "      <td>S</td>\n",
       "    </tr>\n",
       "    <tr>\n",
       "      <th>887</th>\n",
       "      <td>888</td>\n",
       "      <td>1</td>\n",
       "      <td>1</td>\n",
       "      <td>Graham, Miss. Margaret Edith</td>\n",
       "      <td>female</td>\n",
       "      <td>19.0</td>\n",
       "      <td>0</td>\n",
       "      <td>0</td>\n",
       "      <td>112053</td>\n",
       "      <td>30.0000</td>\n",
       "      <td>B42</td>\n",
       "      <td>S</td>\n",
       "    </tr>\n",
       "    <tr>\n",
       "      <th>888</th>\n",
       "      <td>889</td>\n",
       "      <td>0</td>\n",
       "      <td>3</td>\n",
       "      <td>Johnston, Miss. Catherine Helen \"Carrie\"</td>\n",
       "      <td>female</td>\n",
       "      <td>NaN</td>\n",
       "      <td>1</td>\n",
       "      <td>2</td>\n",
       "      <td>W./C. 6607</td>\n",
       "      <td>23.4500</td>\n",
       "      <td>NaN</td>\n",
       "      <td>S</td>\n",
       "    </tr>\n",
       "    <tr>\n",
       "      <th>889</th>\n",
       "      <td>890</td>\n",
       "      <td>1</td>\n",
       "      <td>1</td>\n",
       "      <td>Behr, Mr. Karl Howell</td>\n",
       "      <td>male</td>\n",
       "      <td>26.0</td>\n",
       "      <td>0</td>\n",
       "      <td>0</td>\n",
       "      <td>111369</td>\n",
       "      <td>30.0000</td>\n",
       "      <td>C148</td>\n",
       "      <td>C</td>\n",
       "    </tr>\n",
       "    <tr>\n",
       "      <th>890</th>\n",
       "      <td>891</td>\n",
       "      <td>0</td>\n",
       "      <td>3</td>\n",
       "      <td>Dooley, Mr. Patrick</td>\n",
       "      <td>male</td>\n",
       "      <td>32.0</td>\n",
       "      <td>0</td>\n",
       "      <td>0</td>\n",
       "      <td>370376</td>\n",
       "      <td>7.7500</td>\n",
       "      <td>NaN</td>\n",
       "      <td>Q</td>\n",
       "    </tr>\n",
       "  </tbody>\n",
       "</table>\n",
       "<p>891 rows × 12 columns</p>\n",
       "</div>"
      ],
      "text/plain": [
       "     PassengerId  Survived  Pclass  \\\n",
       "0              1         0       3   \n",
       "1              2         1       1   \n",
       "2              3         1       3   \n",
       "3              4         1       1   \n",
       "4              5         0       3   \n",
       "..           ...       ...     ...   \n",
       "886          887         0       2   \n",
       "887          888         1       1   \n",
       "888          889         0       3   \n",
       "889          890         1       1   \n",
       "890          891         0       3   \n",
       "\n",
       "                                                  Name     Sex   Age  SibSp  \\\n",
       "0                              Braund, Mr. Owen Harris    male  22.0      1   \n",
       "1    Cumings, Mrs. John Bradley (Florence Briggs Th...  female  38.0      1   \n",
       "2                               Heikkinen, Miss. Laina  female  26.0      0   \n",
       "3         Futrelle, Mrs. Jacques Heath (Lily May Peel)  female  35.0      1   \n",
       "4                             Allen, Mr. William Henry    male  35.0      0   \n",
       "..                                                 ...     ...   ...    ...   \n",
       "886                              Montvila, Rev. Juozas    male  27.0      0   \n",
       "887                       Graham, Miss. Margaret Edith  female  19.0      0   \n",
       "888           Johnston, Miss. Catherine Helen \"Carrie\"  female   NaN      1   \n",
       "889                              Behr, Mr. Karl Howell    male  26.0      0   \n",
       "890                                Dooley, Mr. Patrick    male  32.0      0   \n",
       "\n",
       "     Parch            Ticket     Fare Cabin Embarked  \n",
       "0        0         A/5 21171   7.2500   NaN        S  \n",
       "1        0          PC 17599  71.2833   C85        C  \n",
       "2        0  STON/O2. 3101282   7.9250   NaN        S  \n",
       "3        0            113803  53.1000  C123        S  \n",
       "4        0            373450   8.0500   NaN        S  \n",
       "..     ...               ...      ...   ...      ...  \n",
       "886      0            211536  13.0000   NaN        S  \n",
       "887      0            112053  30.0000   B42        S  \n",
       "888      2        W./C. 6607  23.4500   NaN        S  \n",
       "889      0            111369  30.0000  C148        C  \n",
       "890      0            370376   7.7500   NaN        Q  \n",
       "\n",
       "[891 rows x 12 columns]"
      ]
     },
     "execution_count": 20,
     "metadata": {},
     "output_type": "execute_result"
    }
   ],
   "source": [
    "train_df=pd.read_csv(r\"C:\\Users\\HP\\Downloads\\train1.csv\")\n",
    "train_df"
   ]
  },
  {
   "cell_type": "code",
   "execution_count": 145,
   "id": "c4ee7172-5fea-45eb-84b9-029504f2f715",
   "metadata": {},
   "outputs": [
    {
     "data": {
      "text/plain": [
       "PassengerId      0\n",
       "Survived         0\n",
       "Pclass           0\n",
       "Name             0\n",
       "Sex              0\n",
       "Age            177\n",
       "SibSp            0\n",
       "Parch            0\n",
       "Ticket           0\n",
       "Fare             0\n",
       "Cabin          687\n",
       "Embarked         2\n",
       "dtype: int64"
      ]
     },
     "execution_count": 145,
     "metadata": {},
     "output_type": "execute_result"
    }
   ],
   "source": [
    "train_df.isnull().sum()"
   ]
  },
  {
   "cell_type": "code",
   "execution_count": 146,
   "id": "d20324fb-d2f9-418e-a58d-aae05c71a28d",
   "metadata": {},
   "outputs": [
    {
     "data": {
      "text/plain": [
       "PassengerId      int64\n",
       "Survived         int64\n",
       "Pclass           int64\n",
       "Name            object\n",
       "Sex             object\n",
       "Age            float64\n",
       "SibSp            int64\n",
       "Parch            int64\n",
       "Ticket          object\n",
       "Fare           float64\n",
       "Cabin           object\n",
       "Embarked        object\n",
       "dtype: object"
      ]
     },
     "execution_count": 146,
     "metadata": {},
     "output_type": "execute_result"
    }
   ],
   "source": [
    "train_df.dtypes"
   ]
  },
  {
   "cell_type": "code",
   "execution_count": 147,
   "id": "57ebe4ce-5e46-45b0-8d2d-69d2dc82e6fa",
   "metadata": {},
   "outputs": [],
   "source": [
    "train_df['Cabin'].bfill(inplace=True)"
   ]
  },
  {
   "cell_type": "code",
   "execution_count": 148,
   "id": "2622ef19-4d43-494a-9305-08d9728875d1",
   "metadata": {},
   "outputs": [],
   "source": [
    "train_df['Cabin'].ffill(inplace=True)"
   ]
  },
  {
   "cell_type": "code",
   "execution_count": 150,
   "id": "f20fe978-c7d7-4990-a64f-7341cca2e73d",
   "metadata": {},
   "outputs": [
    {
     "data": {
      "text/plain": [
       "PassengerId      0\n",
       "Survived         0\n",
       "Pclass           0\n",
       "Name             0\n",
       "Sex              0\n",
       "Age            177\n",
       "SibSp            0\n",
       "Parch            0\n",
       "Ticket           0\n",
       "Fare             0\n",
       "Cabin            0\n",
       "Embarked         2\n",
       "dtype: int64"
      ]
     },
     "execution_count": 150,
     "metadata": {},
     "output_type": "execute_result"
    }
   ],
   "source": [
    "train_df.isnull().sum()"
   ]
  },
  {
   "cell_type": "code",
   "execution_count": 152,
   "id": "66f53505-a4e6-43cd-a2a9-0c64f4a693ab",
   "metadata": {},
   "outputs": [],
   "source": [
    "train_df['Embarked'].ffill(inplace=True)"
   ]
  },
  {
   "cell_type": "code",
   "execution_count": 153,
   "id": "b9e5e2a5-14ed-4e3f-9570-b0715535126a",
   "metadata": {},
   "outputs": [
    {
     "data": {
      "text/plain": [
       "PassengerId      0\n",
       "Survived         0\n",
       "Pclass           0\n",
       "Name             0\n",
       "Sex              0\n",
       "Age            177\n",
       "SibSp            0\n",
       "Parch            0\n",
       "Ticket           0\n",
       "Fare             0\n",
       "Cabin            0\n",
       "Embarked         0\n",
       "dtype: int64"
      ]
     },
     "execution_count": 153,
     "metadata": {},
     "output_type": "execute_result"
    }
   ],
   "source": [
    "train_df.isnull().sum()"
   ]
  },
  {
   "cell_type": "code",
   "execution_count": 154,
   "id": "1b15ccfe-8c16-4043-a61b-9317a3e21c80",
   "metadata": {},
   "outputs": [],
   "source": [
    "train_df['Age'].interpolate(method='linear',inplace=True)\n"
   ]
  },
  {
   "cell_type": "code",
   "execution_count": 155,
   "id": "6fb0aa1e-ecfb-41f6-b895-868dd2ff6ff7",
   "metadata": {},
   "outputs": [
    {
     "data": {
      "text/plain": [
       "PassengerId    0\n",
       "Survived       0\n",
       "Pclass         0\n",
       "Name           0\n",
       "Sex            0\n",
       "Age            0\n",
       "SibSp          0\n",
       "Parch          0\n",
       "Ticket         0\n",
       "Fare           0\n",
       "Cabin          0\n",
       "Embarked       0\n",
       "dtype: int64"
      ]
     },
     "execution_count": 155,
     "metadata": {},
     "output_type": "execute_result"
    }
   ],
   "source": [
    "train_df.isnull().sum()"
   ]
  },
  {
   "cell_type": "code",
   "execution_count": 32,
   "id": "1f2357a8-13fa-4ba4-9f0f-fa9833ddd795",
   "metadata": {},
   "outputs": [
    {
     "data": {
      "text/plain": [
       "577"
      ]
     },
     "execution_count": 32,
     "metadata": {},
     "output_type": "execute_result"
    }
   ],
   "source": [
    "male=train_df[train_df['Sex']=='male'].count()\n",
    "male['Sex']"
   ]
  },
  {
   "cell_type": "code",
   "execution_count": null,
   "id": "00412862-3fc0-4ee7-8468-6f913eac6a73",
   "metadata": {},
   "outputs": [],
   "source": []
  },
  {
   "cell_type": "code",
   "execution_count": 38,
   "id": "dbfb1ffb-aaab-4532-9602-ca97e954aaa8",
   "metadata": {},
   "outputs": [
    {
     "data": {
      "text/plain": [
       "Sex\n",
       "female    44.479818\n",
       "male      25.523893\n",
       "Name: Fare, dtype: float64"
      ]
     },
     "execution_count": 38,
     "metadata": {},
     "output_type": "execute_result"
    }
   ],
   "source": [
    "avg_price=train_df.groupby('Sex')['Fare'].mean()\n",
    "avg_price"
   ]
  },
  {
   "cell_type": "code",
   "execution_count": 76,
   "id": "8cf0ec22-dea6-490f-8d64-805d0244c54f",
   "metadata": {},
   "outputs": [],
   "source": [
    "import numpy as np"
   ]
  },
  {
   "cell_type": "code",
   "execution_count": 48,
   "id": "defcc636-e996-466b-b627-bc88bbcdbc10",
   "metadata": {},
   "outputs": [
    {
     "data": {
      "text/plain": [
       "array([1, 2, 3, 4, 5, 6, 7, 8, 0])"
      ]
     },
     "execution_count": 48,
     "metadata": {},
     "output_type": "execute_result"
    }
   ],
   "source": [
    "arr=[1,2,3,4,5,6,7,8,0]\n",
    "arr=np.array(arr)\n",
    "arr"
   ]
  },
  {
   "cell_type": "code",
   "execution_count": 49,
   "id": "81587d90-1c16-469c-8195-0a9d635a8840",
   "metadata": {},
   "outputs": [
    {
     "data": {
      "text/plain": [
       "array([1, 2, 3, 4, 5, 6, 7, 8, 0])"
      ]
     },
     "execution_count": 49,
     "metadata": {},
     "output_type": "execute_result"
    }
   ],
   "source": [
    "arr_ser=pd.Series(arr)\n",
    "arr_ser.values"
   ]
  },
  {
   "cell_type": "code",
   "execution_count": 50,
   "id": "04dc0f9f-30c0-4cc8-a016-8dd76ba3c386",
   "metadata": {},
   "outputs": [
    {
     "data": {
      "text/plain": [
       "array([1, 2, 3, 4, 5, 6, 7, 8, 0])"
      ]
     },
     "execution_count": 50,
     "metadata": {},
     "output_type": "execute_result"
    }
   ],
   "source": [
    "arr"
   ]
  },
  {
   "cell_type": "code",
   "execution_count": 51,
   "id": "26c31687-1e10-4b1d-87d9-5262975234a7",
   "metadata": {},
   "outputs": [
    {
     "data": {
      "text/plain": [
       "1"
      ]
     },
     "execution_count": 51,
     "metadata": {},
     "output_type": "execute_result"
    }
   ],
   "source": [
    "arr.ndim"
   ]
  },
  {
   "cell_type": "code",
   "execution_count": 52,
   "id": "4986430a-1f62-49da-9893-65b52fdef40d",
   "metadata": {},
   "outputs": [
    {
     "data": {
      "text/plain": [
       "(9,)"
      ]
     },
     "execution_count": 52,
     "metadata": {},
     "output_type": "execute_result"
    }
   ],
   "source": [
    "arr.shape"
   ]
  },
  {
   "cell_type": "code",
   "execution_count": null,
   "id": "cd6350a0-60ab-4bc3-8315-aaece332912b",
   "metadata": {},
   "outputs": [],
   "source": [
    "arr.view()\n",
    "\n",
    "arr.size,arr.min(),arr.max()\n",
    "\n",
    "arr.mean(),arr.sum()"
   ]
  },
  {
   "cell_type": "code",
   "execution_count": 87,
   "id": "f59160bf-c5e6-4d2c-a47e-465b292d1f4f",
   "metadata": {},
   "outputs": [],
   "source": [
    "arr1=np.array([[1,2],\n",
    "      [3,4],\n",
    "      [5,6]])"
   ]
  },
  {
   "cell_type": "code",
   "execution_count": 88,
   "id": "f1827276-c3f9-40d8-96e4-d3c719795264",
   "metadata": {},
   "outputs": [
    {
     "data": {
      "text/plain": [
       "(3, 2)"
      ]
     },
     "execution_count": 88,
     "metadata": {},
     "output_type": "execute_result"
    }
   ],
   "source": [
    "arr1.shape"
   ]
  },
  {
   "cell_type": "code",
   "execution_count": 89,
   "id": "e8b999d4-1e3a-4cda-8c13-4454f192e98a",
   "metadata": {},
   "outputs": [
    {
     "data": {
      "text/plain": [
       "2"
      ]
     },
     "execution_count": 89,
     "metadata": {},
     "output_type": "execute_result"
    }
   ],
   "source": [
    "arr1.ndim"
   ]
  },
  {
   "cell_type": "code",
   "execution_count": 91,
   "id": "5d4e2d62-1c57-4190-aa25-07cd0881c582",
   "metadata": {},
   "outputs": [
    {
     "name": "stdout",
     "output_type": "stream",
     "text": [
      "[[[0. 0. 0. 0. 0. 0.]\n",
      "  [0. 0. 0. 0. 0. 0.]\n",
      "  [0. 0. 0. 0. 0. 0.]]]\n",
      "[1.10343781e-312 9.76118064e-313 1.16709769e-312 1.18831764e-312\n",
      " 1.18831764e-312 1.06099790e-312 9.76118064e-313 1.06099790e-312\n",
      " 1.18831764e-312 1.08221785e-312]\n",
      "[ 1.          1.31034483  1.62068966  1.93103448  2.24137931  2.55172414\n",
      "  2.86206897  3.17241379  3.48275862  3.79310345  4.10344828  4.4137931\n",
      "  4.72413793  5.03448276  5.34482759  5.65517241  5.96551724  6.27586207\n",
      "  6.5862069   6.89655172  7.20689655  7.51724138  7.82758621  8.13793103\n",
      "  8.44827586  8.75862069  9.06896552  9.37931034  9.68965517 10.        ]\n"
     ]
    }
   ],
   "source": [
    "print(np.zeros([1,3,6]))\n",
    "print(np.empty(10))\n",
    "print(np.linspace(1,10,num=30))"
   ]
  },
  {
   "cell_type": "code",
   "execution_count": 93,
   "id": "8d9c0bf7-2e3d-4446-9758-29ecbe37ede0",
   "metadata": {},
   "outputs": [
    {
     "data": {
      "text/plain": [
       "array([10, 11, 12, 13, 14, 15, 16, 17, 18, 19, 20])"
      ]
     },
     "execution_count": 93,
     "metadata": {},
     "output_type": "execute_result"
    }
   ],
   "source": [
    "d=np.arange(10,21)\n",
    "d"
   ]
  },
  {
   "cell_type": "code",
   "execution_count": 96,
   "id": "8caf56d0-dff6-4249-95f4-05ebfed2fe79",
   "metadata": {},
   "outputs": [
    {
     "data": {
      "text/plain": [
       "4"
      ]
     },
     "execution_count": 96,
     "metadata": {},
     "output_type": "execute_result"
    }
   ],
   "source": [
    "b=np.array([[[[3.0,3,2,3,3],[3,4,5,6,5]]]])\n",
    "b.ndim"
   ]
  },
  {
   "cell_type": "code",
   "execution_count": 101,
   "id": "708e9996-333f-4e65-ba16-5884f6f81cbf",
   "metadata": {},
   "outputs": [
    {
     "data": {
      "text/plain": [
       "array([[[[[[[3, 3, 2, 3, 3],\n",
       "            [3, 4, 5, 6, 5]]]]]]], dtype=int64)"
      ]
     },
     "execution_count": 101,
     "metadata": {},
     "output_type": "execute_result"
    }
   ],
   "source": [
    "v=np.array([[[[3.0,3,2,3,3],[3,4,5,6,5]]]],ndmin=7,dtype='int64')\n",
    "v"
   ]
  },
  {
   "cell_type": "code",
   "execution_count": 102,
   "id": "e247a684-3cca-49e6-802b-595ab26cfef7",
   "metadata": {},
   "outputs": [
    {
     "data": {
      "text/plain": [
       "7"
      ]
     },
     "execution_count": 102,
     "metadata": {},
     "output_type": "execute_result"
    }
   ],
   "source": [
    "v.ndim"
   ]
  },
  {
   "cell_type": "code",
   "execution_count": 109,
   "id": "409c2ee5-6d5c-4881-83ec-26f60f10c451",
   "metadata": {},
   "outputs": [
    {
     "data": {
      "text/plain": [
       "array([[3, 3, 2, 3, 3],\n",
       "       [3, 4, 5, 6, 5]])"
      ]
     },
     "execution_count": 109,
     "metadata": {},
     "output_type": "execute_result"
    }
   ],
   "source": [
    "k=np.array([[[[[[[3, 3, 2, 3, 3],\n",
    "            [3, 4, 5, 6, 5]]]]]]])\n",
    "k.reshape(10)\n",
    "k.reshape(2,5)"
   ]
  },
  {
   "cell_type": "code",
   "execution_count": 123,
   "id": "77563a25-7e90-4101-8ca8-50b54d4428e1",
   "metadata": {},
   "outputs": [],
   "source": [
    "arrr=np.array([1,4,3,2,5,6,4,5,8])"
   ]
  },
  {
   "cell_type": "code",
   "execution_count": 126,
   "id": "66cc59c9-4d5c-43d4-ba20-2c86c3c3f2c0",
   "metadata": {},
   "outputs": [
    {
     "data": {
      "text/plain": [
       "array([1, 2, 3, 4, 4, 5, 5, 6, 8])"
      ]
     },
     "execution_count": 126,
     "metadata": {},
     "output_type": "execute_result"
    }
   ],
   "source": [
    "np.sort(arrr,axis=None)"
   ]
  },
  {
   "cell_type": "code",
   "execution_count": 128,
   "id": "251ab2ab-0430-4751-9711-d042a22ca883",
   "metadata": {},
   "outputs": [
    {
     "data": {
      "text/plain": [
       "array([1, 4, 3, 2, 5, 6, 4, 5, 8, 5, 4, 8, 8, 5, 7, 4, 5, 8])"
      ]
     },
     "execution_count": 128,
     "metadata": {},
     "output_type": "execute_result"
    }
   ],
   "source": [
    "a=np.array([1,4,3,2,5,6,4,5,8])\n",
    "b=np.array([5,4,8,8,5,7,4,5,8])\n",
    "np.concatenate((a,b),axis=0)"
   ]
  },
  {
   "cell_type": "code",
   "execution_count": null,
   "id": "abff1687-29e4-4522-913b-cc6ad28c5254",
   "metadata": {},
   "outputs": [],
   "source": []
  },
  {
   "cell_type": "code",
   "execution_count": 132,
   "id": "ed7be19a-0681-47a7-b123-9661d84acad2",
   "metadata": {},
   "outputs": [
    {
     "data": {
      "text/plain": [
       "array([[1, 4, 3, 2, 5, 6, 4, 5, 8],\n",
       "       [5, 4, 8, 8, 5, 7, 4, 5, 8]])"
      ]
     },
     "execution_count": 132,
     "metadata": {},
     "output_type": "execute_result"
    }
   ],
   "source": [
    "np.concatenate([[a,b]],axis=1)"
   ]
  },
  {
   "cell_type": "code",
   "execution_count": 135,
   "id": "24f833eb-b52b-4568-9810-d19fd59720ac",
   "metadata": {},
   "outputs": [],
   "source": [
    "a=np.array([1, 4, 3, 2, 5, 6, 4, 5, 8, 5, 4, 8, 8, 5, 7, 4, 5, 8])"
   ]
  },
  {
   "cell_type": "code",
   "execution_count": 137,
   "id": "9de81988-9c88-4999-873a-cafadf2f1cc6",
   "metadata": {},
   "outputs": [
    {
     "data": {
      "text/plain": [
       "array([[4, 3, 2, 5]])"
      ]
     },
     "execution_count": 137,
     "metadata": {},
     "output_type": "execute_result"
    }
   ],
   "source": [
    "a2=a[np.newaxis,1:5]\n",
    "a2"
   ]
  },
  {
   "cell_type": "code",
   "execution_count": 139,
   "id": "5c3afac8-bc10-4e41-97b6-ec9a8bc98e4c",
   "metadata": {},
   "outputs": [
    {
     "data": {
      "text/plain": [
       "array([[4],\n",
       "       [3],\n",
       "       [2],\n",
       "       [5]])"
      ]
     },
     "execution_count": 139,
     "metadata": {},
     "output_type": "execute_result"
    }
   ],
   "source": [
    "a1=a[1:5,np.newaxis]\n",
    "a1"
   ]
  },
  {
   "cell_type": "code",
   "execution_count": 140,
   "id": "52e1bcee-4d81-4839-8015-945d82b3783f",
   "metadata": {},
   "outputs": [
    {
     "name": "stdout",
     "output_type": "stream",
     "text": [
      "(1, 18)\n",
      "2\n",
      "[[1 4 3 2 5 6 4 5 8 5 4 8 8 5 7 4 5 8]]\n"
     ]
    }
   ],
   "source": [
    "b=np.expand_dims(a,axis=0)\n",
    "print(b.shape)\n",
    "print(b.ndim)\n",
    "print(b)"
   ]
  },
  {
   "cell_type": "code",
   "execution_count": 143,
   "id": "aabf8bb4-2fa1-4955-8932-13b65a20f5fc",
   "metadata": {},
   "outputs": [
    {
     "data": {
      "text/plain": [
       "array([ 5,  6,  7,  8,  9, 20, 11, 12])"
      ]
     },
     "execution_count": 143,
     "metadata": {},
     "output_type": "execute_result"
    }
   ],
   "source": [
    "a=np.array([[1,2,3,4],[5,6,7,8],[9,20,11,12]])\n",
    "a[a>=5]"
   ]
  },
  {
   "cell_type": "code",
   "execution_count": 145,
   "id": "03ffc7e1-84d2-4632-8c11-7d3c165799e3",
   "metadata": {},
   "outputs": [
    {
     "data": {
      "text/plain": [
       "[True]"
      ]
     },
     "execution_count": 145,
     "metadata": {},
     "output_type": "execute_result"
    }
   ],
   "source": [
    "lst=[1,2,3,4]\n",
    "[lst<=[10]]"
   ]
  },
  {
   "cell_type": "code",
   "execution_count": 147,
   "id": "8c78e86d-55e6-41d4-bccc-f07d57983886",
   "metadata": {},
   "outputs": [
    {
     "data": {
      "text/plain": [
       "array([ 2,  4,  6,  8, 20, 12])"
      ]
     },
     "execution_count": 147,
     "metadata": {},
     "output_type": "execute_result"
    }
   ],
   "source": [
    "idv_by_two=a[a%2==0]\n",
    "idv_by_two"
   ]
  },
  {
   "cell_type": "code",
   "execution_count": 149,
   "id": "5037404a-ca6a-4e34-a49b-c7994a7b5b9a",
   "metadata": {},
   "outputs": [
    {
     "data": {
      "text/plain": [
       "array([ 6,  7,  8,  9, 11])"
      ]
     },
     "execution_count": 149,
     "metadata": {},
     "output_type": "execute_result"
    }
   ],
   "source": [
    "a[(a>5)&(a<12)&(a!=10)]"
   ]
  },
  {
   "cell_type": "code",
   "execution_count": 150,
   "id": "537c717b-0377-42cf-a429-d80aae1171e5",
   "metadata": {},
   "outputs": [
    {
     "data": {
      "text/plain": [
       "array([[ 1,  2,  3,  4],\n",
       "       [ 5,  6,  7,  8],\n",
       "       [ 9, 20, 11, 12]])"
      ]
     },
     "execution_count": 150,
     "metadata": {},
     "output_type": "execute_result"
    }
   ],
   "source": [
    "a"
   ]
  },
  {
   "cell_type": "code",
   "execution_count": 151,
   "id": "8c9c3a3b-774c-4a19-8ff5-e8b5f4a09de2",
   "metadata": {},
   "outputs": [
    {
     "name": "stdout",
     "output_type": "stream",
     "text": [
      "(9, 5)\n",
      "(20, 6)\n",
      "(11, 7)\n",
      "(12, 8)\n"
     ]
    }
   ],
   "source": [
    "list_of_co=zip(a[2],a[1])\n",
    "for coord in list_of_co:\n",
    "    print(coord)"
   ]
  },
  {
   "cell_type": "code",
   "execution_count": 152,
   "id": "fe04c767-a35f-42a5-9465-06e141528821",
   "metadata": {},
   "outputs": [
    {
     "name": "stdout",
     "output_type": "stream",
     "text": [
      "(array([0, 0, 0, 0, 1, 1, 1, 1, 2, 2, 2, 2], dtype=int64), array([0, 1, 2, 3, 0, 1, 2, 3, 0, 1, 2, 3], dtype=int64))\n"
     ]
    }
   ],
   "source": [
    "not_there=np.nonzero(a)\n",
    "print(not_there)"
   ]
  },
  {
   "cell_type": "code",
   "execution_count": null,
   "id": "6c45f417-c9b8-4f3f-a86d-17d2a11dd7c9",
   "metadata": {},
   "outputs": [],
   "source": []
  }
 ],
 "metadata": {
  "kernelspec": {
   "display_name": "Python 3 (ipykernel)",
   "language": "python",
   "name": "python3"
  },
  "language_info": {
   "codemirror_mode": {
    "name": "ipython",
    "version": 3
   },
   "file_extension": ".py",
   "mimetype": "text/x-python",
   "name": "python",
   "nbconvert_exporter": "python",
   "pygments_lexer": "ipython3",
   "version": "3.11.5"
  }
 },
 "nbformat": 4,
 "nbformat_minor": 5
}
